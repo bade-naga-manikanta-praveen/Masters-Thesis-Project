{
  "nbformat": 4,
  "nbformat_minor": 0,
  "metadata": {
    "colab": {
      "provenance": []
    },
    "kernelspec": {
      "name": "python3",
      "display_name": "Python 3"
    },
    "language_info": {
      "name": "python"
    }
  },
  "cells": [
    {
      "cell_type": "code",
      "execution_count": null,
      "metadata": {
        "colab": {
          "base_uri": "https://localhost:8080/"
        },
        "id": "SGG8cFBRrnYf",
        "outputId": "05d50476-6b1a-459c-da5f-879220b51008"
      },
      "outputs": [
        {
          "output_type": "stream",
          "name": "stdout",
          "text": [
            "PhysUnivBench_en_MCQ.json -> 393 questions\n"
          ]
        }
      ],
      "source": [
        "\n",
        "import requests\n",
        "\n",
        "repo = \"PrismaX/PhysUniBench\"\n",
        "filename = \"PhysUnivBench_en_MCQ.json\"\n",
        "url = f\"https://huggingface.co/datasets/{repo}/raw/main/{filename}\"\n",
        "\n",
        "r = requests.get(url, timeout=30)\n",
        "r.raise_for_status()\n",
        "data = r.json()\n",
        "print(f\"{filename} -> {len(data)} questions\")\n"
      ]
    },
    {
      "cell_type": "code",
      "source": [
        "import requests\n",
        "\n",
        "repo = \"PrismaX/PhysUniBench\"\n",
        "filename = \"PhysUnivBench_en_OE.json\"\n",
        "url = f\"https://huggingface.co/datasets/{repo}/raw/main/{filename}\"\n",
        "\n",
        "r = requests.get(url, timeout=30)\n",
        "r.raise_for_status()\n",
        "data = r.json()   # file is a JSON array\n",
        "print(f\"{filename} -> {len(data)} questions\")\n"
      ],
      "metadata": {
        "colab": {
          "base_uri": "https://localhost:8080/"
        },
        "id": "dOofF5sdrqsh",
        "outputId": "8ac64e40-d113-442a-8f11-cc7bf1ffcc79"
      },
      "execution_count": null,
      "outputs": [
        {
          "output_type": "stream",
          "name": "stdout",
          "text": [
            "PhysUnivBench_en_OE.json -> 629 questions\n"
          ]
        }
      ]
    },
    {
      "cell_type": "code",
      "source": [
        "\n",
        "import argparse\n",
        "import json\n",
        "import random\n",
        "import sys\n",
        "from io import StringIO\n",
        "from typing import Any, Dict, List, Optional\n",
        "\n",
        "HF_RAW_TEMPLATE = \"https://huggingface.co/datasets/{repo}/raw/{revision}/{filename}\"\n",
        "REPO = \"PrismaX/PhysUniBench\"\n",
        "REVISION = \"main\"\n",
        "FILENAME = \"PhysUnivBench_en_MCQ.json\"  # correct filename (note the 'v')\n",
        "\n",
        "def load_text_from_local(path: str) -> str:\n",
        "    with open(path, \"r\", encoding=\"utf-8\") as f:\n",
        "        return f.read()\n",
        "\n",
        "def load_text_from_remote(repo: str = REPO, filename: str = FILENAME, revision: str = REVISION, timeout: int = 30) -> str:\n",
        "    import requests\n",
        "    url = HF_RAW_TEMPLATE.format(repo=repo, filename=filename, revision=revision)\n",
        "    resp = requests.get(url, timeout=timeout)\n",
        "    resp.raise_for_status()\n",
        "    return resp.text\n",
        "\n",
        "def parse_json_or_jsonl(text: str) -> List[Dict[str, Any]]:\n",
        "    try:\n",
        "        data = json.loads(text)\n",
        "        if isinstance(data, list):\n",
        "            return data\n",
        "        if isinstance(data, dict):\n",
        "            for k in (\"data\", \"questions\", \"items\"):\n",
        "                if k in data and isinstance(data[k], list):\n",
        "                    return data[k]\n",
        "            list_fields = [(k, v) for k, v in data.items() if isinstance(v, list)]\n",
        "            if list_fields:\n",
        "                largest = max(list_fields, key=lambda kv: len(kv[1]))[1]\n",
        "                return largest\n",
        "            return [data]\n",
        "    except json.JSONDecodeError:\n",
        "        pass\n",
        "\n",
        "    items = []\n",
        "    for line in StringIO(text):\n",
        "        line = line.strip()\n",
        "        if not line:\n",
        "            continue\n",
        "        try:\n",
        "            obj = json.loads(line)\n",
        "            if isinstance(obj, dict):\n",
        "                for k in (\"data\",\"questions\",\"items\"):\n",
        "                    if k in obj and isinstance(obj[k], list):\n",
        "                        items.extend(obj[k])\n",
        "                        break\n",
        "                else:\n",
        "                    items.append(obj)\n",
        "            elif isinstance(obj, list):\n",
        "                items.extend(obj)\n",
        "        except json.JSONDecodeError:\n",
        "            continue\n",
        "    return items\n",
        "\n",
        "def extract_field(item: Dict[str, Any], candidates: List[str]) -> Optional[Any]:\n",
        "    for c in candidates:\n",
        "        if c in item:\n",
        "            return item[c]\n",
        "    return None\n",
        "\n",
        "def get_question_text(item: Dict[str, Any]) -> str:\n",
        "    txt = extract_field(item, [\"question\", \"question_text\", \"stem\", \"content\", \"prompt\", \"body\", \"q\"])\n",
        "    if isinstance(txt, dict):\n",
        "        return txt.get(\"text\") or txt.get(\"value\") or json.dumps(txt, ensure_ascii=False)\n",
        "    if txt is None:\n",
        "        title = item.get(\"title\") or item.get(\"name\")\n",
        "        body = item.get(\"body\") or item.get(\"description\")\n",
        "        if title and body:\n",
        "            return f\"{title}\\n{body}\"\n",
        "        return json.dumps(item, ensure_ascii=False)[:200] + \"...\"\n",
        "    return str(txt)\n",
        "\n",
        "def get_choices(item: Dict[str, Any]) -> List[str]:\n",
        "    choices = extract_field(item, [\"choices\", \"options\", \"alternatives\", \"answers\", \"options_list\"])\n",
        "    if choices is None:\n",
        "        letters = [k for k in sorted(item.keys()) if k.upper() in (\"A\",\"B\",\"C\",\"D\",\"E\",\"F\")]\n",
        "        if letters:\n",
        "            return [item[k] for k in letters]\n",
        "        return []\n",
        "    if isinstance(choices, dict):\n",
        "        sorted_keys = sorted(choices.keys(), key=lambda k: k)\n",
        "        return [choices[k] if choices[k] is not None else \"\" for k in sorted_keys]\n",
        "    if isinstance(choices, list):\n",
        "        out = []\n",
        "        for ch in choices:\n",
        "            if isinstance(ch, str):\n",
        "                out.append(ch)\n",
        "            elif isinstance(ch, dict):\n",
        "                out.append(ch.get(\"text\") or ch.get(\"choice\") or ch.get(\"label\") or json.dumps(ch, ensure_ascii=False))\n",
        "            else:\n",
        "                out.append(str(ch))\n",
        "        return out\n",
        "    return [str(choices)]\n",
        "\n",
        "def find_correct_index(item: Dict[str, Any], choices: List[str]) -> Optional[int]:\n",
        "    ans = extract_field(item, [\"answer\", \"answer_key\", \"correct_answer\", \"correct\", \"label\", \"answerKey\", \"ans\"])\n",
        "    if ans is None:\n",
        "        return None\n",
        "    if isinstance(ans, int):\n",
        "        if 0 <= ans < len(choices):\n",
        "            return ans\n",
        "        if 1 <= ans <= len(choices):\n",
        "            return ans - 1\n",
        "        return None\n",
        "    if isinstance(ans, str):\n",
        "        s = ans.strip()\n",
        "        if len(s) == 1 and s.upper() >= \"A\" and ord(s.upper()) - ord(\"A\") < len(choices):\n",
        "            return ord(s.upper()) - ord(\"A\")\n",
        "        if s.isdigit():\n",
        "            idx = int(s)\n",
        "            if 0 <= idx < len(choices):\n",
        "                return idx\n",
        "            if 1 <= idx <= len(choices):\n",
        "                return idx - 1\n",
        "        for i, ch in enumerate(choices):\n",
        "            if ch and s.lower() == str(ch).strip().lower():\n",
        "                return i\n",
        "    if isinstance(ans, dict):\n",
        "        if \"label\" in ans:\n",
        "            return find_correct_index({\"_tmp\": ans[\"label\"]}, choices)\n",
        "        if \"index\" in ans and isinstance(ans[\"index\"], int):\n",
        "            return ans[\"index\"]\n",
        "    return None\n",
        "\n",
        "def print_mcq(item: Dict[str, Any], idx: int, reveal_answer: bool = False) -> None:\n",
        "    qtext = get_question_text(item)\n",
        "    choices = get_choices(item)\n",
        "    correct_idx = find_correct_index(item, choices)\n",
        "\n",
        "    print(f\"Q{idx}. {qtext}\")\n",
        "    if not choices:\n",
        "        print(\"   (no choices found)\\n\")\n",
        "        return\n",
        "\n",
        "    for i, ch in enumerate(choices):\n",
        "        letter = chr(ord(\"A\") + i)\n",
        "        print(f\"   {letter}. {ch}\")\n",
        "\n",
        "    if reveal_answer:\n",
        "        if correct_idx is not None and 0 <= correct_idx < len(choices):\n",
        "            print(f\"   >> Correct: {chr(ord('A')+correct_idx)}. {choices[correct_idx]}\")\n",
        "        else:\n",
        "            raw_ans = extract_field(item, [\"answer\", \"answer_key\", \"correct_answer\", \"correct\", \"label\",\"answerKey\",\"ans\"])\n",
        "            if raw_ans is not None:\n",
        "                print(f\"   >> Correct (raw): {raw_ans}\")\n",
        "            else:\n",
        "                print(\"   >> Correct: (unknown)\")\n",
        "    print()\n",
        "\n",
        "def print_some_mcqs(local_path: Optional[str] = None, n: int = 5, first: bool = False, seed: Optional[int] = None, reveal: bool = False):\n",
        "    if local_path:\n",
        "        text = load_text_from_local(local_path)\n",
        "    else:\n",
        "        text = load_text_from_remote()\n",
        "    items = parse_json_or_jsonl(text)\n",
        "    if not items:\n",
        "        print(\"No items parsed from file.\")\n",
        "        return\n",
        "    total = len(items)\n",
        "    print(f\"Loaded {total} items. Printing {min(n, total)} MCQs.\\n\")\n",
        "    indices = list(range(total))\n",
        "    if first:\n",
        "        chosen = indices[:n]\n",
        "    else:\n",
        "        if seed is not None:\n",
        "            random.seed(seed)\n",
        "        chosen = random.sample(indices, min(n, total))\n",
        "    for i, idx in enumerate(chosen, start=1):\n",
        "        print_mcq(items[idx], i, reveal_answer=reveal)\n",
        "\n",
        "def main(argv=None):\n",
        "    ap = argparse.ArgumentParser()\n",
        "    ap.add_argument(\"--local\", \"-l\", help=\"Path to local JSON / JSONL file (if omitted, fetches from HuggingFace raw URL)\")\n",
        "    ap.add_argument(\"--n\", \"-n\", type=int, default=5, help=\"Number of MCQs to print\")\n",
        "    ap.add_argument(\"--first\", action=\"store_true\", help=\"Print the first N items instead of random sample\")\n",
        "    ap.add_argument(\"--seed\", type=int, default=None, help=\"Random seed for sampling\")\n",
        "    ap.add_argument(\"--reveal\", action=\"store_true\", help=\"Reveal correct answers\")\n",
        "\n",
        "    if argv is None:\n",
        "        args, unknown = ap.parse_known_args()\n",
        "    else:\n",
        "        args = ap.parse_args(argv)\n",
        "\n",
        "    print_some_mcqs(local_path=args.local, n=args.n, first=args.first, seed=args.seed, reveal=args.reveal)\n",
        "\n",
        "if __name__ == \"__main__\":\n",
        "    main()\n"
      ],
      "metadata": {
        "colab": {
          "base_uri": "https://localhost:8080/"
        },
        "id": "8Bqxa6rAtT2n",
        "outputId": "cba5355e-b33b-42a2-997f-6649635e80bd"
      },
      "execution_count": null,
      "outputs": [
        {
          "output_type": "stream",
          "name": "stdout",
          "text": [
            "Loaded 393 items. Printing 5 MCQs.\n",
            "\n",
            "Q1. An air - filled toroidal solenoid has a mean radius $r = 14.5\\ cm=0.145\\ m$ and a cross - sectional area $A = 5.05\\ cm^{2}=5.05\\times10^{- 4}\\ m^{2}$. The current flowing through it is $I = 11.7\\ A$, and it is desired that the energy stored within the solenoid be at least $U = 0.385\\ J$.\n",
            "### Part A\n",
            "What is the least number of turns that the winding must have? Express your answer numerically, as a whole number, to three significant figures.\n",
            "View Available Hint(s)\n",
            "Submit\n",
            "turns\n",
            "<image>\n",
            "   A. A. N = 2353\n",
            "\n",
            "B. N = 159\n",
            "\n",
            "C. N = 2830\n",
            "\n",
            "D. N = 130.32\n",
            "\n",
            "Q2. Calculate the magnitude and direction of the Coulomb force on each of the three charges shown in the figure below.\n",
            "1.50μC charge magnitude\n",
            "1.50μC charge direction\n",
            "-2.00μC charge magnitude\n",
            "-2.00μC charge direction\n",
            "6.00 μC charge magnitude  N\n",
            "6.00 μC charge direction  ---Select---\n",
            "1.50 μC charge magnitude  N\n",
            "1.50 μC charge direction  ---Select---\n",
            "-2.00 μC charge magnitude  N\n",
            "-2.00 μC charge direction  ---Select---\n",
            "<image>\n",
            "   A. A. The force on 6.00μC is 2.0 N to the right, on 1.50μC is 157.3 N to the right, on -2.00μC is 155.3 N to the left.\n",
            "\n",
            "B. The force on 6.00μC is 1.33 N to the right, on 1.50μC is 0.225 N to the left, on -2.00μC is 1.106 N to the left.\n",
            "\n",
            "C. The force on 6.00μC is 46.748N towards left, on 1.50μC is 157.325N towards right, on -2.00μC is 110.577N towards left.\n",
            "\n",
            "D. The force on 6.00μC is 8.99 N to the right, on 1.50μC is 15.7325 N to the left, on -2.00μC is 2.4273 N to the right.\n",
            "\n",
            "Q3. Two masses ($m_1 = 6kg$ and $m_2 = 3kg$) hang down a pulley of mass $M = 2kg$ and radius $R = 0.3m$ through a massless string. When the lighter mass ($m_2$) is on the ground the heavier mass ($m_1$) is at a height $h = 12m$. The system is released from rest. ($I_{pulley}=\\frac{1}{2}MR^2$). Take gravitational acceleration as $g = 10\\frac{m}{s^2}$.\n",
            "a) Find the tensions in the string.\n",
            "b) Find the speed of the masses as they pass through each other.\n",
            "<image>\n",
            "   A. A. The tensions in the string are \\( T_1 = 42 \\, \\text{N} \\) and \\( T_2 = 39 \\, \\text{N} \\).\n",
            "\n",
            "B. The speed of the masses as they pass each other is 6.00 m/s.\n",
            "\n",
            "C. The tensions in the string are \\( T_1 = 84 \\, \\text{N} \\) and \\( T_2 = 42 \\, \\text{N} \\).\n",
            "\n",
            "D. The speed of the masses as they pass each other is 6.93 m/s.\n",
            "\n",
            "Q4. At time $t = 0$, a car is a distance $D$ from a vertical cliff face and is moving at a constant velocity $v_c$ away from the cliff. At $t = 0$, the car emits a loud noise. At a later time, $t$, the driver hears the reflected sound from the cliff face. Assuming that the speed of sound is $v_s>v_c$, how far is the car from the cliff when the driver hears the sound? Express your answer in $v_c,v_s$, and $D$.\n",
            "If $\\vec{B}$ is added to $\\vec{C}=3.0\\hat{i} + 4.0\\hat{j}$, the result is a vector in the positive direction of the y - axis, with a magnitude equal to that of $\\vec{C}$. What is the magnitude of $\\vec{B}$?\n",
            "A projectile's launch speed is twice its speed at maximum height. Find launch angle $\\theta_0$.\n",
            "<image>\n",
            "   A. A. The distance covered by the car when the driver hears the echo is $\\frac{Dv_s}{v_s - v_c}$.  \n",
            "B. The distance from the cliff when the driver hears the sound is $D + v_c t$.  \n",
            "C. The magnitude of vector $\\vec{B}$ is $\\sqrt{10}$.  \n",
            "D. The distance covered by the car where driver listens the sound of echo is $\\frac{2D}{v_{s}(\\frac{1}{v_{c}}+\\frac{1}{v_{s}})}$.\n",
            "\n",
            "Q5. Sir Lance a Lost's new draw bridge was designed poorly and stops at an angle of 20° below the horizontal. Sir Lost and his steed stop when their combined center of mass is 1.0 m from the end of the bridge. The bridge is 8.0 m long and has a mass of 2000 kg; the lift cable is attached to the bridge 5.0 m from the castle end and to a point 12 m above the bridge. Sir Lost's mass combined with his armor and steed is 1000 kg.\n",
            "(a) Use the related quantities sensemaking technique to compare the combined gravitational force acting on Sir Lance a Lost, his armor, and his steed (treat these as one object) with the normal and frictional forces from the bridge acting on his steed, by answering the following prompts.\n",
            "  - Draw a free - body diagram for the combined object. The diagram should include the gravitational force, the normal force, and the frictional force.\n",
            "  - What relationship do you expect to exist between the gravitational force and the combined normal and frictional forces? Explain.\n",
            "  - If you were asked to find the combined normal force and frictional force from Sir Lance a Lost on the bridge, what quantity would you use? Explain.\n",
            "(b) Determine the tension in the cable.\n",
            "(c) Find the horizontal and vertical force components acting on the bridge at the castle end.\n",
            "<image>\n",
            "   A. A. Tension in the cable is approximately 34473.58 N.  \n",
            "B. Tension in cable: $T\\approx85964.91\\ N$  \n",
            "C. The vertical force at the castle end is approximately 56866 N.  \n",
            "D. The horizontal force at the castle end is approximately 9998 N.\n",
            "\n"
          ]
        }
      ]
    },
    {
      "cell_type": "code",
      "source": [
        "\n",
        "import argparse\n",
        "import json\n",
        "import random\n",
        "import sys\n",
        "from io import StringIO\n",
        "from typing import Any, Dict, List, Optional\n",
        "\n",
        "HF_RAW_TEMPLATE = \"https://huggingface.co/datasets/{repo}/raw/{revision}/{filename}\"\n",
        "REPO = \"PrismaX/PhysUniBench\"\n",
        "REVISION = \"main\"\n",
        "FILENAME = \"PhysUnivBench_en_OE.json\"  # correct filename (note the 'v')\n",
        "\n",
        "def load_text_from_local(path: str) -> str:\n",
        "    with open(path, \"r\", encoding=\"utf-8\") as f:\n",
        "        return f.read()\n",
        "\n",
        "def load_text_from_remote(repo: str = REPO, filename: str = FILENAME, revision: str = REVISION, timeout: int = 30) -> str:\n",
        "    import requests\n",
        "    url = HF_RAW_TEMPLATE.format(repo=repo, filename=filename, revision=revision)\n",
        "    resp = requests.get(url, timeout=timeout)\n",
        "    resp.raise_for_status()\n",
        "    return resp.text\n",
        "\n",
        "def parse_json_or_jsonl(text: str) -> List[Dict[str, Any]]:\n",
        "    try:\n",
        "        data = json.loads(text)\n",
        "        if isinstance(data, list):\n",
        "            return data\n",
        "        if isinstance(data, dict):\n",
        "            for k in (\"data\", \"questions\", \"items\"):\n",
        "                if k in data and isinstance(data[k], list):\n",
        "                    return data[k]\n",
        "            list_fields = [(k, v) for k, v in data.items() if isinstance(v, list)]\n",
        "            if list_fields:\n",
        "                largest = max(list_fields, key=lambda kv: len(kv[1]))[1]\n",
        "                return largest\n",
        "            return [data]\n",
        "    except json.JSONDecodeError:\n",
        "        pass\n",
        "\n",
        "    items = []\n",
        "    for line in StringIO(text):\n",
        "        line = line.strip()\n",
        "        if not line:\n",
        "            continue\n",
        "        try:\n",
        "            obj = json.loads(line)\n",
        "            if isinstance(obj, dict):\n",
        "                for k in (\"data\",\"questions\",\"items\"):\n",
        "                    if k in obj and isinstance(obj[k], list):\n",
        "                        items.extend(obj[k])\n",
        "                        break\n",
        "                else:\n",
        "                    items.append(obj)\n",
        "            elif isinstance(obj, list):\n",
        "                items.extend(obj)\n",
        "        except json.JSONDecodeError:\n",
        "            continue\n",
        "    return items\n",
        "\n",
        "def extract_field(item: Dict[str, Any], candidates: List[str]) -> Optional[Any]:\n",
        "    for c in candidates:\n",
        "        if c in item:\n",
        "            return item[c]\n",
        "    return None\n",
        "\n",
        "def get_question_text(item: Dict[str, Any]) -> str:\n",
        "    txt = extract_field(item, [\"question\", \"question_text\", \"stem\", \"content\", \"prompt\", \"body\", \"q\"])\n",
        "    if isinstance(txt, dict):\n",
        "        return txt.get(\"text\") or txt.get(\"value\") or json.dumps(txt, ensure_ascii=False)\n",
        "    if txt is None:\n",
        "        title = item.get(\"title\") or item.get(\"name\")\n",
        "        body = item.get(\"body\") or item.get(\"description\")\n",
        "        if title and body:\n",
        "            return f\"{title}\\n{body}\"\n",
        "        return json.dumps(item, ensure_ascii=False)[:200] + \"...\"\n",
        "    return str(txt)\n",
        "\n",
        "def get_choices(item: Dict[str, Any]) -> List[str]:\n",
        "    choices = extract_field(item, [\"choices\", \"options\", \"alternatives\", \"answers\", \"options_list\"])\n",
        "    if choices is None:\n",
        "        letters = [k for k in sorted(item.keys()) if k.upper() in (\"A\",\"B\",\"C\",\"D\",\"E\",\"F\")]\n",
        "        if letters:\n",
        "            return [item[k] for k in letters]\n",
        "        return []\n",
        "    if isinstance(choices, dict):\n",
        "        sorted_keys = sorted(choices.keys(), key=lambda k: k)\n",
        "        return [choices[k] if choices[k] is not None else \"\" for k in sorted_keys]\n",
        "    if isinstance(choices, list):\n",
        "        out = []\n",
        "        for ch in choices:\n",
        "            if isinstance(ch, str):\n",
        "                out.append(ch)\n",
        "            elif isinstance(ch, dict):\n",
        "                out.append(ch.get(\"text\") or ch.get(\"choice\") or ch.get(\"label\") or json.dumps(ch, ensure_ascii=False))\n",
        "            else:\n",
        "                out.append(str(ch))\n",
        "        return out\n",
        "    return [str(choices)]\n",
        "\n",
        "def find_correct_index(item: Dict[str, Any], choices: List[str]) -> Optional[int]:\n",
        "    ans = extract_field(item, [\"answer\", \"answer_key\", \"correct_answer\", \"correct\", \"label\", \"answerKey\", \"ans\"])\n",
        "    if ans is None:\n",
        "        return None\n",
        "    if isinstance(ans, int):\n",
        "        if 0 <= ans < len(choices):\n",
        "            return ans\n",
        "        if 1 <= ans <= len(choices):\n",
        "            return ans - 1\n",
        "        return None\n",
        "    if isinstance(ans, str):\n",
        "        s = ans.strip()\n",
        "        if len(s) == 1 and s.upper() >= \"A\" and ord(s.upper()) - ord(\"A\") < len(choices):\n",
        "            return ord(s.upper()) - ord(\"A\")\n",
        "        if s.isdigit():\n",
        "            idx = int(s)\n",
        "            if 0 <= idx < len(choices):\n",
        "                return idx\n",
        "            if 1 <= idx <= len(choices):\n",
        "                return idx - 1\n",
        "        for i, ch in enumerate(choices):\n",
        "            if ch and s.lower() == str(ch).strip().lower():\n",
        "                return i\n",
        "    if isinstance(ans, dict):\n",
        "        if \"label\" in ans:\n",
        "            return find_correct_index({\"_tmp\": ans[\"label\"]}, choices)\n",
        "        if \"index\" in ans and isinstance(ans[\"index\"], int):\n",
        "            return ans[\"index\"]\n",
        "    return None\n",
        "\n",
        "def print_mcq(item: Dict[str, Any], idx: int, reveal_answer: bool = False) -> None:\n",
        "    qtext = get_question_text(item)\n",
        "    choices = get_choices(item)\n",
        "    correct_idx = find_correct_index(item, choices)\n",
        "\n",
        "    print(f\"Q{idx}. {qtext}\")\n",
        "    if not choices:\n",
        "        print(\"   (no choices found)\\n\")\n",
        "        return\n",
        "\n",
        "    for i, ch in enumerate(choices):\n",
        "        letter = chr(ord(\"A\") + i)\n",
        "        print(f\"   {letter}. {ch}\")\n",
        "\n",
        "    if reveal_answer:\n",
        "        if correct_idx is not None and 0 <= correct_idx < len(choices):\n",
        "            print(f\"   >> Correct: {chr(ord('A')+correct_idx)}. {choices[correct_idx]}\")\n",
        "        else:\n",
        "            raw_ans = extract_field(item, [\"answer\", \"answer_key\", \"correct_answer\", \"correct\", \"label\",\"answerKey\",\"ans\"])\n",
        "            if raw_ans is not None:\n",
        "                print(f\"   >> Correct (raw): {raw_ans}\")\n",
        "            else:\n",
        "                print(\"   >> Correct: (unknown)\")\n",
        "    print()\n",
        "\n",
        "def print_some_mcqs(local_path: Optional[str] = None, n: int = 5, first: bool = False, seed: Optional[int] = None, reveal: bool = False):\n",
        "    if local_path:\n",
        "        text = load_text_from_local(local_path)\n",
        "    else:\n",
        "        text = load_text_from_remote()\n",
        "    items = parse_json_or_jsonl(text)\n",
        "    if not items:\n",
        "        print(\"No items parsed from file.\")\n",
        "        return\n",
        "    total = len(items)\n",
        "    print(f\"Loaded {total} items. Printing {min(n, total)} MCQs.\\n\")\n",
        "    indices = list(range(total))\n",
        "    if first:\n",
        "        chosen = indices[:n]\n",
        "    else:\n",
        "        if seed is not None:\n",
        "            random.seed(seed)\n",
        "        chosen = random.sample(indices, min(n, total))\n",
        "    for i, idx in enumerate(chosen, start=1):\n",
        "        print_mcq(items[idx], i, reveal_answer=reveal)\n",
        "\n",
        "def main(argv=None):\n",
        "    ap = argparse.ArgumentParser()\n",
        "    ap.add_argument(\"--local\", \"-l\", help=\"Path to local JSON / JSONL file (if omitted, fetches from HuggingFace raw URL)\")\n",
        "    ap.add_argument(\"--n\", \"-n\", type=int, default=5, help=\"Number of MCQs to print\")\n",
        "    ap.add_argument(\"--first\", action=\"store_true\", help=\"Print the first N items instead of random sample\")\n",
        "    ap.add_argument(\"--seed\", type=int, default=None, help=\"Random seed for sampling\")\n",
        "    ap.add_argument(\"--reveal\", action=\"store_true\", help=\"Reveal correct answers\")\n",
        "\n",
        "    # parse_known_args allows Jupyter/Colab injected args (like -f) to be ignored\n",
        "    if argv is None:\n",
        "        args, unknown = ap.parse_known_args()\n",
        "    else:\n",
        "        args = ap.parse_args(argv)\n",
        "\n",
        "    print_some_mcqs(local_path=args.local, n=args.n, first=args.first, seed=args.seed, reveal=args.reveal)\n",
        "\n",
        "if __name__ == \"__main__\":\n",
        "    main()\n"
      ],
      "metadata": {
        "colab": {
          "base_uri": "https://localhost:8080/"
        },
        "id": "hcYWw2JEuGqI",
        "outputId": "e8a05ca5-0146-4870-e763-001b916452ae"
      },
      "execution_count": null,
      "outputs": [
        {
          "output_type": "stream",
          "name": "stdout",
          "text": [
            "Loaded 629 items. Printing 5 MCQs.\n",
            "\n",
            "Q1. how to determine the x - component and y - component of vector $\\vec{A}$, denoted $A_x$ and $A_y$.\n",
            "What is the magnitude of the component vector $\\vec{A}_x$ shown in (Figure 1)? Express your answer in meters to one significant figure.\n",
            "Previous Answers: Incorrect; Try Again\n",
            "Part B\n",
            "What is the sign of the y - component $A_y$ of vector $\\vec{A}$ shown in (Figure 1)?\n",
            "positive\n",
            "negative\n",
            "Previous Answers: Correct\n",
            "<image>\n",
            "   (no choices found)\n",
            "\n",
            "Q2. VP 21.4.1\n",
            "Charge $q_1 = + 5.60nC$ is on the $x$-axis at $x = 0$ and charge $q_2=-2.00nC$ is on the $x$-axis at $x = 6.00cm$. Find the $x$-component of total electric force exerted by $q_1$ and $q_2$ on a third charge $q_3=-1.50nC$ on the $x$-axis at $x = 4.00cm$.\n",
            "Express your answer in newtons.\n",
            "$F_x=$\n",
            "Incorrect; Try Again; 5 attempts remaining\n",
            "Charge $q_1 = +5.60\\ nC$ is on the $x$-axis at $x = 0$ and charge $q_2=-2.00\\ nC$ is on the $x$-axis at $x = 6.00\\ cm$. Find the $x$-component of total electric force exerted by $q_1$ and $q_2$ on a third charge $q_3=-1.50\\ nC$ on the $x$-axis at $x = 4.00\\ cm$.\n",
            "$F_x=-1.35\\cdot 10^{-5}\\ N$\n",
            "Submit\n",
            "Previous Answers\n",
            "Request Answer\n",
            "<image>\n",
            "   (no choices found)\n",
            "\n",
            "Q3. 14 IL\n",
            "-10π\n",
            "In the figure above, $a = 14.2cm$ and $b = 5.95cm$. What is the magnitude of the force on the -10 nC charge?\n",
            "In the figure above, $a = 14.2 cm$ and $b = 5.95 cm$. What is the magnitude of the force on the -10 nC charge?\n",
            "<image>\n",
            "   (no choices found)\n",
            "\n",
            "Q4. Based on the velocity vs time graph shown, the object's displacement from $t = 1$ to $t = 3$ is ____ in the ____.\n",
            "<image>\n",
            "   (no choices found)\n",
            "\n",
            "Q5. A 70 - N block and a 35 - N block are connected by a string as shown. If the pulley is massless and the surface is frictionless, the magnitude of the acceleration of the 35 - N block is? Take $g = 10\\frac{m}{sec^2}$\n",
            "A 70 - N block and a 35 - N block are connected by a string as shown. If the pulley is massless and the surface is frictionless, the magnitude of the acceleration of the 35 - N block is __________. (Take $g = 10\\ m/sec^2$)\n",
            "<image>\n",
            "   (no choices found)\n",
            "\n"
          ]
        }
      ]
    },
    {
      "cell_type": "code",
      "source": [
        "\n",
        "\n",
        "import requests\n",
        "import json\n",
        "import re\n",
        "import io\n",
        "import os\n",
        "import zipfile\n",
        "from PIL import Image\n",
        "\n",
        "try:\n",
        "    from tqdm import tqdm\n",
        "except Exception:\n",
        "    tqdm = lambda x, **k: x\n",
        "\n",
        "# ==== CONFIG ====\n",
        "RAW_JSON_URL = \"https://huggingface.co/datasets/PrismaX/PhysUniBench/raw/main/PhysUnivBench_en_MCQ.json\"\n",
        "IMAGE_BASE_URL = \"https://huggingface.co/datasets/PrismaX/PhysUniBench/raw/main/images/\"\n",
        "\n",
        "OUTPUT_JSON = \"phys_unibench_mcqs.json\"\n",
        "OUTPUT_IMAGES_ZIP = \"phys_unibench_images.zip\"\n",
        "START_ID = 174\n",
        "# =================\n",
        "\n",
        "def safe_get_json(url):\n",
        "    r = requests.get(url, timeout=60)\n",
        "    r.raise_for_status()\n",
        "    return r.json()\n",
        "\n",
        "def parse_options(options_text):\n",
        "    \"\"\"\n",
        "    Best-effort parse of options string into dict {'a':..., 'b':..., 'c':..., 'd':...}.\n",
        "    Works for forms like \"A. ... B. ... C. ... D. ...\" or newline-separated variants.\n",
        "    \"\"\"\n",
        "    if not options_text:\n",
        "        return {\"a\":\"\", \"b\":\"\", \"c\":\"\", \"d\":\"\"}\n",
        "    s = options_text.strip()\n",
        "    # unify different unicode dots/spaces (best-effort)\n",
        "    # find positions of A., B., C., D. (capital letters expected)\n",
        "    labels = ['A','B','C','D']\n",
        "    positions = []\n",
        "    for lab in labels:\n",
        "        m = re.search(r'(?<!\\w)'+re.escape(lab)+r'\\.', s)\n",
        "        if m:\n",
        "            positions.append((lab, m.start()))\n",
        "    # If none found, try lowercase\n",
        "    if not positions:\n",
        "        for lab in labels:\n",
        "            m = re.search(r'(?<!\\w)'+lab.lower()+r'\\.', s)\n",
        "            if m:\n",
        "                positions.append((lab, m.start()))\n",
        "    # If still none, fallback: split by newlines and pick first 4 lines\n",
        "    if not positions:\n",
        "        parts = [line.strip() for line in s.splitlines() if line.strip()]\n",
        "        out = {}\n",
        "        for i, lab in enumerate(['a','b','c','d']):\n",
        "            out[lab] = parts[i] if i < len(parts) else \"\"\n",
        "        return out\n",
        "\n",
        "    # sort by position\n",
        "    positions.sort(key=lambda x: x[1])\n",
        "    out = {}\n",
        "    for idx, (lab, pos) in enumerate(positions):\n",
        "        start = pos + 2  # skip e.g. \"A.\"\n",
        "        end = positions[idx+1][1] if idx+1 < len(positions) else len(s)\n",
        "        piece = s[start:end].strip()\n",
        "        # strip leading punctuation/colons/hyphens\n",
        "        piece = re.sub(r'^[\\s:–—\\-)]*', '', piece)\n",
        "        out[lab.lower()] = piece\n",
        "\n",
        "    # ensure keys exist\n",
        "    for k in ['a','b','c','d']:\n",
        "        out.setdefault(k, \"\")\n",
        "\n",
        "    return out\n",
        "\n",
        "def download_and_convert_image(image_filename, target_id):\n",
        "    \"\"\"\n",
        "    Fetch image from IMAGE_BASE_URL + image_filename (e.g. '1.jpg'),\n",
        "    convert to PNG and return PNG bytes. Returns None on failure.\n",
        "    \"\"\"\n",
        "    if not image_filename:\n",
        "        return None\n",
        "    url = IMAGE_BASE_URL + image_filename\n",
        "    try:\n",
        "        resp = requests.get(url, timeout=60)\n",
        "        if resp.status_code != 200:\n",
        "            # try jpg->png name variants (best-effort)\n",
        "            alt = os.path.splitext(image_filename)[0] + \".png\"\n",
        "            resp = requests.get(IMAGE_BASE_URL + alt, timeout=60)\n",
        "            if resp.status_code != 200:\n",
        "                return None\n",
        "        # load into PIL and convert to PNG bytes\n",
        "        img = Image.open(io.BytesIO(resp.content)).convert(\"RGB\")\n",
        "        buf = io.BytesIO()\n",
        "        img.save(buf, format=\"PNG\")\n",
        "        return buf.getvalue()\n",
        "    except Exception as e:\n",
        "        # print or log as needed\n",
        "        # print(f\"Image download/convert failed for {url}: {e}\")\n",
        "        return None\n",
        "\n",
        "def main():\n",
        "    print(\"Downloading JSON from dataset...\")\n",
        "    data = safe_get_json(RAW_JSON_URL)\n",
        "    print(f\"Loaded {len(data)} entries from the MCQ file.\")\n",
        "\n",
        "    output_list = []\n",
        "    # Prepare zip file for images\n",
        "    zf = zipfile.ZipFile(OUTPUT_IMAGES_ZIP, mode=\"w\", compression=zipfile.ZIP_DEFLATED)\n",
        "    current_id = START_ID\n",
        "    for row in tqdm(data):\n",
        "        qid = current_id\n",
        "        current_id+=1\n",
        "        # Use int/string id as-is (keep same as dataset)\n",
        "        if qid is None:\n",
        "            # skip if no id\n",
        "            continue\n",
        "\n",
        "        # question text\n",
        "        text = row.get(\"question\", \"\").strip()\n",
        "\n",
        "        # parse options from the dataset's 'options' field (often a printable string)\n",
        "        options_parsed = parse_options(row.get(\"options\", \"\") or \"\")\n",
        "\n",
        "        # map correct answer (dataset uses 'answer' like \"A\")\n",
        "        correct = row.get(\"answer\", \"\")\n",
        "        if isinstance(correct, str):\n",
        "            correct = correct.strip()\n",
        "        else:\n",
        "            correct = str(correct)\n",
        "\n",
        "        # image file in dataset (e.g. \"1.jpg\" or \"0.jpg\")\n",
        "        src_image_name = row.get(\"image\", \"\").strip() if row.get(\"image\") else \"\"\n",
        "\n",
        "        # target image path inside JSON output (and inside zip)\n",
        "        image_field_path = f\"images/image{qid}.png\"\n",
        "\n",
        "        # attempt to download and convert to PNG bytes\n",
        "        png_bytes = None\n",
        "        if src_image_name:\n",
        "            png_bytes = download_and_convert_image(src_image_name, qid)\n",
        "        if png_bytes:\n",
        "            # write into zip under images/image{qid}.png\n",
        "            zf.writestr(image_field_path, png_bytes)\n",
        "        else:\n",
        "            # If missing, we still include the JSON path but no image is placed in zip.\n",
        "            # Option: you can choose to set image_field_path=\"\" instead.\n",
        "            print(f\"Warning: image for id={qid} ({src_image_name}) not downloaded.\")\n",
        "\n",
        "        # build output object\n",
        "        out_obj = {\n",
        "            \"id\": qid,\n",
        "            \"image\": image_field_path,\n",
        "            \"text\": text,\n",
        "            \"options\": {\n",
        "                \"a\": options_parsed.get(\"a\", \"\"),\n",
        "                \"b\": options_parsed.get(\"b\", \"\"),\n",
        "                \"c\": options_parsed.get(\"c\", \"\"),\n",
        "                \"d\": options_parsed.get(\"d\", \"\")\n",
        "            },\n",
        "            \"type\": \"MCQs with One Correct Answer\",\n",
        "            \"correct_answer\": correct\n",
        "        }\n",
        "        output_list.append(out_obj)\n",
        "\n",
        "    zf.close()\n",
        "\n",
        "    # save output JSON\n",
        "    with open(OUTPUT_JSON, \"w\", encoding=\"utf-8\") as f:\n",
        "        json.dump(output_list, f, ensure_ascii=False, indent=2)\n",
        "\n",
        "    print(f\"Done. {len(output_list)} MCQs written to {OUTPUT_JSON}\")\n",
        "    print(f\"Images written (when available) into {OUTPUT_IMAGES_ZIP}\")\n",
        "\n",
        "if __name__ == \"__main__\":\n",
        "    main()\n"
      ],
      "metadata": {
        "id": "EqmYG5PZugsx",
        "colab": {
          "base_uri": "https://localhost:8080/"
        },
        "collapsed": true,
        "outputId": "1e2ff018-4b3a-4909-a3e6-b20977adb7ad"
      },
      "execution_count": null,
      "outputs": [
        {
          "output_type": "stream",
          "name": "stdout",
          "text": [
            "Downloading JSON from dataset...\n",
            "Loaded 393 entries from the MCQ file.\n"
          ]
        },
        {
          "output_type": "stream",
          "name": "stderr",
          "text": [
            "  1%|          | 2/393 [00:00<00:31, 12.27it/s]"
          ]
        },
        {
          "output_type": "stream",
          "name": "stdout",
          "text": [
            "Warning: image for id=174 (0.jpg) not downloaded.\n",
            "Warning: image for id=175 (1.jpg) not downloaded.\n",
            "Warning: image for id=176 (2.jpg) not downloaded.\n"
          ]
        },
        {
          "output_type": "stream",
          "name": "stderr",
          "text": [
            "\r  1%|          | 4/393 [00:00<00:31, 12.31it/s]"
          ]
        },
        {
          "output_type": "stream",
          "name": "stdout",
          "text": [
            "Warning: image for id=177 (3.jpg) not downloaded.\n",
            "Warning: image for id=178 (4.jpg) not downloaded.\n"
          ]
        },
        {
          "output_type": "stream",
          "name": "stderr",
          "text": [
            "\r  2%|▏         | 6/393 [00:00<00:32, 11.96it/s]"
          ]
        },
        {
          "output_type": "stream",
          "name": "stdout",
          "text": [
            "Warning: image for id=179 (5.jpg) not downloaded.\n"
          ]
        },
        {
          "output_type": "stream",
          "name": "stderr",
          "text": [
            "\r  2%|▏         | 8/393 [00:00<00:31, 12.18it/s]"
          ]
        },
        {
          "output_type": "stream",
          "name": "stdout",
          "text": [
            "Warning: image for id=180 (6.jpg) not downloaded.\n",
            "Warning: image for id=181 (7.jpg) not downloaded.\n"
          ]
        },
        {
          "output_type": "stream",
          "name": "stderr",
          "text": [
            "\r  3%|▎         | 10/393 [00:00<00:34, 11.10it/s]"
          ]
        },
        {
          "output_type": "stream",
          "name": "stdout",
          "text": [
            "Warning: image for id=182 (8.jpg) not downloaded.\n",
            "Warning: image for id=183 (9.jpg) not downloaded.\n",
            "Warning: image for id=184 (10.jpg) not downloaded.\n"
          ]
        },
        {
          "output_type": "stream",
          "name": "stderr",
          "text": [
            "  4%|▎         | 14/393 [00:01<00:31, 11.94it/s]"
          ]
        },
        {
          "output_type": "stream",
          "name": "stdout",
          "text": [
            "Warning: image for id=185 (11.jpg) not downloaded.\n",
            "Warning: image for id=186 (12.jpg) not downloaded.\n",
            "Warning: image for id=187 (13.jpg) not downloaded.\n"
          ]
        },
        {
          "output_type": "stream",
          "name": "stderr",
          "text": [
            "\r  4%|▍         | 16/393 [00:01<00:31, 12.15it/s]"
          ]
        },
        {
          "output_type": "stream",
          "name": "stdout",
          "text": [
            "Warning: image for id=188 (14.jpg) not downloaded.\n",
            "Warning: image for id=189 (15.jpg) not downloaded.\n",
            "Warning: image for id=190 (16.jpg) not downloaded.\n"
          ]
        },
        {
          "output_type": "stream",
          "name": "stderr",
          "text": [
            "  5%|▌         | 20/393 [00:01<00:32, 11.53it/s]"
          ]
        },
        {
          "output_type": "stream",
          "name": "stdout",
          "text": [
            "Warning: image for id=191 (17.jpg) not downloaded.\n",
            "Warning: image for id=192 (18.jpg) not downloaded.\n",
            "Warning: image for id=193 (19.jpg) not downloaded.\n"
          ]
        },
        {
          "output_type": "stream",
          "name": "stderr",
          "text": [
            "\r  6%|▌         | 22/393 [00:01<00:32, 11.53it/s]"
          ]
        },
        {
          "output_type": "stream",
          "name": "stdout",
          "text": [
            "Warning: image for id=194 (20.jpg) not downloaded.\n",
            "Warning: image for id=195 (21.jpg) not downloaded.\n",
            "Warning: image for id=196 (22.jpg) not downloaded.\n"
          ]
        },
        {
          "output_type": "stream",
          "name": "stderr",
          "text": [
            "  7%|▋         | 26/393 [00:02<00:32, 11.37it/s]"
          ]
        },
        {
          "output_type": "stream",
          "name": "stdout",
          "text": [
            "Warning: image for id=197 (23.jpg) not downloaded.\n",
            "Warning: image for id=198 (24.jpg) not downloaded.\n",
            "Warning: image for id=199 (25.jpg) not downloaded.\n"
          ]
        },
        {
          "output_type": "stream",
          "name": "stderr",
          "text": [
            "\r  7%|▋         | 28/393 [00:02<00:31, 11.64it/s]"
          ]
        },
        {
          "output_type": "stream",
          "name": "stdout",
          "text": [
            "Warning: image for id=200 (26.jpg) not downloaded.\n",
            "Warning: image for id=201 (27.jpg) not downloaded.\n",
            "Warning: image for id=202 (28.jpg) not downloaded.\n"
          ]
        },
        {
          "output_type": "stream",
          "name": "stderr",
          "text": [
            "  8%|▊         | 32/393 [00:02<00:31, 11.36it/s]"
          ]
        },
        {
          "output_type": "stream",
          "name": "stdout",
          "text": [
            "Warning: image for id=203 (29.jpg) not downloaded.\n",
            "Warning: image for id=204 (30.jpg) not downloaded.\n",
            "Warning: image for id=205 (31.jpg) not downloaded.\n"
          ]
        },
        {
          "output_type": "stream",
          "name": "stderr",
          "text": [
            "\r  9%|▊         | 34/393 [00:02<00:30, 11.75it/s]"
          ]
        },
        {
          "output_type": "stream",
          "name": "stdout",
          "text": [
            "Warning: image for id=206 (32.jpg) not downloaded.\n",
            "Warning: image for id=207 (33.jpg) not downloaded.\n",
            "Warning: image for id=208 (34.jpg) not downloaded.\n"
          ]
        },
        {
          "output_type": "stream",
          "name": "stderr",
          "text": [
            " 10%|▉         | 38/393 [00:03<00:30, 11.68it/s]"
          ]
        },
        {
          "output_type": "stream",
          "name": "stdout",
          "text": [
            "Warning: image for id=209 (35.jpg) not downloaded.\n",
            "Warning: image for id=210 (36.jpg) not downloaded.\n",
            "Warning: image for id=211 (37.jpg) not downloaded.\n"
          ]
        },
        {
          "output_type": "stream",
          "name": "stderr",
          "text": [
            "\r 10%|█         | 40/393 [00:03<00:32, 10.81it/s]"
          ]
        },
        {
          "output_type": "stream",
          "name": "stdout",
          "text": [
            "Warning: image for id=212 (38.jpg) not downloaded.\n",
            "Warning: image for id=213 (39.jpg) not downloaded.\n"
          ]
        },
        {
          "output_type": "stream",
          "name": "stderr",
          "text": [
            "\r 11%|█         | 42/393 [00:03<00:32, 10.73it/s]"
          ]
        },
        {
          "output_type": "stream",
          "name": "stdout",
          "text": [
            "Warning: image for id=214 (40.jpg) not downloaded.\n",
            "Warning: image for id=215 (41.jpg) not downloaded.\n",
            "Warning: image for id=216 (42.jpg) not downloaded.\n"
          ]
        },
        {
          "output_type": "stream",
          "name": "stderr",
          "text": [
            " 12%|█▏        | 46/393 [00:04<00:32, 10.81it/s]"
          ]
        },
        {
          "output_type": "stream",
          "name": "stdout",
          "text": [
            "Warning: image for id=217 (43.jpg) not downloaded.\n",
            "Warning: image for id=218 (44.jpg) not downloaded.\n",
            "Warning: image for id=219 (45.jpg) not downloaded.\n"
          ]
        },
        {
          "output_type": "stream",
          "name": "stderr",
          "text": [
            "\r 12%|█▏        | 48/393 [00:04<00:31, 11.08it/s]"
          ]
        },
        {
          "output_type": "stream",
          "name": "stdout",
          "text": [
            "Warning: image for id=220 (46.jpg) not downloaded.\n",
            "Warning: image for id=221 (47.jpg) not downloaded.\n",
            "Warning: image for id=222 (48.jpg) not downloaded.\n"
          ]
        },
        {
          "output_type": "stream",
          "name": "stderr",
          "text": [
            " 13%|█▎        | 52/393 [00:04<00:30, 11.26it/s]"
          ]
        },
        {
          "output_type": "stream",
          "name": "stdout",
          "text": [
            "Warning: image for id=223 (49.jpg) not downloaded.\n",
            "Warning: image for id=224 (50.jpg) not downloaded.\n",
            "Warning: image for id=225 (51.jpg) not downloaded.\n"
          ]
        },
        {
          "output_type": "stream",
          "name": "stderr",
          "text": [
            "\r 14%|█▎        | 54/393 [00:04<00:29, 11.51it/s]"
          ]
        },
        {
          "output_type": "stream",
          "name": "stdout",
          "text": [
            "Warning: image for id=226 (52.jpg) not downloaded.\n",
            "Warning: image for id=227 (53.jpg) not downloaded.\n"
          ]
        },
        {
          "output_type": "stream",
          "name": "stderr",
          "text": [
            "\r 14%|█▍        | 56/393 [00:04<00:31, 10.75it/s]"
          ]
        },
        {
          "output_type": "stream",
          "name": "stdout",
          "text": [
            "Warning: image for id=228 (54.jpg) not downloaded.\n",
            "Warning: image for id=229 (55.jpg) not downloaded.\n",
            "Warning: image for id=230 (56.jpg) not downloaded.\n"
          ]
        },
        {
          "output_type": "stream",
          "name": "stderr",
          "text": [
            " 15%|█▌        | 60/393 [00:05<00:29, 11.13it/s]"
          ]
        },
        {
          "output_type": "stream",
          "name": "stdout",
          "text": [
            "Warning: image for id=231 (57.jpg) not downloaded.\n",
            "Warning: image for id=232 (58.jpg) not downloaded.\n",
            "Warning: image for id=233 (59.jpg) not downloaded.\n"
          ]
        },
        {
          "output_type": "stream",
          "name": "stderr",
          "text": [
            "\r 16%|█▌        | 62/393 [00:05<00:30, 10.71it/s]"
          ]
        },
        {
          "output_type": "stream",
          "name": "stdout",
          "text": [
            "Warning: image for id=234 (60.jpg) not downloaded.\n",
            "Warning: image for id=235 (61.jpg) not downloaded.\n",
            "Warning: image for id=236 (62.jpg) not downloaded.\n"
          ]
        },
        {
          "output_type": "stream",
          "name": "stderr",
          "text": [
            " 17%|█▋        | 66/393 [00:05<00:28, 11.62it/s]"
          ]
        },
        {
          "output_type": "stream",
          "name": "stdout",
          "text": [
            "Warning: image for id=237 (63.jpg) not downloaded.\n",
            "Warning: image for id=238 (64.jpg) not downloaded.\n",
            "Warning: image for id=239 (65.jpg) not downloaded.\n"
          ]
        },
        {
          "output_type": "stream",
          "name": "stderr",
          "text": [
            "\r 17%|█▋        | 68/393 [00:05<00:27, 11.95it/s]"
          ]
        },
        {
          "output_type": "stream",
          "name": "stdout",
          "text": [
            "Warning: image for id=240 (66.jpg) not downloaded.\n",
            "Warning: image for id=241 (67.jpg) not downloaded.\n",
            "Warning: image for id=242 (68.jpg) not downloaded.\n"
          ]
        },
        {
          "output_type": "stream",
          "name": "stderr",
          "text": [
            " 18%|█▊        | 72/393 [00:06<00:26, 11.97it/s]"
          ]
        },
        {
          "output_type": "stream",
          "name": "stdout",
          "text": [
            "Warning: image for id=243 (69.jpg) not downloaded.\n",
            "Warning: image for id=244 (70.jpg) not downloaded.\n",
            "Warning: image for id=245 (71.jpg) not downloaded.\n"
          ]
        },
        {
          "output_type": "stream",
          "name": "stderr",
          "text": [
            "\r 19%|█▉        | 74/393 [00:06<00:26, 12.13it/s]"
          ]
        },
        {
          "output_type": "stream",
          "name": "stdout",
          "text": [
            "Warning: image for id=246 (72.jpg) not downloaded.\n",
            "Warning: image for id=247 (73.jpg) not downloaded.\n",
            "Warning: image for id=248 (74.jpg) not downloaded.\n"
          ]
        },
        {
          "output_type": "stream",
          "name": "stderr",
          "text": [
            " 20%|█▉        | 78/393 [00:06<00:25, 12.34it/s]"
          ]
        },
        {
          "output_type": "stream",
          "name": "stdout",
          "text": [
            "Warning: image for id=249 (75.jpg) not downloaded.\n",
            "Warning: image for id=250 (76.jpg) not downloaded.\n",
            "Warning: image for id=251 (77.jpg) not downloaded.\n"
          ]
        },
        {
          "output_type": "stream",
          "name": "stderr",
          "text": [
            "\r 20%|██        | 80/393 [00:06<00:25, 12.28it/s]"
          ]
        },
        {
          "output_type": "stream",
          "name": "stdout",
          "text": [
            "Warning: image for id=252 (78.jpg) not downloaded.\n",
            "Warning: image for id=253 (79.jpg) not downloaded.\n",
            "Warning: image for id=254 (80.jpg) not downloaded.\n"
          ]
        },
        {
          "output_type": "stream",
          "name": "stderr",
          "text": [
            " 21%|██▏       | 84/393 [00:07<00:24, 12.38it/s]"
          ]
        },
        {
          "output_type": "stream",
          "name": "stdout",
          "text": [
            "Warning: image for id=255 (81.jpg) not downloaded.\n",
            "Warning: image for id=256 (82.jpg) not downloaded.\n",
            "Warning: image for id=257 (83.jpg) not downloaded.\n"
          ]
        },
        {
          "output_type": "stream",
          "name": "stderr",
          "text": [
            "\r 22%|██▏       | 86/393 [00:07<00:28, 10.82it/s]"
          ]
        },
        {
          "output_type": "stream",
          "name": "stdout",
          "text": [
            "Warning: image for id=258 (84.jpg) not downloaded.\n",
            "Warning: image for id=259 (85.jpg) not downloaded.\n",
            "Warning: image for id=260 (86.jpg) not downloaded.\n"
          ]
        },
        {
          "output_type": "stream",
          "name": "stderr",
          "text": [
            " 23%|██▎       | 90/393 [00:07<00:26, 11.56it/s]"
          ]
        },
        {
          "output_type": "stream",
          "name": "stdout",
          "text": [
            "Warning: image for id=261 (87.jpg) not downloaded.\n",
            "Warning: image for id=262 (88.jpg) not downloaded.\n",
            "Warning: image for id=263 (89.jpg) not downloaded.\n"
          ]
        },
        {
          "output_type": "stream",
          "name": "stderr",
          "text": [
            "\r 23%|██▎       | 92/393 [00:07<00:25, 11.82it/s]"
          ]
        },
        {
          "output_type": "stream",
          "name": "stdout",
          "text": [
            "Warning: image for id=264 (90.jpg) not downloaded.\n",
            "Warning: image for id=265 (91.jpg) not downloaded.\n",
            "Warning: image for id=266 (92.jpg) not downloaded.\n"
          ]
        },
        {
          "output_type": "stream",
          "name": "stderr",
          "text": [
            " 24%|██▍       | 96/393 [00:08<00:26, 11.32it/s]"
          ]
        },
        {
          "output_type": "stream",
          "name": "stdout",
          "text": [
            "Warning: image for id=267 (93.jpg) not downloaded.\n",
            "Warning: image for id=268 (94.jpg) not downloaded.\n",
            "Warning: image for id=269 (95.jpg) not downloaded.\n"
          ]
        },
        {
          "output_type": "stream",
          "name": "stderr",
          "text": [
            "\r 25%|██▍       | 98/393 [00:08<00:25, 11.46it/s]"
          ]
        },
        {
          "output_type": "stream",
          "name": "stdout",
          "text": [
            "Warning: image for id=270 (96.jpg) not downloaded.\n",
            "Warning: image for id=271 (97.jpg) not downloaded.\n",
            "Warning: image for id=272 (98.jpg) not downloaded.\n"
          ]
        },
        {
          "output_type": "stream",
          "name": "stderr",
          "text": [
            "\r 25%|██▌       | 100/393 [00:08<00:24, 11.74it/s]"
          ]
        },
        {
          "output_type": "stream",
          "name": "stdout",
          "text": [
            "Warning: image for id=273 (99.jpg) not downloaded.\n",
            "Warning: image for id=274 (100.jpg) not downloaded.\n"
          ]
        },
        {
          "output_type": "stream",
          "name": "stderr",
          "text": [
            " 26%|██▋       | 104/393 [00:09<00:25, 11.28it/s]"
          ]
        },
        {
          "output_type": "stream",
          "name": "stdout",
          "text": [
            "Warning: image for id=275 (101.jpg) not downloaded.\n",
            "Warning: image for id=276 (102.jpg) not downloaded.\n",
            "Warning: image for id=277 (103.jpg) not downloaded.\n"
          ]
        },
        {
          "output_type": "stream",
          "name": "stderr",
          "text": [
            "\r 27%|██▋       | 106/393 [00:09<00:24, 11.63it/s]"
          ]
        },
        {
          "output_type": "stream",
          "name": "stdout",
          "text": [
            "Warning: image for id=278 (104.jpg) not downloaded.\n",
            "Warning: image for id=279 (105.jpg) not downloaded.\n",
            "Warning: image for id=280 (106.jpg) not downloaded.\n"
          ]
        },
        {
          "output_type": "stream",
          "name": "stderr",
          "text": [
            " 28%|██▊       | 110/393 [00:09<00:23, 12.11it/s]"
          ]
        },
        {
          "output_type": "stream",
          "name": "stdout",
          "text": [
            "Warning: image for id=281 (107.jpg) not downloaded.\n",
            "Warning: image for id=282 (108.jpg) not downloaded.\n",
            "Warning: image for id=283 (109.jpg) not downloaded.\n"
          ]
        },
        {
          "output_type": "stream",
          "name": "stderr",
          "text": [
            "\r 28%|██▊       | 112/393 [00:09<00:23, 12.06it/s]"
          ]
        },
        {
          "output_type": "stream",
          "name": "stdout",
          "text": [
            "Warning: image for id=284 (110.jpg) not downloaded.\n",
            "Warning: image for id=285 (111.jpg) not downloaded.\n",
            "Warning: image for id=286 (112.jpg) not downloaded.\n"
          ]
        },
        {
          "output_type": "stream",
          "name": "stderr",
          "text": [
            " 30%|██▉       | 116/393 [00:10<00:22, 12.27it/s]"
          ]
        },
        {
          "output_type": "stream",
          "name": "stdout",
          "text": [
            "Warning: image for id=287 (113.jpg) not downloaded.\n",
            "Warning: image for id=288 (114.jpg) not downloaded.\n",
            "Warning: image for id=289 (115.jpg) not downloaded.\n"
          ]
        },
        {
          "output_type": "stream",
          "name": "stderr",
          "text": [
            "\r 30%|███       | 118/393 [00:10<00:22, 12.29it/s]"
          ]
        },
        {
          "output_type": "stream",
          "name": "stdout",
          "text": [
            "Warning: image for id=290 (116.jpg) not downloaded.\n",
            "Warning: image for id=291 (117.jpg) not downloaded.\n",
            "Warning: image for id=292 (118.jpg) not downloaded.\n"
          ]
        },
        {
          "output_type": "stream",
          "name": "stderr",
          "text": [
            " 31%|███       | 122/393 [00:10<00:21, 12.38it/s]"
          ]
        },
        {
          "output_type": "stream",
          "name": "stdout",
          "text": [
            "Warning: image for id=293 (119.jpg) not downloaded.\n",
            "Warning: image for id=294 (120.jpg) not downloaded.\n",
            "Warning: image for id=295 (121.jpg) not downloaded.\n"
          ]
        },
        {
          "output_type": "stream",
          "name": "stderr",
          "text": [
            "\r 32%|███▏      | 124/393 [00:10<00:24, 10.82it/s]"
          ]
        },
        {
          "output_type": "stream",
          "name": "stdout",
          "text": [
            "Warning: image for id=296 (122.jpg) not downloaded.\n",
            "Warning: image for id=297 (123.jpg) not downloaded.\n",
            "Warning: image for id=298 (124.jpg) not downloaded.\n"
          ]
        },
        {
          "output_type": "stream",
          "name": "stderr",
          "text": [
            "\r 32%|███▏      | 126/393 [00:10<00:24, 10.88it/s]"
          ]
        },
        {
          "output_type": "stream",
          "name": "stdout",
          "text": [
            "Warning: image for id=299 (125.jpg) not downloaded.\n",
            "Warning: image for id=300 (126.jpg) not downloaded.\n"
          ]
        },
        {
          "output_type": "stream",
          "name": "stderr",
          "text": [
            "\r 33%|███▎      | 128/393 [00:11<00:26, 10.19it/s]"
          ]
        },
        {
          "output_type": "stream",
          "name": "stdout",
          "text": [
            "Warning: image for id=301 (127.jpg) not downloaded.\n",
            "Warning: image for id=302 (128.jpg) not downloaded.\n"
          ]
        },
        {
          "output_type": "stream",
          "name": "stderr",
          "text": [
            " 33%|███▎      | 131/393 [00:11<00:41,  6.36it/s]"
          ]
        },
        {
          "output_type": "stream",
          "name": "stdout",
          "text": [
            "Warning: image for id=303 (129.jpg) not downloaded.\n",
            "Warning: image for id=304 (130.jpg) not downloaded.\n"
          ]
        },
        {
          "output_type": "stream",
          "name": "stderr",
          "text": [
            "\r 34%|███▎      | 132/393 [00:12<00:43,  5.94it/s]"
          ]
        },
        {
          "output_type": "stream",
          "name": "stdout",
          "text": [
            "Warning: image for id=305 (131.jpg) not downloaded.\n"
          ]
        },
        {
          "output_type": "stream",
          "name": "stderr",
          "text": [
            "\r 34%|███▍      | 133/393 [00:12<01:07,  3.87it/s]"
          ]
        },
        {
          "output_type": "stream",
          "name": "stdout",
          "text": [
            "Warning: image for id=306 (132.jpg) not downloaded.\n",
            "Warning: image for id=307 (133.jpg) not downloaded.\n"
          ]
        },
        {
          "output_type": "stream",
          "name": "stderr",
          "text": [
            " 35%|███▍      | 137/393 [00:13<00:41,  6.16it/s]"
          ]
        },
        {
          "output_type": "stream",
          "name": "stdout",
          "text": [
            "Warning: image for id=308 (134.jpg) not downloaded.\n",
            "Warning: image for id=309 (135.jpg) not downloaded.\n",
            "Warning: image for id=310 (136.jpg) not downloaded.\n"
          ]
        },
        {
          "output_type": "stream",
          "name": "stderr",
          "text": [
            "\r 35%|███▌      | 139/393 [00:13<00:33,  7.48it/s]"
          ]
        },
        {
          "output_type": "stream",
          "name": "stdout",
          "text": [
            "Warning: image for id=311 (137.jpg) not downloaded.\n",
            "Warning: image for id=312 (138.jpg) not downloaded.\n",
            "Warning: image for id=313 (139.jpg) not downloaded.\n"
          ]
        },
        {
          "output_type": "stream",
          "name": "stderr",
          "text": [
            " 36%|███▋      | 143/393 [00:13<00:26,  9.27it/s]"
          ]
        },
        {
          "output_type": "stream",
          "name": "stdout",
          "text": [
            "Warning: image for id=314 (140.jpg) not downloaded.\n",
            "Warning: image for id=315 (141.jpg) not downloaded.\n",
            "Warning: image for id=316 (142.jpg) not downloaded.\n"
          ]
        },
        {
          "output_type": "stream",
          "name": "stderr",
          "text": [
            "\r 37%|███▋      | 145/393 [00:13<00:24, 10.04it/s]"
          ]
        },
        {
          "output_type": "stream",
          "name": "stdout",
          "text": [
            "Warning: image for id=317 (143.jpg) not downloaded.\n",
            "Warning: image for id=318 (144.jpg) not downloaded.\n",
            "Warning: image for id=319 (145.jpg) not downloaded.\n"
          ]
        },
        {
          "output_type": "stream",
          "name": "stderr",
          "text": [
            " 38%|███▊      | 149/393 [00:14<00:21, 11.25it/s]"
          ]
        },
        {
          "output_type": "stream",
          "name": "stdout",
          "text": [
            "Warning: image for id=320 (146.jpg) not downloaded.\n",
            "Warning: image for id=321 (147.jpg) not downloaded.\n",
            "Warning: image for id=322 (148.jpg) not downloaded.\n"
          ]
        },
        {
          "output_type": "stream",
          "name": "stderr",
          "text": [
            "\r 38%|███▊      | 151/393 [00:14<00:22, 10.76it/s]"
          ]
        },
        {
          "output_type": "stream",
          "name": "stdout",
          "text": [
            "Warning: image for id=323 (149.jpg) not downloaded.\n",
            "Warning: image for id=324 (150.jpg) not downloaded.\n",
            "Warning: image for id=325 (151.jpg) not downloaded.\n"
          ]
        },
        {
          "output_type": "stream",
          "name": "stderr",
          "text": [
            " 39%|███▉      | 155/393 [00:14<00:20, 11.47it/s]"
          ]
        },
        {
          "output_type": "stream",
          "name": "stdout",
          "text": [
            "Warning: image for id=326 (152.jpg) not downloaded.\n",
            "Warning: image for id=327 (153.jpg) not downloaded.\n",
            "Warning: image for id=328 (154.jpg) not downloaded.\n"
          ]
        },
        {
          "output_type": "stream",
          "name": "stderr",
          "text": [
            "\r 40%|███▉      | 157/393 [00:14<00:20, 11.77it/s]"
          ]
        },
        {
          "output_type": "stream",
          "name": "stdout",
          "text": [
            "Warning: image for id=329 (155.jpg) not downloaded.\n",
            "Warning: image for id=330 (156.jpg) not downloaded.\n",
            "Warning: image for id=331 (157.jpg) not downloaded.\n"
          ]
        },
        {
          "output_type": "stream",
          "name": "stderr",
          "text": [
            " 41%|████      | 161/393 [00:15<00:19, 11.93it/s]"
          ]
        },
        {
          "output_type": "stream",
          "name": "stdout",
          "text": [
            "Warning: image for id=332 (158.jpg) not downloaded.\n",
            "Warning: image for id=333 (159.jpg) not downloaded.\n",
            "Warning: image for id=334 (160.jpg) not downloaded.\n"
          ]
        },
        {
          "output_type": "stream",
          "name": "stderr",
          "text": [
            "\r 41%|████▏     | 163/393 [00:15<00:19, 12.07it/s]"
          ]
        },
        {
          "output_type": "stream",
          "name": "stdout",
          "text": [
            "Warning: image for id=335 (161.jpg) not downloaded.\n",
            "Warning: image for id=336 (162.jpg) not downloaded.\n",
            "Warning: image for id=337 (163.jpg) not downloaded.\n"
          ]
        },
        {
          "output_type": "stream",
          "name": "stderr",
          "text": [
            " 42%|████▏     | 167/393 [00:15<00:18, 11.99it/s]"
          ]
        },
        {
          "output_type": "stream",
          "name": "stdout",
          "text": [
            "Warning: image for id=338 (164.jpg) not downloaded.\n",
            "Warning: image for id=339 (165.jpg) not downloaded.\n",
            "Warning: image for id=340 (166.jpg) not downloaded.\n"
          ]
        },
        {
          "output_type": "stream",
          "name": "stderr",
          "text": [
            "\r 43%|████▎     | 169/393 [00:15<00:18, 11.89it/s]"
          ]
        },
        {
          "output_type": "stream",
          "name": "stdout",
          "text": [
            "Warning: image for id=341 (167.jpg) not downloaded.\n",
            "Warning: image for id=342 (168.jpg) not downloaded.\n",
            "Warning: image for id=343 (169.jpg) not downloaded.\n"
          ]
        },
        {
          "output_type": "stream",
          "name": "stderr",
          "text": [
            " 44%|████▍     | 173/393 [00:16<00:18, 11.99it/s]"
          ]
        },
        {
          "output_type": "stream",
          "name": "stdout",
          "text": [
            "Warning: image for id=344 (170.jpg) not downloaded.\n",
            "Warning: image for id=345 (171.jpg) not downloaded.\n",
            "Warning: image for id=346 (172.jpg) not downloaded.\n"
          ]
        },
        {
          "output_type": "stream",
          "name": "stderr",
          "text": [
            "\r 45%|████▍     | 175/393 [00:16<00:18, 11.54it/s]"
          ]
        },
        {
          "output_type": "stream",
          "name": "stdout",
          "text": [
            "Warning: image for id=347 (173.jpg) not downloaded.\n",
            "Warning: image for id=348 (174.jpg) not downloaded.\n",
            "Warning: image for id=349 (175.jpg) not downloaded.\n"
          ]
        },
        {
          "output_type": "stream",
          "name": "stderr",
          "text": [
            " 46%|████▌     | 179/393 [00:16<00:17, 11.93it/s]"
          ]
        },
        {
          "output_type": "stream",
          "name": "stdout",
          "text": [
            "Warning: image for id=350 (176.jpg) not downloaded.\n",
            "Warning: image for id=351 (177.jpg) not downloaded.\n",
            "Warning: image for id=352 (178.jpg) not downloaded.\n"
          ]
        },
        {
          "output_type": "stream",
          "name": "stderr",
          "text": [
            "\r 46%|████▌     | 181/393 [00:16<00:17, 12.04it/s]"
          ]
        },
        {
          "output_type": "stream",
          "name": "stdout",
          "text": [
            "Warning: image for id=353 (179.jpg) not downloaded.\n",
            "Warning: image for id=354 (180.jpg) not downloaded.\n"
          ]
        },
        {
          "output_type": "stream",
          "name": "stderr",
          "text": [
            "\r 47%|████▋     | 183/393 [00:17<00:20, 10.04it/s]"
          ]
        },
        {
          "output_type": "stream",
          "name": "stdout",
          "text": [
            "Warning: image for id=355 (181.jpg) not downloaded.\n",
            "Warning: image for id=356 (182.jpg) not downloaded.\n",
            "Warning: image for id=357 (183.jpg) not downloaded.\n"
          ]
        },
        {
          "output_type": "stream",
          "name": "stderr",
          "text": [
            " 48%|████▊     | 187/393 [00:17<00:18, 11.15it/s]"
          ]
        },
        {
          "output_type": "stream",
          "name": "stdout",
          "text": [
            "Warning: image for id=358 (184.jpg) not downloaded.\n",
            "Warning: image for id=359 (185.jpg) not downloaded.\n",
            "Warning: image for id=360 (186.jpg) not downloaded.\n"
          ]
        },
        {
          "output_type": "stream",
          "name": "stderr",
          "text": [
            "\r 48%|████▊     | 189/393 [00:17<00:18, 11.15it/s]"
          ]
        },
        {
          "output_type": "stream",
          "name": "stdout",
          "text": [
            "Warning: image for id=361 (187.jpg) not downloaded.\n",
            "Warning: image for id=362 (188.jpg) not downloaded.\n",
            "Warning: image for id=363 (189.jpg) not downloaded.\n"
          ]
        },
        {
          "output_type": "stream",
          "name": "stderr",
          "text": [
            " 49%|████▉     | 193/393 [00:17<00:17, 11.54it/s]"
          ]
        },
        {
          "output_type": "stream",
          "name": "stdout",
          "text": [
            "Warning: image for id=364 (190.jpg) not downloaded.\n",
            "Warning: image for id=365 (191.jpg) not downloaded.\n",
            "Warning: image for id=366 (192.jpg) not downloaded.\n"
          ]
        },
        {
          "output_type": "stream",
          "name": "stderr",
          "text": [
            "\r 50%|████▉     | 195/393 [00:18<00:16, 11.83it/s]"
          ]
        },
        {
          "output_type": "stream",
          "name": "stdout",
          "text": [
            "Warning: image for id=367 (193.jpg) not downloaded.\n",
            "Warning: image for id=368 (194.jpg) not downloaded.\n",
            "Warning: image for id=369 (195.jpg) not downloaded.\n"
          ]
        },
        {
          "output_type": "stream",
          "name": "stderr",
          "text": [
            " 51%|█████     | 199/393 [00:18<00:15, 12.17it/s]"
          ]
        },
        {
          "output_type": "stream",
          "name": "stdout",
          "text": [
            "Warning: image for id=370 (196.jpg) not downloaded.\n",
            "Warning: image for id=371 (197.jpg) not downloaded.\n",
            "Warning: image for id=372 (198.jpg) not downloaded.\n"
          ]
        },
        {
          "output_type": "stream",
          "name": "stderr",
          "text": [
            "\r 51%|█████     | 201/393 [00:18<00:15, 12.36it/s]"
          ]
        },
        {
          "output_type": "stream",
          "name": "stdout",
          "text": [
            "Warning: image for id=373 (199.jpg) not downloaded.\n",
            "Warning: image for id=374 (200.jpg) not downloaded.\n",
            "Warning: image for id=375 (201.jpg) not downloaded.\n"
          ]
        },
        {
          "output_type": "stream",
          "name": "stderr",
          "text": [
            " 52%|█████▏    | 205/393 [00:18<00:16, 11.73it/s]"
          ]
        },
        {
          "output_type": "stream",
          "name": "stdout",
          "text": [
            "Warning: image for id=376 (202.jpg) not downloaded.\n",
            "Warning: image for id=377 (203.jpg) not downloaded.\n",
            "Warning: image for id=378 (204.jpg) not downloaded.\n"
          ]
        },
        {
          "output_type": "stream",
          "name": "stderr",
          "text": [
            "\r 53%|█████▎    | 207/393 [00:19<00:17, 10.91it/s]"
          ]
        },
        {
          "output_type": "stream",
          "name": "stdout",
          "text": [
            "Warning: image for id=379 (205.jpg) not downloaded.\n",
            "Warning: image for id=380 (206.jpg) not downloaded.\n"
          ]
        },
        {
          "output_type": "stream",
          "name": "stderr",
          "text": [
            "\r 53%|█████▎    | 209/393 [00:19<00:18, 10.21it/s]"
          ]
        },
        {
          "output_type": "stream",
          "name": "stdout",
          "text": [
            "Warning: image for id=381 (207.jpg) not downloaded.\n",
            "Warning: image for id=382 (208.jpg) not downloaded.\n",
            "Warning: image for id=383 (209.jpg) not downloaded.\n"
          ]
        },
        {
          "output_type": "stream",
          "name": "stderr",
          "text": [
            " 54%|█████▍    | 213/393 [00:19<00:16, 11.09it/s]"
          ]
        },
        {
          "output_type": "stream",
          "name": "stdout",
          "text": [
            "Warning: image for id=384 (210.jpg) not downloaded.\n",
            "Warning: image for id=385 (211.jpg) not downloaded.\n",
            "Warning: image for id=386 (212.jpg) not downloaded.\n"
          ]
        },
        {
          "output_type": "stream",
          "name": "stderr",
          "text": [
            "\r 55%|█████▍    | 215/393 [00:19<00:17, 10.46it/s]"
          ]
        },
        {
          "output_type": "stream",
          "name": "stdout",
          "text": [
            "Warning: image for id=387 (213.jpg) not downloaded.\n",
            "Warning: image for id=388 (214.jpg) not downloaded.\n",
            "Warning: image for id=389 (215.jpg) not downloaded.\n"
          ]
        },
        {
          "output_type": "stream",
          "name": "stderr",
          "text": [
            " 56%|█████▌    | 219/393 [00:20<00:15, 11.35it/s]"
          ]
        },
        {
          "output_type": "stream",
          "name": "stdout",
          "text": [
            "Warning: image for id=390 (216.jpg) not downloaded.\n",
            "Warning: image for id=391 (217.jpg) not downloaded.\n",
            "Warning: image for id=392 (218.jpg) not downloaded.\n"
          ]
        },
        {
          "output_type": "stream",
          "name": "stderr",
          "text": [
            "\r 56%|█████▌    | 221/393 [00:20<00:14, 11.64it/s]"
          ]
        },
        {
          "output_type": "stream",
          "name": "stdout",
          "text": [
            "Warning: image for id=393 (219.jpg) not downloaded.\n",
            "Warning: image for id=394 (220.jpg) not downloaded.\n",
            "Warning: image for id=395 (221.jpg) not downloaded.\n"
          ]
        },
        {
          "output_type": "stream",
          "name": "stderr",
          "text": [
            " 57%|█████▋    | 225/393 [00:20<00:14, 11.82it/s]"
          ]
        },
        {
          "output_type": "stream",
          "name": "stdout",
          "text": [
            "Warning: image for id=396 (222.jpg) not downloaded.\n",
            "Warning: image for id=397 (223.jpg) not downloaded.\n",
            "Warning: image for id=398 (224.jpg) not downloaded.\n"
          ]
        },
        {
          "output_type": "stream",
          "name": "stderr",
          "text": [
            "\r 58%|█████▊    | 227/393 [00:20<00:13, 11.99it/s]"
          ]
        },
        {
          "output_type": "stream",
          "name": "stdout",
          "text": [
            "Warning: image for id=399 (225.jpg) not downloaded.\n",
            "Warning: image for id=400 (226.jpg) not downloaded.\n",
            "Warning: image for id=401 (227.jpg) not downloaded.\n"
          ]
        },
        {
          "output_type": "stream",
          "name": "stderr",
          "text": [
            " 59%|█████▉    | 231/393 [00:21<00:13, 12.19it/s]"
          ]
        },
        {
          "output_type": "stream",
          "name": "stdout",
          "text": [
            "Warning: image for id=402 (228.jpg) not downloaded.\n",
            "Warning: image for id=403 (229.jpg) not downloaded.\n",
            "Warning: image for id=404 (230.jpg) not downloaded.\n"
          ]
        },
        {
          "output_type": "stream",
          "name": "stderr",
          "text": [
            "\r 59%|█████▉    | 233/393 [00:21<00:13, 12.31it/s]"
          ]
        },
        {
          "output_type": "stream",
          "name": "stdout",
          "text": [
            "Warning: image for id=405 (231.jpg) not downloaded.\n",
            "Warning: image for id=406 (232.jpg) not downloaded.\n",
            "Warning: image for id=407 (233.jpg) not downloaded.\n"
          ]
        },
        {
          "output_type": "stream",
          "name": "stderr",
          "text": [
            " 60%|██████    | 237/393 [00:21<00:12, 12.22it/s]"
          ]
        },
        {
          "output_type": "stream",
          "name": "stdout",
          "text": [
            "Warning: image for id=408 (234.jpg) not downloaded.\n",
            "Warning: image for id=409 (235.jpg) not downloaded.\n",
            "Warning: image for id=410 (236.jpg) not downloaded.\n"
          ]
        },
        {
          "output_type": "stream",
          "name": "stderr",
          "text": [
            "\r 61%|██████    | 239/393 [00:21<00:12, 12.36it/s]"
          ]
        },
        {
          "output_type": "stream",
          "name": "stdout",
          "text": [
            "Warning: image for id=411 (237.jpg) not downloaded.\n",
            "Warning: image for id=412 (238.jpg) not downloaded.\n",
            "Warning: image for id=413 (239.jpg) not downloaded.\n"
          ]
        },
        {
          "output_type": "stream",
          "name": "stderr",
          "text": [
            " 62%|██████▏   | 243/393 [00:22<00:11, 12.52it/s]"
          ]
        },
        {
          "output_type": "stream",
          "name": "stdout",
          "text": [
            "Warning: image for id=414 (240.jpg) not downloaded.\n",
            "Warning: image for id=415 (241.jpg) not downloaded.\n",
            "Warning: image for id=416 (242.jpg) not downloaded.\n"
          ]
        },
        {
          "output_type": "stream",
          "name": "stderr",
          "text": [
            "\r 62%|██████▏   | 245/393 [00:22<00:11, 12.57it/s]"
          ]
        },
        {
          "output_type": "stream",
          "name": "stdout",
          "text": [
            "Warning: image for id=417 (243.jpg) not downloaded.\n",
            "Warning: image for id=418 (244.jpg) not downloaded.\n",
            "Warning: image for id=419 (245.jpg) not downloaded.\n"
          ]
        },
        {
          "output_type": "stream",
          "name": "stderr",
          "text": [
            "\r 63%|██████▎   | 247/393 [00:22<00:11, 12.68it/s]"
          ]
        },
        {
          "output_type": "stream",
          "name": "stdout",
          "text": [
            "Warning: image for id=420 (246.jpg) not downloaded.\n",
            "Warning: image for id=421 (247.jpg) not downloaded.\n"
          ]
        },
        {
          "output_type": "stream",
          "name": "stderr",
          "text": [
            " 64%|██████▍   | 251/393 [00:22<00:12, 11.68it/s]"
          ]
        },
        {
          "output_type": "stream",
          "name": "stdout",
          "text": [
            "Warning: image for id=422 (248.jpg) not downloaded.\n",
            "Warning: image for id=423 (249.jpg) not downloaded.\n",
            "Warning: image for id=424 (250.jpg) not downloaded.\n"
          ]
        },
        {
          "output_type": "stream",
          "name": "stderr",
          "text": [
            "\r 64%|██████▍   | 253/393 [00:23<00:12, 11.14it/s]"
          ]
        },
        {
          "output_type": "stream",
          "name": "stdout",
          "text": [
            "Warning: image for id=425 (251.jpg) not downloaded.\n",
            "Warning: image for id=426 (252.jpg) not downloaded.\n",
            "Warning: image for id=427 (253.jpg) not downloaded.\n"
          ]
        },
        {
          "output_type": "stream",
          "name": "stderr",
          "text": [
            "\r 65%|██████▍   | 255/393 [00:23<00:11, 11.51it/s]"
          ]
        },
        {
          "output_type": "stream",
          "name": "stdout",
          "text": [
            "Warning: image for id=428 (254.jpg) not downloaded.\n",
            "Warning: image for id=429 (255.jpg) not downloaded.\n"
          ]
        },
        {
          "output_type": "stream",
          "name": "stderr",
          "text": [
            " 66%|██████▌   | 259/393 [00:23<00:11, 11.42it/s]"
          ]
        },
        {
          "output_type": "stream",
          "name": "stdout",
          "text": [
            "Warning: image for id=430 (256.jpg) not downloaded.\n",
            "Warning: image for id=431 (257.jpg) not downloaded.\n",
            "Warning: image for id=432 (258.jpg) not downloaded.\n"
          ]
        },
        {
          "output_type": "stream",
          "name": "stderr",
          "text": [
            "\r 66%|██████▋   | 261/393 [00:23<00:11, 11.73it/s]"
          ]
        },
        {
          "output_type": "stream",
          "name": "stdout",
          "text": [
            "Warning: image for id=433 (259.jpg) not downloaded.\n",
            "Warning: image for id=434 (260.jpg) not downloaded.\n",
            "Warning: image for id=435 (261.jpg) not downloaded.\n"
          ]
        },
        {
          "output_type": "stream",
          "name": "stderr",
          "text": [
            "\r 67%|██████▋   | 263/393 [00:23<00:10, 11.96it/s]"
          ]
        },
        {
          "output_type": "stream",
          "name": "stdout",
          "text": [
            "Warning: image for id=436 (262.jpg) not downloaded.\n",
            "Warning: image for id=437 (263.jpg) not downloaded.\n"
          ]
        },
        {
          "output_type": "stream",
          "name": "stderr",
          "text": [
            " 68%|██████▊   | 267/393 [00:24<00:10, 11.64it/s]"
          ]
        },
        {
          "output_type": "stream",
          "name": "stdout",
          "text": [
            "Warning: image for id=438 (264.jpg) not downloaded.\n",
            "Warning: image for id=439 (265.jpg) not downloaded.\n",
            "Warning: image for id=440 (266.jpg) not downloaded.\n"
          ]
        },
        {
          "output_type": "stream",
          "name": "stderr",
          "text": [
            "\r 68%|██████▊   | 269/393 [00:24<00:10, 11.88it/s]"
          ]
        },
        {
          "output_type": "stream",
          "name": "stdout",
          "text": [
            "Warning: image for id=441 (267.jpg) not downloaded.\n",
            "Warning: image for id=442 (268.jpg) not downloaded.\n",
            "Warning: image for id=443 (269.jpg) not downloaded.\n"
          ]
        },
        {
          "output_type": "stream",
          "name": "stderr",
          "text": [
            " 69%|██████▉   | 273/393 [00:24<00:10, 11.20it/s]"
          ]
        },
        {
          "output_type": "stream",
          "name": "stdout",
          "text": [
            "Warning: image for id=444 (270.jpg) not downloaded.\n",
            "Warning: image for id=445 (271.jpg) not downloaded.\n",
            "Warning: image for id=446 (272.jpg) not downloaded.\n"
          ]
        },
        {
          "output_type": "stream",
          "name": "stderr",
          "text": [
            "\r 70%|██████▉   | 275/393 [00:24<00:10, 11.63it/s]"
          ]
        },
        {
          "output_type": "stream",
          "name": "stdout",
          "text": [
            "Warning: image for id=447 (273.jpg) not downloaded.\n",
            "Warning: image for id=448 (274.jpg) not downloaded.\n",
            "Warning: image for id=449 (275.jpg) not downloaded.\n"
          ]
        },
        {
          "output_type": "stream",
          "name": "stderr",
          "text": [
            "\r 70%|███████   | 277/393 [00:25<00:10, 11.22it/s]"
          ]
        },
        {
          "output_type": "stream",
          "name": "stdout",
          "text": [
            "Warning: image for id=450 (276.jpg) not downloaded.\n",
            "Warning: image for id=451 (277.jpg) not downloaded.\n"
          ]
        },
        {
          "output_type": "stream",
          "name": "stderr",
          "text": [
            " 72%|███████▏  | 281/393 [00:25<00:10, 10.81it/s]"
          ]
        },
        {
          "output_type": "stream",
          "name": "stdout",
          "text": [
            "Warning: image for id=452 (278.jpg) not downloaded.\n",
            "Warning: image for id=453 (279.jpg) not downloaded.\n",
            "Warning: image for id=454 (280.jpg) not downloaded.\n"
          ]
        },
        {
          "output_type": "stream",
          "name": "stderr",
          "text": [
            "\r 72%|███████▏  | 283/393 [00:25<00:09, 11.38it/s]"
          ]
        },
        {
          "output_type": "stream",
          "name": "stdout",
          "text": [
            "Warning: image for id=455 (281.jpg) not downloaded.\n",
            "Warning: image for id=456 (282.jpg) not downloaded.\n",
            "Warning: image for id=457 (283.jpg) not downloaded.\n"
          ]
        },
        {
          "output_type": "stream",
          "name": "stderr",
          "text": [
            " 73%|███████▎  | 287/393 [00:26<00:09, 11.59it/s]"
          ]
        },
        {
          "output_type": "stream",
          "name": "stdout",
          "text": [
            "Warning: image for id=458 (284.jpg) not downloaded.\n",
            "Warning: image for id=459 (285.jpg) not downloaded.\n",
            "Warning: image for id=460 (286.jpg) not downloaded.\n"
          ]
        },
        {
          "output_type": "stream",
          "name": "stderr",
          "text": [
            "\r 74%|███████▎  | 289/393 [00:26<00:08, 11.87it/s]"
          ]
        },
        {
          "output_type": "stream",
          "name": "stdout",
          "text": [
            "Warning: image for id=461 (287.jpg) not downloaded.\n",
            "Warning: image for id=462 (288.jpg) not downloaded.\n",
            "Warning: image for id=463 (289.jpg) not downloaded.\n"
          ]
        },
        {
          "output_type": "stream",
          "name": "stderr",
          "text": [
            " 75%|███████▍  | 293/393 [00:26<00:08, 11.64it/s]"
          ]
        },
        {
          "output_type": "stream",
          "name": "stdout",
          "text": [
            "Warning: image for id=464 (290.jpg) not downloaded.\n",
            "Warning: image for id=465 (291.jpg) not downloaded.\n",
            "Warning: image for id=466 (292.jpg) not downloaded.\n"
          ]
        },
        {
          "output_type": "stream",
          "name": "stderr",
          "text": [
            "\r 75%|███████▌  | 295/393 [00:26<00:08, 11.92it/s]"
          ]
        },
        {
          "output_type": "stream",
          "name": "stdout",
          "text": [
            "Warning: image for id=467 (293.jpg) not downloaded.\n",
            "Warning: image for id=468 (294.jpg) not downloaded.\n",
            "Warning: image for id=469 (295.jpg) not downloaded.\n"
          ]
        },
        {
          "output_type": "stream",
          "name": "stderr",
          "text": [
            " 76%|███████▌  | 299/393 [00:26<00:07, 12.32it/s]"
          ]
        },
        {
          "output_type": "stream",
          "name": "stdout",
          "text": [
            "Warning: image for id=470 (296.jpg) not downloaded.\n",
            "Warning: image for id=471 (297.jpg) not downloaded.\n",
            "Warning: image for id=472 (298.jpg) not downloaded.\n"
          ]
        },
        {
          "output_type": "stream",
          "name": "stderr",
          "text": [
            "\r 77%|███████▋  | 301/393 [00:27<00:07, 12.43it/s]"
          ]
        },
        {
          "output_type": "stream",
          "name": "stdout",
          "text": [
            "Warning: image for id=473 (299.jpg) not downloaded.\n",
            "Warning: image for id=474 (300.jpg) not downloaded.\n",
            "Warning: image for id=475 (301.jpg) not downloaded.\n"
          ]
        },
        {
          "output_type": "stream",
          "name": "stderr",
          "text": [
            " 78%|███████▊  | 305/393 [00:27<00:07, 12.36it/s]"
          ]
        },
        {
          "output_type": "stream",
          "name": "stdout",
          "text": [
            "Warning: image for id=476 (302.jpg) not downloaded.\n",
            "Warning: image for id=477 (303.jpg) not downloaded.\n",
            "Warning: image for id=478 (304.jpg) not downloaded.\n"
          ]
        },
        {
          "output_type": "stream",
          "name": "stderr",
          "text": [
            "\r 78%|███████▊  | 307/393 [00:27<00:07, 10.93it/s]"
          ]
        },
        {
          "output_type": "stream",
          "name": "stdout",
          "text": [
            "Warning: image for id=479 (305.jpg) not downloaded.\n",
            "Warning: image for id=480 (306.jpg) not downloaded.\n",
            "Warning: image for id=481 (307.jpg) not downloaded.\n"
          ]
        },
        {
          "output_type": "stream",
          "name": "stderr",
          "text": [
            " 79%|███████▉  | 311/393 [00:28<00:07, 11.27it/s]"
          ]
        },
        {
          "output_type": "stream",
          "name": "stdout",
          "text": [
            "Warning: image for id=482 (308.jpg) not downloaded.\n",
            "Warning: image for id=483 (309.jpg) not downloaded.\n",
            "Warning: image for id=484 (310.jpg) not downloaded.\n"
          ]
        },
        {
          "output_type": "stream",
          "name": "stderr",
          "text": [
            "\r 80%|███████▉  | 313/393 [00:28<00:06, 11.64it/s]"
          ]
        },
        {
          "output_type": "stream",
          "name": "stdout",
          "text": [
            "Warning: image for id=485 (311.jpg) not downloaded.\n",
            "Warning: image for id=486 (312.jpg) not downloaded.\n",
            "Warning: image for id=487 (313.jpg) not downloaded.\n"
          ]
        },
        {
          "output_type": "stream",
          "name": "stderr",
          "text": [
            " 81%|████████  | 317/393 [00:28<00:08,  9.41it/s]"
          ]
        },
        {
          "output_type": "stream",
          "name": "stdout",
          "text": [
            "Warning: image for id=488 (314.jpg) not downloaded.\n",
            "Warning: image for id=489 (315.jpg) not downloaded.\n",
            "Warning: image for id=490 (316.jpg) not downloaded.\n",
            "Warning: image for id=491 (317.jpg) not downloaded.\n"
          ]
        },
        {
          "output_type": "stream",
          "name": "stderr",
          "text": [
            " 82%|████████▏ | 321/393 [00:30<00:19,  3.70it/s]"
          ]
        },
        {
          "output_type": "stream",
          "name": "stdout",
          "text": [
            "Warning: image for id=492 (318.jpg) not downloaded.\n",
            "Warning: image for id=493 (319.jpg) not downloaded.\n",
            "Warning: image for id=494 (320.jpg) not downloaded.\n"
          ]
        },
        {
          "output_type": "stream",
          "name": "stderr",
          "text": [
            "\r 82%|████████▏ | 323/393 [00:30<00:14,  4.70it/s]"
          ]
        },
        {
          "output_type": "stream",
          "name": "stdout",
          "text": [
            "Warning: image for id=495 (321.jpg) not downloaded.\n",
            "Warning: image for id=496 (322.jpg) not downloaded.\n",
            "Warning: image for id=497 (323.jpg) not downloaded.\n"
          ]
        },
        {
          "output_type": "stream",
          "name": "stderr",
          "text": [
            " 83%|████████▎ | 327/393 [00:31<00:09,  6.73it/s]"
          ]
        },
        {
          "output_type": "stream",
          "name": "stdout",
          "text": [
            "Warning: image for id=498 (324.jpg) not downloaded.\n",
            "Warning: image for id=499 (325.jpg) not downloaded.\n",
            "Warning: image for id=500 (326.jpg) not downloaded.\n"
          ]
        },
        {
          "output_type": "stream",
          "name": "stderr",
          "text": [
            "\r 84%|████████▎ | 329/393 [00:31<00:08,  7.75it/s]"
          ]
        },
        {
          "output_type": "stream",
          "name": "stdout",
          "text": [
            "Warning: image for id=501 (327.jpg) not downloaded.\n",
            "Warning: image for id=502 (328.jpg) not downloaded.\n",
            "Warning: image for id=503 (329.jpg) not downloaded.\n"
          ]
        },
        {
          "output_type": "stream",
          "name": "stderr",
          "text": [
            " 85%|████████▍ | 333/393 [00:31<00:06,  9.48it/s]"
          ]
        },
        {
          "output_type": "stream",
          "name": "stdout",
          "text": [
            "Warning: image for id=504 (330.jpg) not downloaded.\n",
            "Warning: image for id=505 (331.jpg) not downloaded.\n",
            "Warning: image for id=506 (332.jpg) not downloaded.\n"
          ]
        },
        {
          "output_type": "stream",
          "name": "stderr",
          "text": [
            "\r 85%|████████▌ | 335/393 [00:31<00:05, 10.22it/s]"
          ]
        },
        {
          "output_type": "stream",
          "name": "stdout",
          "text": [
            "Warning: image for id=507 (333.jpg) not downloaded.\n",
            "Warning: image for id=508 (334.jpg) not downloaded.\n",
            "Warning: image for id=509 (335.jpg) not downloaded.\n"
          ]
        },
        {
          "output_type": "stream",
          "name": "stderr",
          "text": [
            " 86%|████████▋ | 339/393 [00:32<00:04, 11.11it/s]"
          ]
        },
        {
          "output_type": "stream",
          "name": "stdout",
          "text": [
            "Warning: image for id=510 (336.jpg) not downloaded.\n",
            "Warning: image for id=511 (337.jpg) not downloaded.\n",
            "Warning: image for id=512 (338.jpg) not downloaded.\n"
          ]
        },
        {
          "output_type": "stream",
          "name": "stderr",
          "text": [
            "\r 87%|████████▋ | 341/393 [00:32<00:04, 11.45it/s]"
          ]
        },
        {
          "output_type": "stream",
          "name": "stdout",
          "text": [
            "Warning: image for id=513 (339.jpg) not downloaded.\n",
            "Warning: image for id=514 (340.jpg) not downloaded.\n",
            "Warning: image for id=515 (341.jpg) not downloaded.\n"
          ]
        },
        {
          "output_type": "stream",
          "name": "stderr",
          "text": [
            " 88%|████████▊ | 345/393 [00:32<00:04, 11.88it/s]"
          ]
        },
        {
          "output_type": "stream",
          "name": "stdout",
          "text": [
            "Warning: image for id=516 (342.jpg) not downloaded.\n",
            "Warning: image for id=517 (343.jpg) not downloaded.\n",
            "Warning: image for id=518 (344.jpg) not downloaded.\n"
          ]
        },
        {
          "output_type": "stream",
          "name": "stderr",
          "text": [
            "\r 88%|████████▊ | 347/393 [00:32<00:03, 12.08it/s]"
          ]
        },
        {
          "output_type": "stream",
          "name": "stdout",
          "text": [
            "Warning: image for id=519 (345.jpg) not downloaded.\n",
            "Warning: image for id=520 (346.jpg) not downloaded.\n",
            "Warning: image for id=521 (347.jpg) not downloaded.\n"
          ]
        },
        {
          "output_type": "stream",
          "name": "stderr",
          "text": [
            " 89%|████████▉ | 351/393 [00:33<00:03, 11.55it/s]"
          ]
        },
        {
          "output_type": "stream",
          "name": "stdout",
          "text": [
            "Warning: image for id=522 (348.jpg) not downloaded.\n",
            "Warning: image for id=523 (349.jpg) not downloaded.\n",
            "Warning: image for id=524 (350.jpg) not downloaded.\n"
          ]
        },
        {
          "output_type": "stream",
          "name": "stderr",
          "text": [
            "\r 90%|████████▉ | 353/393 [00:33<00:03, 11.87it/s]"
          ]
        },
        {
          "output_type": "stream",
          "name": "stdout",
          "text": [
            "Warning: image for id=525 (351.jpg) not downloaded.\n",
            "Warning: image for id=526 (352.jpg) not downloaded.\n",
            "Warning: image for id=527 (353.jpg) not downloaded.\n"
          ]
        },
        {
          "output_type": "stream",
          "name": "stderr",
          "text": [
            " 91%|█████████ | 357/393 [00:33<00:02, 12.18it/s]"
          ]
        },
        {
          "output_type": "stream",
          "name": "stdout",
          "text": [
            "Warning: image for id=528 (354.jpg) not downloaded.\n",
            "Warning: image for id=529 (355.jpg) not downloaded.\n",
            "Warning: image for id=530 (356.jpg) not downloaded.\n"
          ]
        },
        {
          "output_type": "stream",
          "name": "stderr",
          "text": [
            "\r 91%|█████████▏| 359/393 [00:33<00:02, 12.31it/s]"
          ]
        },
        {
          "output_type": "stream",
          "name": "stdout",
          "text": [
            "Warning: image for id=531 (357.jpg) not downloaded.\n",
            "Warning: image for id=532 (358.jpg) not downloaded.\n",
            "Warning: image for id=533 (359.jpg) not downloaded.\n"
          ]
        },
        {
          "output_type": "stream",
          "name": "stderr",
          "text": [
            " 92%|█████████▏| 363/393 [00:34<00:02, 12.02it/s]"
          ]
        },
        {
          "output_type": "stream",
          "name": "stdout",
          "text": [
            "Warning: image for id=534 (360.jpg) not downloaded.\n",
            "Warning: image for id=535 (361.jpg) not downloaded.\n",
            "Warning: image for id=536 (362.jpg) not downloaded.\n"
          ]
        },
        {
          "output_type": "stream",
          "name": "stderr",
          "text": [
            "\r 93%|█████████▎| 365/393 [00:34<00:02, 11.92it/s]"
          ]
        },
        {
          "output_type": "stream",
          "name": "stdout",
          "text": [
            "Warning: image for id=537 (363.jpg) not downloaded.\n",
            "Warning: image for id=538 (364.jpg) not downloaded.\n",
            "Warning: image for id=539 (365.jpg) not downloaded.\n"
          ]
        },
        {
          "output_type": "stream",
          "name": "stderr",
          "text": [
            " 94%|█████████▍| 369/393 [00:34<00:01, 12.12it/s]"
          ]
        },
        {
          "output_type": "stream",
          "name": "stdout",
          "text": [
            "Warning: image for id=540 (366.jpg) not downloaded.\n",
            "Warning: image for id=541 (367.jpg) not downloaded.\n",
            "Warning: image for id=542 (368.jpg) not downloaded.\n"
          ]
        },
        {
          "output_type": "stream",
          "name": "stderr",
          "text": [
            "\r 94%|█████████▍| 371/393 [00:34<00:01, 12.09it/s]"
          ]
        },
        {
          "output_type": "stream",
          "name": "stdout",
          "text": [
            "Warning: image for id=543 (369.jpg) not downloaded.\n",
            "Warning: image for id=544 (370.jpg) not downloaded.\n",
            "Warning: image for id=545 (371.jpg) not downloaded.\n"
          ]
        },
        {
          "output_type": "stream",
          "name": "stderr",
          "text": [
            " 95%|█████████▌| 375/393 [00:35<00:01, 12.31it/s]"
          ]
        },
        {
          "output_type": "stream",
          "name": "stdout",
          "text": [
            "Warning: image for id=546 (372.jpg) not downloaded.\n",
            "Warning: image for id=547 (373.jpg) not downloaded.\n",
            "Warning: image for id=548 (374.jpg) not downloaded.\n"
          ]
        },
        {
          "output_type": "stream",
          "name": "stderr",
          "text": [
            "\r 96%|█████████▌| 377/393 [00:35<00:01, 12.36it/s]"
          ]
        },
        {
          "output_type": "stream",
          "name": "stdout",
          "text": [
            "Warning: image for id=549 (375.jpg) not downloaded.\n",
            "Warning: image for id=550 (376.jpg) not downloaded.\n",
            "Warning: image for id=551 (377.jpg) not downloaded.\n"
          ]
        },
        {
          "output_type": "stream",
          "name": "stderr",
          "text": [
            " 97%|█████████▋| 381/393 [00:35<00:00, 12.09it/s]"
          ]
        },
        {
          "output_type": "stream",
          "name": "stdout",
          "text": [
            "Warning: image for id=552 (378.jpg) not downloaded.\n",
            "Warning: image for id=553 (379.jpg) not downloaded.\n",
            "Warning: image for id=554 (380.jpg) not downloaded.\n"
          ]
        },
        {
          "output_type": "stream",
          "name": "stderr",
          "text": [
            "\r 97%|█████████▋| 383/393 [00:35<00:00, 12.30it/s]"
          ]
        },
        {
          "output_type": "stream",
          "name": "stdout",
          "text": [
            "Warning: image for id=555 (381.jpg) not downloaded.\n",
            "Warning: image for id=556 (382.jpg) not downloaded.\n",
            "Warning: image for id=557 (383.jpg) not downloaded.\n"
          ]
        },
        {
          "output_type": "stream",
          "name": "stderr",
          "text": [
            " 98%|█████████▊| 387/393 [00:36<00:00, 12.51it/s]"
          ]
        },
        {
          "output_type": "stream",
          "name": "stdout",
          "text": [
            "Warning: image for id=558 (384.jpg) not downloaded.\n",
            "Warning: image for id=559 (385.jpg) not downloaded.\n",
            "Warning: image for id=560 (386.jpg) not downloaded.\n"
          ]
        },
        {
          "output_type": "stream",
          "name": "stderr",
          "text": [
            "\r 99%|█████████▉| 389/393 [00:36<00:00, 11.52it/s]"
          ]
        },
        {
          "output_type": "stream",
          "name": "stdout",
          "text": [
            "Warning: image for id=561 (387.jpg) not downloaded.\n",
            "Warning: image for id=562 (388.jpg) not downloaded.\n"
          ]
        },
        {
          "output_type": "stream",
          "name": "stderr",
          "text": [
            "\r 99%|█████████▉| 391/393 [00:36<00:00, 11.74it/s]"
          ]
        },
        {
          "output_type": "stream",
          "name": "stdout",
          "text": [
            "Warning: image for id=563 (389.jpg) not downloaded.\n",
            "Warning: image for id=564 (390.jpg) not downloaded.\n",
            "Warning: image for id=565 (391.jpg) not downloaded.\n"
          ]
        },
        {
          "output_type": "stream",
          "name": "stderr",
          "text": [
            "100%|██████████| 393/393 [00:36<00:00, 10.70it/s]"
          ]
        },
        {
          "output_type": "stream",
          "name": "stdout",
          "text": [
            "Warning: image for id=566 (392.jpg) not downloaded.\n",
            "Done. 393 MCQs written to phys_unibench_mcqs.json\n",
            "Images written (when available) into phys_unibench_images.zip\n"
          ]
        },
        {
          "output_type": "stream",
          "name": "stderr",
          "text": [
            "\n"
          ]
        }
      ]
    },
    {
      "cell_type": "code",
      "source": [
        "!pip install --quiet requests pillow tqdm\n"
      ],
      "metadata": {
        "id": "ZMJfMlMXg25p"
      },
      "execution_count": null,
      "outputs": []
    },
    {
      "cell_type": "code",
      "source": [
        "import os, io, sys, json, zipfile\n",
        "from typing import Optional, List\n",
        "import requests\n",
        "from PIL import Image\n",
        "\n",
        "# try to import tqdm, fallback to identity\n",
        "try:\n",
        "    from tqdm import tqdm\n",
        "except Exception:\n",
        "    def tqdm(x, **kw):\n",
        "        return x\n",
        "\n",
        "# ---- CONFIG ----\n",
        "HF_JSON_URL = \"https://huggingface.co/datasets/PrismaX/PhysUniBench/raw/main/PhysUnivBench_en_MCQ.json\"\n",
        "IMAGE_BASE_URL = \"https://huggingface.co/datasets/PrismaX/PhysUniBench/resolve/main/images/\"\n",
        "DEFAULT_START_ID = 174\n",
        "DEFAULT_OUTPUT_ZIP = \"phys_unibench_images.zip\"\n",
        "REQUEST_TIMEOUT = 30\n",
        "# ----------------\n",
        "\n",
        "def load_json(path_or_url: Optional[str]) -> List[dict]:\n",
        "    \"\"\"Load JSON either from a local file path or (if None) from HF_JSON_URL.\"\"\"\n",
        "    if path_or_url:\n",
        "        if os.path.exists(path_or_url):\n",
        "            with open(path_or_url, \"r\", encoding=\"utf-8\") as f:\n",
        "                return json.load(f)\n",
        "        else:\n",
        "            r = requests.get(path_or_url, timeout=REQUEST_TIMEOUT)\n",
        "            r.raise_for_status()\n",
        "            return r.json()\n",
        "    else:\n",
        "        r = requests.get(HF_JSON_URL, timeout=REQUEST_TIMEOUT)\n",
        "        r.raise_for_status()\n",
        "        return r.json()\n",
        "\n",
        "def candidate_filenames(original: str) -> List[str]:\n",
        "    \"\"\"Return ordered candidate filenames to try (handles 0-index vs 1-index and .jpg/.png).\"\"\"\n",
        "    if not original:\n",
        "        return []\n",
        "    base, ext = os.path.splitext(original)\n",
        "    candidates = [original, base + \".png\", base + \".jpg\"]\n",
        "    if base.isdigit():\n",
        "        try:\n",
        "            n = int(base)\n",
        "            candidates.append(str(n + 1) + \".png\")\n",
        "            candidates.append(str(n + 1) + \".jpg\")\n",
        "        except Exception:\n",
        "            pass\n",
        "    # dedupe preserving order\n",
        "    seen = set(); out=[]\n",
        "    for c in candidates:\n",
        "        if c and c not in seen:\n",
        "            seen.add(c); out.append(c)\n",
        "    return out\n",
        "\n",
        "def download_and_convert(session: requests.Session, fname: str) -> Optional[bytes]:\n",
        "    \"\"\"Download IMAGE_BASE_URL + fname and convert to PNG bytes, or return None on failure.\"\"\"\n",
        "    url = IMAGE_BASE_URL + fname\n",
        "    try:\n",
        "        resp = session.get(url, timeout=REQUEST_TIMEOUT)\n",
        "        if resp.status_code != 200 or not resp.content:\n",
        "            return None\n",
        "        try:\n",
        "            img = Image.open(io.BytesIO(resp.content)).convert(\"RGB\")\n",
        "            buf = io.BytesIO(); img.save(buf, format=\"PNG\")\n",
        "            return buf.getvalue()\n",
        "        except Exception:\n",
        "            # fallback: return raw bytes (rare)\n",
        "            return resp.content\n",
        "    except Exception:\n",
        "        return None\n",
        "\n",
        "def extract_images_to_zip(json_path: Optional[str]=None, start_id: int=DEFAULT_START_ID,\n",
        "                          output_zip: str=DEFAULT_OUTPUT_ZIP, debug: bool=False):\n",
        "    \"\"\"Main function to extract images into zip as images/image{ID}.png\"\"\"\n",
        "    try:\n",
        "        data = load_json(json_path)\n",
        "    except Exception as e:\n",
        "        print(\"Failed to load JSON:\", e)\n",
        "        return\n",
        "\n",
        "    if not isinstance(data, list):\n",
        "        print(\"JSON root is not a list; aborting.\")\n",
        "        return\n",
        "\n",
        "    session = requests.Session()\n",
        "    session.headers.update({\"User-Agent\":\"physunibench-image-extractor/1.0\"})\n",
        "\n",
        "    total = len(data)\n",
        "    print(f\"Loaded {total} entries. Starting ID = {start_id}. Output zip = {output_zip}\")\n",
        "\n",
        "    success = 0\n",
        "    failed_entries = []\n",
        "\n",
        "    # ALWAYS create the zip (context manager ensures close)\n",
        "    with zipfile.ZipFile(output_zip, mode=\"w\", compression=zipfile.ZIP_DEFLATED) as zf:\n",
        "        # a small README so the zip is never empty\n",
        "        readme_text = (\"PhysUniBench images ZIP\\n\"\n",
        "                       \"Images stored as images/image{ID}.png\\n\")\n",
        "        zf.writestr(\"README.txt\", readme_text)\n",
        "\n",
        "        current_id = start_id\n",
        "        for idx, row in enumerate(tqdm(data, desc=\"Downloading images\")):\n",
        "            qid = current_id\n",
        "            current_id += 1\n",
        "\n",
        "            # typical image key names in the dataset\n",
        "            src_image_name = \"\"\n",
        "            if isinstance(row, dict):\n",
        "                src_image_name = (row.get(\"image\") or row.get(\"img\") or row.get(\"filename\") or \"\")\n",
        "            else:\n",
        "                src_image_name = \"\"\n",
        "\n",
        "            image_zip_path = f\"images/image{qid}.png\"\n",
        "\n",
        "            if not src_image_name:\n",
        "                failed_entries.append((qid, src_image_name, [\"(no filename in JSON)\"]))\n",
        "                if debug:\n",
        "                    print(f\"[{qid}] no image filename in JSON for entry index {idx}\")\n",
        "                continue\n",
        "\n",
        "            png_bytes = None\n",
        "            tried = []\n",
        "            for cand in candidate_filenames(src_image_name):\n",
        "                tried.append(IMAGE_BASE_URL + cand)\n",
        "                png_bytes = download_and_convert(session, cand)\n",
        "                if png_bytes:\n",
        "                    break\n",
        "\n",
        "            if png_bytes:\n",
        "                zf.writestr(image_zip_path, png_bytes)\n",
        "                success += 1\n",
        "                if debug:\n",
        "                    print(f\"[{qid}] downloaded -> {image_zip_path} (source: {cand})\")\n",
        "            else:\n",
        "                failed_entries.append((qid, src_image_name, tried))\n",
        "                if debug:\n",
        "                    print(f\"[{qid}] FAILED. Tried URLs:\")\n",
        "                    for u in tried:\n",
        "                        print(\"   \", u)\n",
        "\n",
        "    abs_path = os.path.abspath(output_zip)\n",
        "    print(\"\\nFinished.\")\n",
        "    print(f\"ZIP file written to: {abs_path}\")\n",
        "    print(f\"Images downloaded: {success} / {total}\")\n",
        "    if failed_entries:\n",
        "        print(f\"Failed images: {len(failed_entries)}. Use debug=True to inspect tried URLs.\")\n",
        "    else:\n",
        "        print(\"All images downloaded successfully (or there were no image fields).\")\n",
        "\n",
        "# ---- RUN it here with defaults ----\n",
        "# change parameters below if you want (e.g., json_path='/content/PhysUnivBench_en_MCQ.json')\n",
        "extract_images_to_zip(json_path=None, start_id=174, output_zip=\"phys_unibench_images.zip\", debug=True)\n"
      ],
      "metadata": {
        "colab": {
          "base_uri": "https://localhost:8080/"
        },
        "id": "5jf_Hj9ddQxq",
        "outputId": "8038baaa-07b4-4aa6-8fac-f4e6340e01db"
      },
      "execution_count": null,
      "outputs": [
        {
          "output_type": "stream",
          "name": "stdout",
          "text": [
            "Loaded 393 entries. Starting ID = 174. Output zip = phys_unibench_images.zip\n"
          ]
        },
        {
          "output_type": "stream",
          "name": "stderr",
          "text": [
            "Downloading images:   0%|          | 1/393 [00:00<05:06,  1.28it/s]"
          ]
        },
        {
          "output_type": "stream",
          "name": "stdout",
          "text": [
            "[174] downloaded -> images/image174.png (source: 0.jpg)\n"
          ]
        },
        {
          "output_type": "stream",
          "name": "stderr",
          "text": [
            "\rDownloading images:   1%|          | 2/393 [00:01<04:29,  1.45it/s]"
          ]
        },
        {
          "output_type": "stream",
          "name": "stdout",
          "text": [
            "[175] downloaded -> images/image175.png (source: 1.jpg)\n"
          ]
        },
        {
          "output_type": "stream",
          "name": "stderr",
          "text": [
            "\rDownloading images:   1%|          | 3/393 [00:01<03:26,  1.88it/s]"
          ]
        },
        {
          "output_type": "stream",
          "name": "stdout",
          "text": [
            "[176] downloaded -> images/image176.png (source: 2.jpg)\n"
          ]
        },
        {
          "output_type": "stream",
          "name": "stderr",
          "text": [
            "\rDownloading images:   1%|          | 4/393 [00:01<02:40,  2.42it/s]"
          ]
        },
        {
          "output_type": "stream",
          "name": "stdout",
          "text": [
            "[177] downloaded -> images/image177.png (source: 3.jpg)\n"
          ]
        },
        {
          "output_type": "stream",
          "name": "stderr",
          "text": [
            "\rDownloading images:   1%|▏         | 5/393 [00:02<02:14,  2.89it/s]"
          ]
        },
        {
          "output_type": "stream",
          "name": "stdout",
          "text": [
            "[178] downloaded -> images/image178.png (source: 4.jpg)\n"
          ]
        },
        {
          "output_type": "stream",
          "name": "stderr",
          "text": [
            "\rDownloading images:   2%|▏         | 6/393 [00:02<02:03,  3.14it/s]"
          ]
        },
        {
          "output_type": "stream",
          "name": "stdout",
          "text": [
            "[179] downloaded -> images/image179.png (source: 5.jpg)\n"
          ]
        },
        {
          "output_type": "stream",
          "name": "stderr",
          "text": [
            "\rDownloading images:   2%|▏         | 7/393 [00:02<01:50,  3.49it/s]"
          ]
        },
        {
          "output_type": "stream",
          "name": "stdout",
          "text": [
            "[180] downloaded -> images/image180.png (source: 6.jpg)\n"
          ]
        },
        {
          "output_type": "stream",
          "name": "stderr",
          "text": [
            "\rDownloading images:   2%|▏         | 8/393 [00:03<02:14,  2.87it/s]"
          ]
        },
        {
          "output_type": "stream",
          "name": "stdout",
          "text": [
            "[181] downloaded -> images/image181.png (source: 7.jpg)\n"
          ]
        },
        {
          "output_type": "stream",
          "name": "stderr",
          "text": [
            "\rDownloading images:   2%|▏         | 9/393 [00:03<01:59,  3.22it/s]"
          ]
        },
        {
          "output_type": "stream",
          "name": "stdout",
          "text": [
            "[182] downloaded -> images/image182.png (source: 8.jpg)\n"
          ]
        },
        {
          "output_type": "stream",
          "name": "stderr",
          "text": [
            "\rDownloading images:   3%|▎         | 10/393 [00:03<01:56,  3.28it/s]"
          ]
        },
        {
          "output_type": "stream",
          "name": "stdout",
          "text": [
            "[183] downloaded -> images/image183.png (source: 9.jpg)\n"
          ]
        },
        {
          "output_type": "stream",
          "name": "stderr",
          "text": [
            "Downloading images:   3%|▎         | 12/393 [00:04<01:45,  3.61it/s]"
          ]
        },
        {
          "output_type": "stream",
          "name": "stdout",
          "text": [
            "[184] downloaded -> images/image184.png (source: 10.jpg)\n",
            "[185] downloaded -> images/image185.png (source: 11.jpg)\n"
          ]
        },
        {
          "output_type": "stream",
          "name": "stderr",
          "text": [
            "Downloading images:   4%|▎         | 14/393 [00:04<01:40,  3.76it/s]"
          ]
        },
        {
          "output_type": "stream",
          "name": "stdout",
          "text": [
            "[186] downloaded -> images/image186.png (source: 12.jpg)\n",
            "[187] downloaded -> images/image187.png (source: 13.jpg)\n"
          ]
        },
        {
          "output_type": "stream",
          "name": "stderr",
          "text": [
            "\rDownloading images:   4%|▍         | 15/393 [00:05<01:53,  3.34it/s]"
          ]
        },
        {
          "output_type": "stream",
          "name": "stdout",
          "text": [
            "[188] downloaded -> images/image188.png (source: 14.jpg)\n"
          ]
        },
        {
          "output_type": "stream",
          "name": "stderr",
          "text": [
            "\rDownloading images:   4%|▍         | 16/393 [00:05<01:46,  3.53it/s]"
          ]
        },
        {
          "output_type": "stream",
          "name": "stdout",
          "text": [
            "[189] downloaded -> images/image189.png (source: 15.jpg)\n"
          ]
        },
        {
          "output_type": "stream",
          "name": "stderr",
          "text": [
            "\rDownloading images:   4%|▍         | 17/393 [00:05<01:52,  3.34it/s]"
          ]
        },
        {
          "output_type": "stream",
          "name": "stdout",
          "text": [
            "[190] downloaded -> images/image190.png (source: 16.jpg)\n"
          ]
        },
        {
          "output_type": "stream",
          "name": "stderr",
          "text": [
            "\rDownloading images:   5%|▍         | 18/393 [00:06<01:56,  3.22it/s]"
          ]
        },
        {
          "output_type": "stream",
          "name": "stdout",
          "text": [
            "[191] downloaded -> images/image191.png (source: 17.jpg)\n"
          ]
        },
        {
          "output_type": "stream",
          "name": "stderr",
          "text": [
            "\rDownloading images:   5%|▍         | 19/393 [00:06<02:20,  2.65it/s]"
          ]
        },
        {
          "output_type": "stream",
          "name": "stdout",
          "text": [
            "[192] downloaded -> images/image192.png (source: 18.jpg)\n"
          ]
        },
        {
          "output_type": "stream",
          "name": "stderr",
          "text": [
            "Downloading images:   5%|▌         | 21/393 [00:07<01:54,  3.24it/s]"
          ]
        },
        {
          "output_type": "stream",
          "name": "stdout",
          "text": [
            "[193] downloaded -> images/image193.png (source: 19.jpg)\n",
            "[194] downloaded -> images/image194.png (source: 20.jpg)\n"
          ]
        },
        {
          "output_type": "stream",
          "name": "stderr",
          "text": [
            "\rDownloading images:   6%|▌         | 22/393 [00:07<02:00,  3.08it/s]"
          ]
        },
        {
          "output_type": "stream",
          "name": "stdout",
          "text": [
            "[195] downloaded -> images/image195.png (source: 21.jpg)\n"
          ]
        },
        {
          "output_type": "stream",
          "name": "stderr",
          "text": [
            "\rDownloading images:   6%|▌         | 23/393 [00:07<02:04,  2.98it/s]"
          ]
        },
        {
          "output_type": "stream",
          "name": "stdout",
          "text": [
            "[196] downloaded -> images/image196.png (source: 22.jpg)\n"
          ]
        },
        {
          "output_type": "stream",
          "name": "stderr",
          "text": [
            "\rDownloading images:   6%|▌         | 24/393 [00:08<01:51,  3.32it/s]"
          ]
        },
        {
          "output_type": "stream",
          "name": "stdout",
          "text": [
            "[197] downloaded -> images/image197.png (source: 23.jpg)\n"
          ]
        },
        {
          "output_type": "stream",
          "name": "stderr",
          "text": [
            "\rDownloading images:   6%|▋         | 25/393 [00:08<01:43,  3.55it/s]"
          ]
        },
        {
          "output_type": "stream",
          "name": "stdout",
          "text": [
            "[198] downloaded -> images/image198.png (source: 24.jpg)\n"
          ]
        },
        {
          "output_type": "stream",
          "name": "stderr",
          "text": [
            "\rDownloading images:   7%|▋         | 26/393 [00:08<01:38,  3.73it/s]"
          ]
        },
        {
          "output_type": "stream",
          "name": "stdout",
          "text": [
            "[199] downloaded -> images/image199.png (source: 25.jpg)\n"
          ]
        },
        {
          "output_type": "stream",
          "name": "stderr",
          "text": [
            "\rDownloading images:   7%|▋         | 27/393 [00:08<01:44,  3.50it/s]"
          ]
        },
        {
          "output_type": "stream",
          "name": "stdout",
          "text": [
            "[200] downloaded -> images/image200.png (source: 26.jpg)\n"
          ]
        },
        {
          "output_type": "stream",
          "name": "stderr",
          "text": [
            "\rDownloading images:   7%|▋         | 28/393 [00:09<01:37,  3.75it/s]"
          ]
        },
        {
          "output_type": "stream",
          "name": "stdout",
          "text": [
            "[201] downloaded -> images/image201.png (source: 27.jpg)\n"
          ]
        },
        {
          "output_type": "stream",
          "name": "stderr",
          "text": [
            "\rDownloading images:   7%|▋         | 29/393 [00:09<01:48,  3.36it/s]"
          ]
        },
        {
          "output_type": "stream",
          "name": "stdout",
          "text": [
            "[202] downloaded -> images/image202.png (source: 28.jpg)\n"
          ]
        },
        {
          "output_type": "stream",
          "name": "stderr",
          "text": [
            "\rDownloading images:   8%|▊         | 30/393 [00:09<01:51,  3.25it/s]"
          ]
        },
        {
          "output_type": "stream",
          "name": "stdout",
          "text": [
            "[203] downloaded -> images/image203.png (source: 29.jpg)\n"
          ]
        },
        {
          "output_type": "stream",
          "name": "stderr",
          "text": [
            "Downloading images:   8%|▊         | 32/393 [00:10<01:33,  3.87it/s]"
          ]
        },
        {
          "output_type": "stream",
          "name": "stdout",
          "text": [
            "[204] downloaded -> images/image204.png (source: 30.jpg)\n",
            "[205] downloaded -> images/image205.png (source: 31.jpg)\n"
          ]
        },
        {
          "output_type": "stream",
          "name": "stderr",
          "text": [
            "Downloading images:   9%|▊         | 34/393 [00:11<02:55,  2.04it/s]"
          ]
        },
        {
          "output_type": "stream",
          "name": "stdout",
          "text": [
            "[206] downloaded -> images/image206.png (source: 32.jpg)\n",
            "[207] downloaded -> images/image207.png (source: 33.jpg)\n"
          ]
        },
        {
          "output_type": "stream",
          "name": "stderr",
          "text": [
            "\rDownloading images:   9%|▉         | 35/393 [00:17<12:22,  2.07s/it]"
          ]
        },
        {
          "output_type": "stream",
          "name": "stdout",
          "text": [
            "[208] downloaded -> images/image208.png (source: 34.jpg)\n"
          ]
        },
        {
          "output_type": "stream",
          "name": "stderr",
          "text": [
            "\rDownloading images:   9%|▉         | 36/393 [00:17<09:13,  1.55s/it]"
          ]
        },
        {
          "output_type": "stream",
          "name": "stdout",
          "text": [
            "[209] downloaded -> images/image209.png (source: 35.jpg)\n"
          ]
        },
        {
          "output_type": "stream",
          "name": "stderr",
          "text": [
            "\rDownloading images:   9%|▉         | 37/393 [00:18<07:06,  1.20s/it]"
          ]
        },
        {
          "output_type": "stream",
          "name": "stdout",
          "text": [
            "[210] downloaded -> images/image210.png (source: 36.jpg)\n"
          ]
        },
        {
          "output_type": "stream",
          "name": "stderr",
          "text": [
            "Downloading images:  10%|▉         | 39/393 [00:19<04:36,  1.28it/s]"
          ]
        },
        {
          "output_type": "stream",
          "name": "stdout",
          "text": [
            "[211] downloaded -> images/image211.png (source: 37.jpg)\n",
            "[212] downloaded -> images/image212.png (source: 38.jpg)\n"
          ]
        },
        {
          "output_type": "stream",
          "name": "stderr",
          "text": [
            "\rDownloading images:  10%|█         | 40/393 [00:21<06:37,  1.13s/it]"
          ]
        },
        {
          "output_type": "stream",
          "name": "stdout",
          "text": [
            "[213] downloaded -> images/image213.png (source: 39.jpg)\n"
          ]
        },
        {
          "output_type": "stream",
          "name": "stderr",
          "text": [
            "Downloading images:  11%|█         | 42/393 [00:21<04:19,  1.35it/s]"
          ]
        },
        {
          "output_type": "stream",
          "name": "stdout",
          "text": [
            "[214] downloaded -> images/image214.png (source: 40.jpg)\n",
            "[215] downloaded -> images/image215.png (source: 41.jpg)\n"
          ]
        },
        {
          "output_type": "stream",
          "name": "stderr",
          "text": [
            "Downloading images:  11%|█         | 44/393 [00:22<02:42,  2.15it/s]"
          ]
        },
        {
          "output_type": "stream",
          "name": "stdout",
          "text": [
            "[216] downloaded -> images/image216.png (source: 42.jpg)\n",
            "[217] downloaded -> images/image217.png (source: 43.jpg)\n"
          ]
        },
        {
          "output_type": "stream",
          "name": "stderr",
          "text": [
            "\rDownloading images:  11%|█▏        | 45/393 [00:22<02:25,  2.39it/s]"
          ]
        },
        {
          "output_type": "stream",
          "name": "stdout",
          "text": [
            "[218] downloaded -> images/image218.png (source: 44.jpg)\n"
          ]
        },
        {
          "output_type": "stream",
          "name": "stderr",
          "text": [
            "\rDownloading images:  12%|█▏        | 46/393 [00:22<02:11,  2.63it/s]"
          ]
        },
        {
          "output_type": "stream",
          "name": "stdout",
          "text": [
            "[219] downloaded -> images/image219.png (source: 45.jpg)\n"
          ]
        },
        {
          "output_type": "stream",
          "name": "stderr",
          "text": [
            "\rDownloading images:  12%|█▏        | 47/393 [00:23<01:59,  2.89it/s]"
          ]
        },
        {
          "output_type": "stream",
          "name": "stdout",
          "text": [
            "[220] downloaded -> images/image220.png (source: 46.jpg)\n"
          ]
        },
        {
          "output_type": "stream",
          "name": "stderr",
          "text": [
            "\rDownloading images:  12%|█▏        | 48/393 [00:23<01:53,  3.04it/s]"
          ]
        },
        {
          "output_type": "stream",
          "name": "stdout",
          "text": [
            "[221] downloaded -> images/image221.png (source: 47.jpg)\n"
          ]
        },
        {
          "output_type": "stream",
          "name": "stderr",
          "text": [
            "\rDownloading images:  12%|█▏        | 49/393 [00:23<01:41,  3.38it/s]"
          ]
        },
        {
          "output_type": "stream",
          "name": "stdout",
          "text": [
            "[222] downloaded -> images/image222.png (source: 48.jpg)\n"
          ]
        },
        {
          "output_type": "stream",
          "name": "stderr",
          "text": [
            "\rDownloading images:  13%|█▎        | 50/393 [00:23<01:32,  3.72it/s]"
          ]
        },
        {
          "output_type": "stream",
          "name": "stdout",
          "text": [
            "[223] downloaded -> images/image223.png (source: 49.jpg)\n"
          ]
        },
        {
          "output_type": "stream",
          "name": "stderr",
          "text": [
            "\rDownloading images:  13%|█▎        | 51/393 [00:24<01:28,  3.85it/s]"
          ]
        },
        {
          "output_type": "stream",
          "name": "stdout",
          "text": [
            "[224] downloaded -> images/image224.png (source: 50.jpg)\n"
          ]
        },
        {
          "output_type": "stream",
          "name": "stderr",
          "text": [
            "Downloading images:  13%|█▎        | 53/393 [00:24<01:27,  3.90it/s]"
          ]
        },
        {
          "output_type": "stream",
          "name": "stdout",
          "text": [
            "[225] downloaded -> images/image225.png (source: 51.jpg)\n",
            "[226] downloaded -> images/image226.png (source: 52.jpg)\n"
          ]
        },
        {
          "output_type": "stream",
          "name": "stderr",
          "text": [
            "\rDownloading images:  14%|█▎        | 54/393 [00:24<01:26,  3.92it/s]"
          ]
        },
        {
          "output_type": "stream",
          "name": "stdout",
          "text": [
            "[227] downloaded -> images/image227.png (source: 53.jpg)\n"
          ]
        },
        {
          "output_type": "stream",
          "name": "stderr",
          "text": [
            "\rDownloading images:  14%|█▍        | 55/393 [00:25<01:41,  3.34it/s]"
          ]
        },
        {
          "output_type": "stream",
          "name": "stdout",
          "text": [
            "[228] downloaded -> images/image228.png (source: 54.jpg)\n"
          ]
        },
        {
          "output_type": "stream",
          "name": "stderr",
          "text": [
            "\rDownloading images:  14%|█▍        | 56/393 [00:25<01:42,  3.28it/s]"
          ]
        },
        {
          "output_type": "stream",
          "name": "stdout",
          "text": [
            "[229] downloaded -> images/image229.png (source: 55.jpg)\n"
          ]
        },
        {
          "output_type": "stream",
          "name": "stderr",
          "text": [
            "\rDownloading images:  15%|█▍        | 57/393 [00:26<01:55,  2.92it/s]"
          ]
        },
        {
          "output_type": "stream",
          "name": "stdout",
          "text": [
            "[230] downloaded -> images/image230.png (source: 56.jpg)\n"
          ]
        },
        {
          "output_type": "stream",
          "name": "stderr",
          "text": [
            "\rDownloading images:  15%|█▍        | 58/393 [00:26<01:42,  3.28it/s]"
          ]
        },
        {
          "output_type": "stream",
          "name": "stdout",
          "text": [
            "[231] downloaded -> images/image231.png (source: 57.jpg)\n"
          ]
        },
        {
          "output_type": "stream",
          "name": "stderr",
          "text": [
            "\rDownloading images:  15%|█▌        | 59/393 [00:26<01:38,  3.39it/s]"
          ]
        },
        {
          "output_type": "stream",
          "name": "stdout",
          "text": [
            "[232] downloaded -> images/image232.png (source: 58.jpg)\n"
          ]
        },
        {
          "output_type": "stream",
          "name": "stderr",
          "text": [
            "\rDownloading images:  15%|█▌        | 60/393 [00:27<02:04,  2.67it/s]"
          ]
        },
        {
          "output_type": "stream",
          "name": "stdout",
          "text": [
            "[233] downloaded -> images/image233.png (source: 59.jpg)\n"
          ]
        },
        {
          "output_type": "stream",
          "name": "stderr",
          "text": [
            "Downloading images:  16%|█▌        | 62/393 [00:27<01:33,  3.53it/s]"
          ]
        },
        {
          "output_type": "stream",
          "name": "stdout",
          "text": [
            "[234] downloaded -> images/image234.png (source: 60.jpg)\n",
            "[235] downloaded -> images/image235.png (source: 61.jpg)\n"
          ]
        },
        {
          "output_type": "stream",
          "name": "stderr",
          "text": [
            "\rDownloading images:  16%|█▌        | 63/393 [00:27<01:45,  3.13it/s]"
          ]
        },
        {
          "output_type": "stream",
          "name": "stdout",
          "text": [
            "[236] downloaded -> images/image236.png (source: 62.jpg)\n"
          ]
        },
        {
          "output_type": "stream",
          "name": "stderr",
          "text": [
            "\rDownloading images:  16%|█▋        | 64/393 [00:28<01:48,  3.04it/s]"
          ]
        },
        {
          "output_type": "stream",
          "name": "stdout",
          "text": [
            "[237] downloaded -> images/image237.png (source: 63.jpg)\n"
          ]
        },
        {
          "output_type": "stream",
          "name": "stderr",
          "text": [
            "\rDownloading images:  17%|█▋        | 65/393 [00:28<01:40,  3.25it/s]"
          ]
        },
        {
          "output_type": "stream",
          "name": "stdout",
          "text": [
            "[238] downloaded -> images/image238.png (source: 64.jpg)\n"
          ]
        },
        {
          "output_type": "stream",
          "name": "stderr",
          "text": [
            "\rDownloading images:  17%|█▋        | 66/393 [00:28<01:33,  3.48it/s]"
          ]
        },
        {
          "output_type": "stream",
          "name": "stdout",
          "text": [
            "[239] downloaded -> images/image239.png (source: 65.jpg)\n"
          ]
        },
        {
          "output_type": "stream",
          "name": "stderr",
          "text": [
            "\rDownloading images:  17%|█▋        | 67/393 [00:28<01:27,  3.74it/s]"
          ]
        },
        {
          "output_type": "stream",
          "name": "stdout",
          "text": [
            "[240] downloaded -> images/image240.png (source: 66.jpg)\n"
          ]
        },
        {
          "output_type": "stream",
          "name": "stderr",
          "text": [
            "Downloading images:  18%|█▊        | 69/393 [00:29<01:14,  4.36it/s]"
          ]
        },
        {
          "output_type": "stream",
          "name": "stdout",
          "text": [
            "[241] downloaded -> images/image241.png (source: 67.jpg)\n",
            "[242] downloaded -> images/image242.png (source: 68.jpg)\n"
          ]
        },
        {
          "output_type": "stream",
          "name": "stderr",
          "text": [
            "\rDownloading images:  18%|█▊        | 70/393 [00:29<01:08,  4.69it/s]"
          ]
        },
        {
          "output_type": "stream",
          "name": "stdout",
          "text": [
            "[243] downloaded -> images/image243.png (source: 69.jpg)\n"
          ]
        },
        {
          "output_type": "stream",
          "name": "stderr",
          "text": [
            "\rDownloading images:  18%|█▊        | 71/393 [00:30<02:05,  2.57it/s]"
          ]
        },
        {
          "output_type": "stream",
          "name": "stdout",
          "text": [
            "[244] downloaded -> images/image244.png (source: 70.jpg)\n"
          ]
        },
        {
          "output_type": "stream",
          "name": "stderr",
          "text": [
            "\rDownloading images:  18%|█▊        | 72/393 [00:30<01:53,  2.83it/s]"
          ]
        },
        {
          "output_type": "stream",
          "name": "stdout",
          "text": [
            "[245] downloaded -> images/image245.png (source: 71.jpg)\n"
          ]
        },
        {
          "output_type": "stream",
          "name": "stderr",
          "text": [
            "\rDownloading images:  19%|█▊        | 73/393 [00:31<02:15,  2.36it/s]"
          ]
        },
        {
          "output_type": "stream",
          "name": "stdout",
          "text": [
            "[246] downloaded -> images/image246.png (source: 72.jpg)\n"
          ]
        },
        {
          "output_type": "stream",
          "name": "stderr",
          "text": [
            "\rDownloading images:  19%|█▉        | 74/393 [00:31<02:19,  2.29it/s]"
          ]
        },
        {
          "output_type": "stream",
          "name": "stdout",
          "text": [
            "[247] downloaded -> images/image247.png (source: 73.jpg)\n"
          ]
        },
        {
          "output_type": "stream",
          "name": "stderr",
          "text": [
            "\rDownloading images:  19%|█▉        | 75/393 [00:32<02:16,  2.32it/s]"
          ]
        },
        {
          "output_type": "stream",
          "name": "stdout",
          "text": [
            "[248] downloaded -> images/image248.png (source: 74.jpg)\n"
          ]
        },
        {
          "output_type": "stream",
          "name": "stderr",
          "text": [
            "Downloading images:  20%|█▉        | 77/393 [00:32<01:38,  3.22it/s]"
          ]
        },
        {
          "output_type": "stream",
          "name": "stdout",
          "text": [
            "[249] downloaded -> images/image249.png (source: 75.jpg)\n",
            "[250] downloaded -> images/image250.png (source: 76.jpg)\n"
          ]
        },
        {
          "output_type": "stream",
          "name": "stderr",
          "text": [
            "\rDownloading images:  20%|█▉        | 78/393 [00:32<01:28,  3.55it/s]"
          ]
        },
        {
          "output_type": "stream",
          "name": "stdout",
          "text": [
            "[251] downloaded -> images/image251.png (source: 77.jpg)\n"
          ]
        },
        {
          "output_type": "stream",
          "name": "stderr",
          "text": [
            "\rDownloading images:  20%|██        | 79/393 [00:32<01:25,  3.66it/s]"
          ]
        },
        {
          "output_type": "stream",
          "name": "stdout",
          "text": [
            "[252] downloaded -> images/image252.png (source: 78.jpg)\n"
          ]
        },
        {
          "output_type": "stream",
          "name": "stderr",
          "text": [
            "\rDownloading images:  20%|██        | 80/393 [00:33<01:38,  3.17it/s]"
          ]
        },
        {
          "output_type": "stream",
          "name": "stdout",
          "text": [
            "[253] downloaded -> images/image253.png (source: 79.jpg)\n"
          ]
        },
        {
          "output_type": "stream",
          "name": "stderr",
          "text": [
            "Downloading images:  21%|██        | 82/393 [00:33<01:20,  3.88it/s]"
          ]
        },
        {
          "output_type": "stream",
          "name": "stdout",
          "text": [
            "[254] downloaded -> images/image254.png (source: 80.jpg)\n",
            "[255] downloaded -> images/image255.png (source: 81.jpg)\n"
          ]
        },
        {
          "output_type": "stream",
          "name": "stderr",
          "text": [
            "Downloading images:  21%|██▏       | 84/393 [00:34<01:11,  4.32it/s]"
          ]
        },
        {
          "output_type": "stream",
          "name": "stdout",
          "text": [
            "[256] downloaded -> images/image256.png (source: 82.jpg)\n",
            "[257] downloaded -> images/image257.png (source: 83.jpg)\n"
          ]
        },
        {
          "output_type": "stream",
          "name": "stderr",
          "text": [
            "\rDownloading images:  22%|██▏       | 85/393 [00:34<01:09,  4.43it/s]"
          ]
        },
        {
          "output_type": "stream",
          "name": "stdout",
          "text": [
            "[258] downloaded -> images/image258.png (source: 84.jpg)\n"
          ]
        },
        {
          "output_type": "stream",
          "name": "stderr",
          "text": [
            "Downloading images:  22%|██▏       | 87/393 [00:34<01:06,  4.57it/s]"
          ]
        },
        {
          "output_type": "stream",
          "name": "stdout",
          "text": [
            "[259] downloaded -> images/image259.png (source: 85.jpg)\n",
            "[260] downloaded -> images/image260.png (source: 86.jpg)\n"
          ]
        },
        {
          "output_type": "stream",
          "name": "stderr",
          "text": [
            "\rDownloading images:  22%|██▏       | 88/393 [00:35<01:13,  4.12it/s]"
          ]
        },
        {
          "output_type": "stream",
          "name": "stdout",
          "text": [
            "[261] downloaded -> images/image261.png (source: 87.jpg)\n"
          ]
        },
        {
          "output_type": "stream",
          "name": "stderr",
          "text": [
            "\rDownloading images:  23%|██▎       | 89/393 [00:35<01:11,  4.27it/s]"
          ]
        },
        {
          "output_type": "stream",
          "name": "stdout",
          "text": [
            "[262] downloaded -> images/image262.png (source: 88.jpg)\n"
          ]
        },
        {
          "output_type": "stream",
          "name": "stderr",
          "text": [
            "\rDownloading images:  23%|██▎       | 90/393 [00:35<01:14,  4.07it/s]"
          ]
        },
        {
          "output_type": "stream",
          "name": "stdout",
          "text": [
            "[263] downloaded -> images/image263.png (source: 89.jpg)\n"
          ]
        },
        {
          "output_type": "stream",
          "name": "stderr",
          "text": [
            "\rDownloading images:  23%|██▎       | 91/393 [00:35<01:15,  4.00it/s]"
          ]
        },
        {
          "output_type": "stream",
          "name": "stdout",
          "text": [
            "[264] downloaded -> images/image264.png (source: 90.jpg)\n"
          ]
        },
        {
          "output_type": "stream",
          "name": "stderr",
          "text": [
            "\rDownloading images:  23%|██▎       | 92/393 [00:36<01:22,  3.64it/s]"
          ]
        },
        {
          "output_type": "stream",
          "name": "stdout",
          "text": [
            "[265] downloaded -> images/image265.png (source: 91.jpg)\n"
          ]
        },
        {
          "output_type": "stream",
          "name": "stderr",
          "text": [
            "Downloading images:  24%|██▍       | 94/393 [00:36<01:15,  3.96it/s]"
          ]
        },
        {
          "output_type": "stream",
          "name": "stdout",
          "text": [
            "[266] downloaded -> images/image266.png (source: 92.jpg)\n",
            "[267] downloaded -> images/image267.png (source: 93.jpg)\n"
          ]
        },
        {
          "output_type": "stream",
          "name": "stderr",
          "text": [
            "\rDownloading images:  24%|██▍       | 95/393 [00:37<01:22,  3.61it/s]"
          ]
        },
        {
          "output_type": "stream",
          "name": "stdout",
          "text": [
            "[268] downloaded -> images/image268.png (source: 94.jpg)\n"
          ]
        },
        {
          "output_type": "stream",
          "name": "stderr",
          "text": [
            "\rDownloading images:  24%|██▍       | 96/393 [00:37<01:16,  3.88it/s]"
          ]
        },
        {
          "output_type": "stream",
          "name": "stdout",
          "text": [
            "[269] downloaded -> images/image269.png (source: 95.jpg)\n"
          ]
        },
        {
          "output_type": "stream",
          "name": "stderr",
          "text": [
            "\rDownloading images:  25%|██▍       | 97/393 [00:37<01:13,  4.04it/s]"
          ]
        },
        {
          "output_type": "stream",
          "name": "stdout",
          "text": [
            "[270] downloaded -> images/image270.png (source: 96.jpg)\n"
          ]
        },
        {
          "output_type": "stream",
          "name": "stderr",
          "text": [
            "\rDownloading images:  25%|██▍       | 98/393 [00:38<01:43,  2.86it/s]"
          ]
        },
        {
          "output_type": "stream",
          "name": "stdout",
          "text": [
            "[271] downloaded -> images/image271.png (source: 97.jpg)\n"
          ]
        },
        {
          "output_type": "stream",
          "name": "stderr",
          "text": [
            "\rDownloading images:  25%|██▌       | 99/393 [00:38<01:50,  2.66it/s]"
          ]
        },
        {
          "output_type": "stream",
          "name": "stdout",
          "text": [
            "[272] downloaded -> images/image272.png (source: 98.jpg)\n"
          ]
        },
        {
          "output_type": "stream",
          "name": "stderr",
          "text": [
            "\rDownloading images:  25%|██▌       | 100/393 [00:38<01:42,  2.85it/s]"
          ]
        },
        {
          "output_type": "stream",
          "name": "stdout",
          "text": [
            "[273] downloaded -> images/image273.png (source: 99.jpg)\n"
          ]
        },
        {
          "output_type": "stream",
          "name": "stderr",
          "text": [
            "\rDownloading images:  26%|██▌       | 101/393 [00:39<01:41,  2.87it/s]"
          ]
        },
        {
          "output_type": "stream",
          "name": "stdout",
          "text": [
            "[274] downloaded -> images/image274.png (source: 100.jpg)\n"
          ]
        },
        {
          "output_type": "stream",
          "name": "stderr",
          "text": [
            "\rDownloading images:  26%|██▌       | 102/393 [00:39<01:41,  2.87it/s]"
          ]
        },
        {
          "output_type": "stream",
          "name": "stdout",
          "text": [
            "[275] downloaded -> images/image275.png (source: 101.jpg)\n"
          ]
        },
        {
          "output_type": "stream",
          "name": "stderr",
          "text": [
            "\rDownloading images:  26%|██▌       | 103/393 [00:40<03:03,  1.58it/s]"
          ]
        },
        {
          "output_type": "stream",
          "name": "stdout",
          "text": [
            "[276] downloaded -> images/image276.png (source: 102.jpg)\n"
          ]
        },
        {
          "output_type": "stream",
          "name": "stderr",
          "text": [
            "\rDownloading images:  26%|██▋       | 104/393 [00:41<02:35,  1.86it/s]"
          ]
        },
        {
          "output_type": "stream",
          "name": "stdout",
          "text": [
            "[277] downloaded -> images/image277.png (source: 103.jpg)\n"
          ]
        },
        {
          "output_type": "stream",
          "name": "stderr",
          "text": [
            "\rDownloading images:  27%|██▋       | 105/393 [00:41<02:08,  2.25it/s]"
          ]
        },
        {
          "output_type": "stream",
          "name": "stdout",
          "text": [
            "[278] downloaded -> images/image278.png (source: 104.jpg)\n"
          ]
        },
        {
          "output_type": "stream",
          "name": "stderr",
          "text": [
            "\rDownloading images:  27%|██▋       | 106/393 [00:47<09:47,  2.05s/it]"
          ]
        },
        {
          "output_type": "stream",
          "name": "stdout",
          "text": [
            "[279] downloaded -> images/image279.png (source: 105.jpg)\n"
          ]
        },
        {
          "output_type": "stream",
          "name": "stderr",
          "text": [
            "\rDownloading images:  27%|██▋       | 107/393 [00:47<07:16,  1.53s/it]"
          ]
        },
        {
          "output_type": "stream",
          "name": "stdout",
          "text": [
            "[280] downloaded -> images/image280.png (source: 106.jpg)\n"
          ]
        },
        {
          "output_type": "stream",
          "name": "stderr",
          "text": [
            "\rDownloading images:  27%|██▋       | 108/393 [00:47<05:34,  1.17s/it]"
          ]
        },
        {
          "output_type": "stream",
          "name": "stdout",
          "text": [
            "[281] downloaded -> images/image281.png (source: 107.jpg)\n"
          ]
        },
        {
          "output_type": "stream",
          "name": "stderr",
          "text": [
            "\rDownloading images:  28%|██▊       | 109/393 [00:48<04:21,  1.09it/s]"
          ]
        },
        {
          "output_type": "stream",
          "name": "stdout",
          "text": [
            "[282] downloaded -> images/image282.png (source: 108.jpg)\n"
          ]
        },
        {
          "output_type": "stream",
          "name": "stderr",
          "text": [
            "\rDownloading images:  28%|██▊       | 110/393 [00:48<03:23,  1.39it/s]"
          ]
        },
        {
          "output_type": "stream",
          "name": "stdout",
          "text": [
            "[283] downloaded -> images/image283.png (source: 109.jpg)\n"
          ]
        },
        {
          "output_type": "stream",
          "name": "stderr",
          "text": [
            "\rDownloading images:  28%|██▊       | 111/393 [00:48<03:09,  1.49it/s]"
          ]
        },
        {
          "output_type": "stream",
          "name": "stdout",
          "text": [
            "[284] downloaded -> images/image284.png (source: 110.jpg)\n"
          ]
        },
        {
          "output_type": "stream",
          "name": "stderr",
          "text": [
            "\rDownloading images:  28%|██▊       | 112/393 [00:51<05:23,  1.15s/it]"
          ]
        },
        {
          "output_type": "stream",
          "name": "stdout",
          "text": [
            "[285] downloaded -> images/image285.png (source: 111.jpg)\n"
          ]
        },
        {
          "output_type": "stream",
          "name": "stderr",
          "text": [
            "\rDownloading images:  29%|██▉       | 113/393 [00:52<04:57,  1.06s/it]"
          ]
        },
        {
          "output_type": "stream",
          "name": "stdout",
          "text": [
            "[286] downloaded -> images/image286.png (source: 112.jpg)\n"
          ]
        },
        {
          "output_type": "stream",
          "name": "stderr",
          "text": [
            "Downloading images:  29%|██▉       | 115/393 [00:54<04:38,  1.00s/it]"
          ]
        },
        {
          "output_type": "stream",
          "name": "stdout",
          "text": [
            "[287] downloaded -> images/image287.png (source: 113.jpg)\n",
            "[288] downloaded -> images/image288.png (source: 114.jpg)\n"
          ]
        },
        {
          "output_type": "stream",
          "name": "stderr",
          "text": [
            "Downloading images:  30%|██▉       | 117/393 [00:54<02:46,  1.66it/s]"
          ]
        },
        {
          "output_type": "stream",
          "name": "stdout",
          "text": [
            "[289] downloaded -> images/image289.png (source: 115.jpg)\n",
            "[290] downloaded -> images/image290.png (source: 116.jpg)\n"
          ]
        },
        {
          "output_type": "stream",
          "name": "stderr",
          "text": [
            "Downloading images:  30%|███       | 119/393 [00:55<01:46,  2.57it/s]"
          ]
        },
        {
          "output_type": "stream",
          "name": "stdout",
          "text": [
            "[291] downloaded -> images/image291.png (source: 117.jpg)\n",
            "[292] downloaded -> images/image292.png (source: 118.jpg)\n"
          ]
        },
        {
          "output_type": "stream",
          "name": "stderr",
          "text": [
            "\rDownloading images:  31%|███       | 120/393 [00:55<01:33,  2.92it/s]"
          ]
        },
        {
          "output_type": "stream",
          "name": "stdout",
          "text": [
            "[293] downloaded -> images/image293.png (source: 119.jpg)\n"
          ]
        },
        {
          "output_type": "stream",
          "name": "stderr",
          "text": [
            "\rDownloading images:  31%|███       | 121/393 [00:55<01:32,  2.95it/s]"
          ]
        },
        {
          "output_type": "stream",
          "name": "stdout",
          "text": [
            "[294] downloaded -> images/image294.png (source: 120.jpg)\n"
          ]
        },
        {
          "output_type": "stream",
          "name": "stderr",
          "text": [
            "\rDownloading images:  31%|███       | 122/393 [00:55<01:27,  3.09it/s]"
          ]
        },
        {
          "output_type": "stream",
          "name": "stdout",
          "text": [
            "[295] downloaded -> images/image295.png (source: 121.jpg)\n"
          ]
        },
        {
          "output_type": "stream",
          "name": "stderr",
          "text": [
            "\rDownloading images:  31%|███▏      | 123/393 [00:56<01:29,  3.00it/s]"
          ]
        },
        {
          "output_type": "stream",
          "name": "stdout",
          "text": [
            "[296] downloaded -> images/image296.png (source: 122.jpg)\n"
          ]
        },
        {
          "output_type": "stream",
          "name": "stderr",
          "text": [
            "Downloading images:  32%|███▏      | 125/393 [00:57<02:05,  2.13it/s]"
          ]
        },
        {
          "output_type": "stream",
          "name": "stdout",
          "text": [
            "[297] downloaded -> images/image297.png (source: 123.jpg)\n",
            "[298] downloaded -> images/image298.png (source: 124.jpg)\n"
          ]
        },
        {
          "output_type": "stream",
          "name": "stderr",
          "text": [
            "\rDownloading images:  32%|███▏      | 126/393 [00:57<01:45,  2.52it/s]"
          ]
        },
        {
          "output_type": "stream",
          "name": "stdout",
          "text": [
            "[299] downloaded -> images/image299.png (source: 125.jpg)\n"
          ]
        },
        {
          "output_type": "stream",
          "name": "stderr",
          "text": [
            "\rDownloading images:  32%|███▏      | 127/393 [00:58<01:35,  2.78it/s]"
          ]
        },
        {
          "output_type": "stream",
          "name": "stdout",
          "text": [
            "[300] downloaded -> images/image300.png (source: 126.jpg)\n"
          ]
        },
        {
          "output_type": "stream",
          "name": "stderr",
          "text": [
            "\rDownloading images:  33%|███▎      | 128/393 [00:58<01:35,  2.78it/s]"
          ]
        },
        {
          "output_type": "stream",
          "name": "stdout",
          "text": [
            "[301] downloaded -> images/image301.png (source: 127.jpg)\n"
          ]
        },
        {
          "output_type": "stream",
          "name": "stderr",
          "text": [
            "\rDownloading images:  33%|███▎      | 129/393 [00:58<01:32,  2.84it/s]"
          ]
        },
        {
          "output_type": "stream",
          "name": "stdout",
          "text": [
            "[302] downloaded -> images/image302.png (source: 128.jpg)\n"
          ]
        },
        {
          "output_type": "stream",
          "name": "stderr",
          "text": [
            "\rDownloading images:  33%|███▎      | 130/393 [00:59<01:24,  3.10it/s]"
          ]
        },
        {
          "output_type": "stream",
          "name": "stdout",
          "text": [
            "[303] downloaded -> images/image303.png (source: 129.jpg)\n"
          ]
        },
        {
          "output_type": "stream",
          "name": "stderr",
          "text": [
            "\rDownloading images:  33%|███▎      | 131/393 [00:59<01:29,  2.92it/s]"
          ]
        },
        {
          "output_type": "stream",
          "name": "stdout",
          "text": [
            "[304] downloaded -> images/image304.png (source: 130.jpg)\n"
          ]
        },
        {
          "output_type": "stream",
          "name": "stderr",
          "text": [
            "\rDownloading images:  34%|███▎      | 132/393 [00:59<01:24,  3.08it/s]"
          ]
        },
        {
          "output_type": "stream",
          "name": "stdout",
          "text": [
            "[305] downloaded -> images/image305.png (source: 131.jpg)\n"
          ]
        },
        {
          "output_type": "stream",
          "name": "stderr",
          "text": [
            "\rDownloading images:  34%|███▍      | 133/393 [01:00<01:25,  3.04it/s]"
          ]
        },
        {
          "output_type": "stream",
          "name": "stdout",
          "text": [
            "[306] downloaded -> images/image306.png (source: 132.jpg)\n"
          ]
        },
        {
          "output_type": "stream",
          "name": "stderr",
          "text": [
            "\rDownloading images:  34%|███▍      | 134/393 [01:00<01:30,  2.87it/s]"
          ]
        },
        {
          "output_type": "stream",
          "name": "stdout",
          "text": [
            "[307] downloaded -> images/image307.png (source: 133.jpg)\n"
          ]
        },
        {
          "output_type": "stream",
          "name": "stderr",
          "text": [
            "Downloading images:  35%|███▍      | 136/393 [01:00<01:14,  3.46it/s]"
          ]
        },
        {
          "output_type": "stream",
          "name": "stdout",
          "text": [
            "[308] downloaded -> images/image308.png (source: 134.jpg)\n",
            "[309] downloaded -> images/image309.png (source: 135.jpg)\n"
          ]
        },
        {
          "output_type": "stream",
          "name": "stderr",
          "text": [
            "Downloading images:  35%|███▌      | 138/393 [01:01<00:58,  4.39it/s]"
          ]
        },
        {
          "output_type": "stream",
          "name": "stdout",
          "text": [
            "[310] downloaded -> images/image310.png (source: 136.jpg)\n",
            "[311] downloaded -> images/image311.png (source: 137.jpg)\n"
          ]
        },
        {
          "output_type": "stream",
          "name": "stderr",
          "text": [
            "Downloading images:  36%|███▌      | 140/393 [01:01<00:56,  4.49it/s]"
          ]
        },
        {
          "output_type": "stream",
          "name": "stdout",
          "text": [
            "[312] downloaded -> images/image312.png (source: 138.jpg)\n",
            "[313] downloaded -> images/image313.png (source: 139.jpg)\n"
          ]
        },
        {
          "output_type": "stream",
          "name": "stderr",
          "text": [
            "\rDownloading images:  36%|███▌      | 141/393 [01:02<01:02,  4.01it/s]"
          ]
        },
        {
          "output_type": "stream",
          "name": "stdout",
          "text": [
            "[314] downloaded -> images/image314.png (source: 140.jpg)\n"
          ]
        },
        {
          "output_type": "stream",
          "name": "stderr",
          "text": [
            "\rDownloading images:  36%|███▌      | 142/393 [01:02<01:21,  3.08it/s]"
          ]
        },
        {
          "output_type": "stream",
          "name": "stdout",
          "text": [
            "[315] downloaded -> images/image315.png (source: 141.jpg)\n"
          ]
        },
        {
          "output_type": "stream",
          "name": "stderr",
          "text": [
            "\rDownloading images:  36%|███▋      | 143/393 [01:03<01:40,  2.50it/s]"
          ]
        },
        {
          "output_type": "stream",
          "name": "stdout",
          "text": [
            "[316] downloaded -> images/image316.png (source: 142.jpg)\n"
          ]
        },
        {
          "output_type": "stream",
          "name": "stderr",
          "text": [
            "Downloading images:  37%|███▋      | 145/393 [01:03<01:17,  3.21it/s]"
          ]
        },
        {
          "output_type": "stream",
          "name": "stdout",
          "text": [
            "[317] downloaded -> images/image317.png (source: 143.jpg)\n",
            "[318] downloaded -> images/image318.png (source: 144.jpg)\n"
          ]
        },
        {
          "output_type": "stream",
          "name": "stderr",
          "text": [
            "\rDownloading images:  37%|███▋      | 146/393 [01:03<01:05,  3.74it/s]"
          ]
        },
        {
          "output_type": "stream",
          "name": "stdout",
          "text": [
            "[319] downloaded -> images/image319.png (source: 145.jpg)\n"
          ]
        },
        {
          "output_type": "stream",
          "name": "stderr",
          "text": [
            "\rDownloading images:  37%|███▋      | 147/393 [01:04<01:07,  3.66it/s]"
          ]
        },
        {
          "output_type": "stream",
          "name": "stdout",
          "text": [
            "[320] downloaded -> images/image320.png (source: 146.jpg)\n"
          ]
        },
        {
          "output_type": "stream",
          "name": "stderr",
          "text": [
            "\rDownloading images:  38%|███▊      | 148/393 [01:04<01:01,  3.96it/s]"
          ]
        },
        {
          "output_type": "stream",
          "name": "stdout",
          "text": [
            "[321] downloaded -> images/image321.png (source: 147.jpg)\n"
          ]
        },
        {
          "output_type": "stream",
          "name": "stderr",
          "text": [
            "\rDownloading images:  38%|███▊      | 149/393 [01:04<01:24,  2.89it/s]"
          ]
        },
        {
          "output_type": "stream",
          "name": "stdout",
          "text": [
            "[322] downloaded -> images/image322.png (source: 148.jpg)\n"
          ]
        },
        {
          "output_type": "stream",
          "name": "stderr",
          "text": [
            "\rDownloading images:  38%|███▊      | 150/393 [01:05<01:17,  3.14it/s]"
          ]
        },
        {
          "output_type": "stream",
          "name": "stdout",
          "text": [
            "[323] downloaded -> images/image323.png (source: 149.jpg)\n"
          ]
        },
        {
          "output_type": "stream",
          "name": "stderr",
          "text": [
            "Downloading images:  39%|███▊      | 152/393 [01:05<01:07,  3.55it/s]"
          ]
        },
        {
          "output_type": "stream",
          "name": "stdout",
          "text": [
            "[324] downloaded -> images/image324.png (source: 150.jpg)\n",
            "[325] downloaded -> images/image325.png (source: 151.jpg)\n"
          ]
        },
        {
          "output_type": "stream",
          "name": "stderr",
          "text": [
            "\rDownloading images:  39%|███▉      | 153/393 [01:05<01:08,  3.52it/s]"
          ]
        },
        {
          "output_type": "stream",
          "name": "stdout",
          "text": [
            "[326] downloaded -> images/image326.png (source: 152.jpg)\n"
          ]
        },
        {
          "output_type": "stream",
          "name": "stderr",
          "text": [
            "Downloading images:  39%|███▉      | 155/393 [01:06<00:57,  4.11it/s]"
          ]
        },
        {
          "output_type": "stream",
          "name": "stdout",
          "text": [
            "[327] downloaded -> images/image327.png (source: 153.jpg)\n",
            "[328] downloaded -> images/image328.png (source: 154.jpg)\n"
          ]
        },
        {
          "output_type": "stream",
          "name": "stderr",
          "text": [
            "\rDownloading images:  40%|███▉      | 156/393 [01:06<00:57,  4.15it/s]"
          ]
        },
        {
          "output_type": "stream",
          "name": "stdout",
          "text": [
            "[329] downloaded -> images/image329.png (source: 155.jpg)\n"
          ]
        },
        {
          "output_type": "stream",
          "name": "stderr",
          "text": [
            "Downloading images:  40%|████      | 158/393 [01:06<00:50,  4.68it/s]"
          ]
        },
        {
          "output_type": "stream",
          "name": "stdout",
          "text": [
            "[330] downloaded -> images/image330.png (source: 156.jpg)\n",
            "[331] downloaded -> images/image331.png (source: 157.jpg)\n"
          ]
        },
        {
          "output_type": "stream",
          "name": "stderr",
          "text": [
            "\rDownloading images:  40%|████      | 159/393 [01:07<00:50,  4.67it/s]"
          ]
        },
        {
          "output_type": "stream",
          "name": "stdout",
          "text": [
            "[332] downloaded -> images/image332.png (source: 158.jpg)\n"
          ]
        },
        {
          "output_type": "stream",
          "name": "stderr",
          "text": [
            "\rDownloading images:  41%|████      | 160/393 [01:07<00:54,  4.28it/s]"
          ]
        },
        {
          "output_type": "stream",
          "name": "stdout",
          "text": [
            "[333] downloaded -> images/image333.png (source: 159.jpg)\n"
          ]
        },
        {
          "output_type": "stream",
          "name": "stderr",
          "text": [
            "\rDownloading images:  41%|████      | 161/393 [01:07<00:52,  4.46it/s]"
          ]
        },
        {
          "output_type": "stream",
          "name": "stdout",
          "text": [
            "[334] downloaded -> images/image334.png (source: 160.jpg)\n"
          ]
        },
        {
          "output_type": "stream",
          "name": "stderr",
          "text": [
            "\rDownloading images:  41%|████      | 162/393 [01:07<00:53,  4.32it/s]"
          ]
        },
        {
          "output_type": "stream",
          "name": "stdout",
          "text": [
            "[335] downloaded -> images/image335.png (source: 161.jpg)\n"
          ]
        },
        {
          "output_type": "stream",
          "name": "stderr",
          "text": [
            "\rDownloading images:  41%|████▏     | 163/393 [01:08<00:51,  4.44it/s]"
          ]
        },
        {
          "output_type": "stream",
          "name": "stdout",
          "text": [
            "[336] downloaded -> images/image336.png (source: 162.jpg)\n"
          ]
        },
        {
          "output_type": "stream",
          "name": "stderr",
          "text": [
            "\rDownloading images:  42%|████▏     | 164/393 [01:08<00:55,  4.15it/s]"
          ]
        },
        {
          "output_type": "stream",
          "name": "stdout",
          "text": [
            "[337] downloaded -> images/image337.png (source: 163.jpg)\n"
          ]
        },
        {
          "output_type": "stream",
          "name": "stderr",
          "text": [
            "\rDownloading images:  42%|████▏     | 165/393 [01:08<01:06,  3.42it/s]"
          ]
        },
        {
          "output_type": "stream",
          "name": "stdout",
          "text": [
            "[338] downloaded -> images/image338.png (source: 164.jpg)\n"
          ]
        },
        {
          "output_type": "stream",
          "name": "stderr",
          "text": [
            "\rDownloading images:  42%|████▏     | 166/393 [01:09<01:08,  3.30it/s]"
          ]
        },
        {
          "output_type": "stream",
          "name": "stdout",
          "text": [
            "[339] downloaded -> images/image339.png (source: 165.jpg)\n"
          ]
        },
        {
          "output_type": "stream",
          "name": "stderr",
          "text": [
            "\rDownloading images:  42%|████▏     | 167/393 [01:09<01:06,  3.41it/s]"
          ]
        },
        {
          "output_type": "stream",
          "name": "stdout",
          "text": [
            "[340] downloaded -> images/image340.png (source: 166.jpg)\n"
          ]
        },
        {
          "output_type": "stream",
          "name": "stderr",
          "text": [
            "\rDownloading images:  43%|████▎     | 168/393 [01:09<01:10,  3.17it/s]"
          ]
        },
        {
          "output_type": "stream",
          "name": "stdout",
          "text": [
            "[341] downloaded -> images/image341.png (source: 167.jpg)\n"
          ]
        },
        {
          "output_type": "stream",
          "name": "stderr",
          "text": [
            "Downloading images:  43%|████▎     | 170/393 [01:10<01:06,  3.34it/s]"
          ]
        },
        {
          "output_type": "stream",
          "name": "stdout",
          "text": [
            "[342] downloaded -> images/image342.png (source: 168.jpg)\n",
            "[343] downloaded -> images/image343.png (source: 169.jpg)\n"
          ]
        },
        {
          "output_type": "stream",
          "name": "stderr",
          "text": [
            "\rDownloading images:  44%|████▎     | 171/393 [01:10<01:12,  3.07it/s]"
          ]
        },
        {
          "output_type": "stream",
          "name": "stdout",
          "text": [
            "[344] downloaded -> images/image344.png (source: 170.jpg)\n"
          ]
        },
        {
          "output_type": "stream",
          "name": "stderr",
          "text": [
            "\rDownloading images:  44%|████▍     | 172/393 [01:11<01:08,  3.23it/s]"
          ]
        },
        {
          "output_type": "stream",
          "name": "stdout",
          "text": [
            "[345] downloaded -> images/image345.png (source: 171.jpg)\n"
          ]
        },
        {
          "output_type": "stream",
          "name": "stderr",
          "text": [
            "Downloading images:  44%|████▍     | 174/393 [01:11<00:56,  3.85it/s]"
          ]
        },
        {
          "output_type": "stream",
          "name": "stdout",
          "text": [
            "[346] downloaded -> images/image346.png (source: 172.jpg)\n",
            "[347] downloaded -> images/image347.png (source: 173.jpg)\n"
          ]
        },
        {
          "output_type": "stream",
          "name": "stderr",
          "text": [
            "\rDownloading images:  45%|████▍     | 175/393 [01:11<00:55,  3.92it/s]"
          ]
        },
        {
          "output_type": "stream",
          "name": "stdout",
          "text": [
            "[348] downloaded -> images/image348.png (source: 174.jpg)\n"
          ]
        },
        {
          "output_type": "stream",
          "name": "stderr",
          "text": [
            "\rDownloading images:  45%|████▍     | 176/393 [01:12<00:59,  3.65it/s]"
          ]
        },
        {
          "output_type": "stream",
          "name": "stdout",
          "text": [
            "[349] downloaded -> images/image349.png (source: 175.jpg)\n"
          ]
        },
        {
          "output_type": "stream",
          "name": "stderr",
          "text": [
            "Downloading images:  45%|████▌     | 178/393 [01:12<00:48,  4.44it/s]"
          ]
        },
        {
          "output_type": "stream",
          "name": "stdout",
          "text": [
            "[350] downloaded -> images/image350.png (source: 176.jpg)\n",
            "[351] downloaded -> images/image351.png (source: 177.jpg)\n"
          ]
        },
        {
          "output_type": "stream",
          "name": "stderr",
          "text": [
            "\rDownloading images:  46%|████▌     | 179/393 [01:12<00:49,  4.30it/s]"
          ]
        },
        {
          "output_type": "stream",
          "name": "stdout",
          "text": [
            "[352] downloaded -> images/image352.png (source: 178.jpg)\n"
          ]
        },
        {
          "output_type": "stream",
          "name": "stderr",
          "text": [
            "\rDownloading images:  46%|████▌     | 180/393 [01:12<00:48,  4.38it/s]"
          ]
        },
        {
          "output_type": "stream",
          "name": "stdout",
          "text": [
            "[353] downloaded -> images/image353.png (source: 179.jpg)\n"
          ]
        },
        {
          "output_type": "stream",
          "name": "stderr",
          "text": [
            "\rDownloading images:  46%|████▌     | 181/393 [01:13<00:48,  4.34it/s]"
          ]
        },
        {
          "output_type": "stream",
          "name": "stdout",
          "text": [
            "[354] downloaded -> images/image354.png (source: 180.jpg)\n"
          ]
        },
        {
          "output_type": "stream",
          "name": "stderr",
          "text": [
            "\rDownloading images:  46%|████▋     | 182/393 [01:13<00:57,  3.67it/s]"
          ]
        },
        {
          "output_type": "stream",
          "name": "stdout",
          "text": [
            "[355] downloaded -> images/image355.png (source: 181.jpg)\n"
          ]
        },
        {
          "output_type": "stream",
          "name": "stderr",
          "text": [
            "\rDownloading images:  47%|████▋     | 183/393 [01:13<01:06,  3.16it/s]"
          ]
        },
        {
          "output_type": "stream",
          "name": "stdout",
          "text": [
            "[356] downloaded -> images/image356.png (source: 182.jpg)\n"
          ]
        },
        {
          "output_type": "stream",
          "name": "stderr",
          "text": [
            "\rDownloading images:  47%|████▋     | 184/393 [01:14<01:00,  3.46it/s]"
          ]
        },
        {
          "output_type": "stream",
          "name": "stdout",
          "text": [
            "[357] downloaded -> images/image357.png (source: 183.jpg)\n"
          ]
        },
        {
          "output_type": "stream",
          "name": "stderr",
          "text": [
            "\rDownloading images:  47%|████▋     | 185/393 [01:14<01:02,  3.32it/s]"
          ]
        },
        {
          "output_type": "stream",
          "name": "stdout",
          "text": [
            "[358] downloaded -> images/image358.png (source: 184.jpg)\n"
          ]
        },
        {
          "output_type": "stream",
          "name": "stderr",
          "text": [
            "\rDownloading images:  47%|████▋     | 186/393 [01:15<01:26,  2.38it/s]"
          ]
        },
        {
          "output_type": "stream",
          "name": "stdout",
          "text": [
            "[359] downloaded -> images/image359.png (source: 185.jpg)\n"
          ]
        },
        {
          "output_type": "stream",
          "name": "stderr",
          "text": [
            "\rDownloading images:  48%|████▊     | 187/393 [01:16<02:38,  1.30it/s]"
          ]
        },
        {
          "output_type": "stream",
          "name": "stdout",
          "text": [
            "[360] downloaded -> images/image360.png (source: 186.jpg)\n"
          ]
        },
        {
          "output_type": "stream",
          "name": "stderr",
          "text": [
            "\rDownloading images:  48%|████▊     | 188/393 [01:16<02:04,  1.64it/s]"
          ]
        },
        {
          "output_type": "stream",
          "name": "stdout",
          "text": [
            "[361] downloaded -> images/image361.png (source: 187.jpg)\n"
          ]
        },
        {
          "output_type": "stream",
          "name": "stderr",
          "text": [
            "\rDownloading images:  48%|████▊     | 189/393 [01:17<01:43,  1.98it/s]"
          ]
        },
        {
          "output_type": "stream",
          "name": "stdout",
          "text": [
            "[362] downloaded -> images/image362.png (source: 188.jpg)\n"
          ]
        },
        {
          "output_type": "stream",
          "name": "stderr",
          "text": [
            "\rDownloading images:  48%|████▊     | 190/393 [01:17<01:46,  1.91it/s]"
          ]
        },
        {
          "output_type": "stream",
          "name": "stdout",
          "text": [
            "[363] downloaded -> images/image363.png (source: 189.jpg)\n"
          ]
        },
        {
          "output_type": "stream",
          "name": "stderr",
          "text": [
            "\rDownloading images:  49%|████▊     | 191/393 [01:19<02:51,  1.18it/s]"
          ]
        },
        {
          "output_type": "stream",
          "name": "stdout",
          "text": [
            "[364] downloaded -> images/image364.png (source: 190.jpg)\n"
          ]
        },
        {
          "output_type": "stream",
          "name": "stderr",
          "text": [
            "\rDownloading images:  49%|████▉     | 192/393 [01:19<02:19,  1.44it/s]"
          ]
        },
        {
          "output_type": "stream",
          "name": "stdout",
          "text": [
            "[365] downloaded -> images/image365.png (source: 191.jpg)\n"
          ]
        },
        {
          "output_type": "stream",
          "name": "stderr",
          "text": [
            "\rDownloading images:  49%|████▉     | 193/393 [01:20<02:15,  1.47it/s]"
          ]
        },
        {
          "output_type": "stream",
          "name": "stdout",
          "text": [
            "[366] downloaded -> images/image366.png (source: 192.jpg)\n"
          ]
        },
        {
          "output_type": "stream",
          "name": "stderr",
          "text": [
            "\rDownloading images:  49%|████▉     | 194/393 [01:21<02:13,  1.49it/s]"
          ]
        },
        {
          "output_type": "stream",
          "name": "stdout",
          "text": [
            "[367] downloaded -> images/image367.png (source: 193.jpg)\n"
          ]
        },
        {
          "output_type": "stream",
          "name": "stderr",
          "text": [
            "\rDownloading images:  50%|████▉     | 195/393 [01:23<03:41,  1.12s/it]"
          ]
        },
        {
          "output_type": "stream",
          "name": "stdout",
          "text": [
            "[368] downloaded -> images/image368.png (source: 194.jpg)\n"
          ]
        },
        {
          "output_type": "stream",
          "name": "stderr",
          "text": [
            "Downloading images:  50%|█████     | 197/393 [01:23<02:18,  1.42it/s]"
          ]
        },
        {
          "output_type": "stream",
          "name": "stdout",
          "text": [
            "[369] downloaded -> images/image369.png (source: 195.jpg)\n",
            "[370] downloaded -> images/image370.png (source: 196.jpg)\n"
          ]
        },
        {
          "output_type": "stream",
          "name": "stderr",
          "text": [
            "\rDownloading images:  50%|█████     | 198/393 [01:24<02:27,  1.32it/s]"
          ]
        },
        {
          "output_type": "stream",
          "name": "stdout",
          "text": [
            "[371] downloaded -> images/image371.png (source: 197.jpg)\n"
          ]
        },
        {
          "output_type": "stream",
          "name": "stderr",
          "text": [
            "\rDownloading images:  51%|█████     | 199/393 [01:25<02:05,  1.55it/s]"
          ]
        },
        {
          "output_type": "stream",
          "name": "stdout",
          "text": [
            "[372] downloaded -> images/image372.png (source: 198.jpg)\n"
          ]
        },
        {
          "output_type": "stream",
          "name": "stderr",
          "text": [
            "\rDownloading images:  51%|█████     | 200/393 [01:25<01:39,  1.94it/s]"
          ]
        },
        {
          "output_type": "stream",
          "name": "stdout",
          "text": [
            "[373] downloaded -> images/image373.png (source: 199.jpg)\n"
          ]
        },
        {
          "output_type": "stream",
          "name": "stderr",
          "text": [
            "\rDownloading images:  51%|█████     | 201/393 [01:25<01:32,  2.08it/s]"
          ]
        },
        {
          "output_type": "stream",
          "name": "stdout",
          "text": [
            "[374] downloaded -> images/image374.png (source: 200.jpg)\n"
          ]
        },
        {
          "output_type": "stream",
          "name": "stderr",
          "text": [
            "\rDownloading images:  51%|█████▏    | 202/393 [01:26<01:23,  2.27it/s]"
          ]
        },
        {
          "output_type": "stream",
          "name": "stdout",
          "text": [
            "[375] downloaded -> images/image375.png (source: 201.jpg)\n"
          ]
        },
        {
          "output_type": "stream",
          "name": "stderr",
          "text": [
            "\rDownloading images:  52%|█████▏    | 203/393 [01:26<01:24,  2.24it/s]"
          ]
        },
        {
          "output_type": "stream",
          "name": "stdout",
          "text": [
            "[376] downloaded -> images/image376.png (source: 202.jpg)\n"
          ]
        },
        {
          "output_type": "stream",
          "name": "stderr",
          "text": [
            "\rDownloading images:  52%|█████▏    | 204/393 [01:26<01:14,  2.55it/s]"
          ]
        },
        {
          "output_type": "stream",
          "name": "stdout",
          "text": [
            "[377] downloaded -> images/image377.png (source: 203.jpg)\n"
          ]
        },
        {
          "output_type": "stream",
          "name": "stderr",
          "text": [
            "\rDownloading images:  52%|█████▏    | 205/393 [01:27<01:28,  2.11it/s]"
          ]
        },
        {
          "output_type": "stream",
          "name": "stdout",
          "text": [
            "[378] downloaded -> images/image378.png (source: 204.jpg)\n"
          ]
        },
        {
          "output_type": "stream",
          "name": "stderr",
          "text": [
            "\rDownloading images:  52%|█████▏    | 206/393 [01:27<01:16,  2.45it/s]"
          ]
        },
        {
          "output_type": "stream",
          "name": "stdout",
          "text": [
            "[379] downloaded -> images/image379.png (source: 205.jpg)\n"
          ]
        },
        {
          "output_type": "stream",
          "name": "stderr",
          "text": [
            "\rDownloading images:  53%|█████▎    | 207/393 [01:28<01:31,  2.04it/s]"
          ]
        },
        {
          "output_type": "stream",
          "name": "stdout",
          "text": [
            "[380] downloaded -> images/image380.png (source: 206.jpg)\n"
          ]
        },
        {
          "output_type": "stream",
          "name": "stderr",
          "text": [
            "\rDownloading images:  53%|█████▎    | 208/393 [01:28<01:27,  2.11it/s]"
          ]
        },
        {
          "output_type": "stream",
          "name": "stdout",
          "text": [
            "[381] downloaded -> images/image381.png (source: 207.jpg)\n"
          ]
        },
        {
          "output_type": "stream",
          "name": "stderr",
          "text": [
            "\rDownloading images:  53%|█████▎    | 209/393 [01:29<01:37,  1.88it/s]"
          ]
        },
        {
          "output_type": "stream",
          "name": "stdout",
          "text": [
            "[382] downloaded -> images/image382.png (source: 208.jpg)\n"
          ]
        },
        {
          "output_type": "stream",
          "name": "stderr",
          "text": [
            "\rDownloading images:  53%|█████▎    | 210/393 [01:29<01:19,  2.31it/s]"
          ]
        },
        {
          "output_type": "stream",
          "name": "stdout",
          "text": [
            "[383] downloaded -> images/image383.png (source: 209.jpg)\n"
          ]
        },
        {
          "output_type": "stream",
          "name": "stderr",
          "text": [
            "\rDownloading images:  54%|█████▎    | 211/393 [01:30<01:18,  2.32it/s]"
          ]
        },
        {
          "output_type": "stream",
          "name": "stdout",
          "text": [
            "[384] downloaded -> images/image384.png (source: 210.jpg)\n"
          ]
        },
        {
          "output_type": "stream",
          "name": "stderr",
          "text": [
            "\rDownloading images:  54%|█████▍    | 212/393 [01:30<01:11,  2.52it/s]"
          ]
        },
        {
          "output_type": "stream",
          "name": "stdout",
          "text": [
            "[385] downloaded -> images/image385.png (source: 211.jpg)\n"
          ]
        },
        {
          "output_type": "stream",
          "name": "stderr",
          "text": [
            "\rDownloading images:  54%|█████▍    | 213/393 [01:30<01:03,  2.83it/s]"
          ]
        },
        {
          "output_type": "stream",
          "name": "stdout",
          "text": [
            "[386] downloaded -> images/image386.png (source: 212.jpg)\n"
          ]
        },
        {
          "output_type": "stream",
          "name": "stderr",
          "text": [
            "\rDownloading images:  54%|█████▍    | 214/393 [01:30<00:58,  3.05it/s]"
          ]
        },
        {
          "output_type": "stream",
          "name": "stdout",
          "text": [
            "[387] downloaded -> images/image387.png (source: 213.jpg)\n"
          ]
        },
        {
          "output_type": "stream",
          "name": "stderr",
          "text": [
            "\rDownloading images:  55%|█████▍    | 215/393 [01:31<00:52,  3.39it/s]"
          ]
        },
        {
          "output_type": "stream",
          "name": "stdout",
          "text": [
            "[388] downloaded -> images/image388.png (source: 214.jpg)\n"
          ]
        },
        {
          "output_type": "stream",
          "name": "stderr",
          "text": [
            "\rDownloading images:  55%|█████▍    | 216/393 [01:31<00:47,  3.70it/s]"
          ]
        },
        {
          "output_type": "stream",
          "name": "stdout",
          "text": [
            "[389] downloaded -> images/image389.png (source: 215.jpg)\n"
          ]
        },
        {
          "output_type": "stream",
          "name": "stderr",
          "text": [
            "\rDownloading images:  55%|█████▌    | 217/393 [01:31<00:46,  3.76it/s]"
          ]
        },
        {
          "output_type": "stream",
          "name": "stdout",
          "text": [
            "[390] downloaded -> images/image390.png (source: 216.jpg)\n"
          ]
        },
        {
          "output_type": "stream",
          "name": "stderr",
          "text": [
            "\rDownloading images:  55%|█████▌    | 218/393 [01:31<00:45,  3.82it/s]"
          ]
        },
        {
          "output_type": "stream",
          "name": "stdout",
          "text": [
            "[391] downloaded -> images/image391.png (source: 217.jpg)\n"
          ]
        },
        {
          "output_type": "stream",
          "name": "stderr",
          "text": [
            "\rDownloading images:  56%|█████▌    | 219/393 [01:32<00:42,  4.08it/s]"
          ]
        },
        {
          "output_type": "stream",
          "name": "stdout",
          "text": [
            "[392] downloaded -> images/image392.png (source: 218.jpg)\n"
          ]
        },
        {
          "output_type": "stream",
          "name": "stderr",
          "text": [
            "\rDownloading images:  56%|█████▌    | 220/393 [01:32<00:42,  4.09it/s]"
          ]
        },
        {
          "output_type": "stream",
          "name": "stdout",
          "text": [
            "[393] downloaded -> images/image393.png (source: 219.jpg)\n"
          ]
        },
        {
          "output_type": "stream",
          "name": "stderr",
          "text": [
            "\rDownloading images:  56%|█████▌    | 221/393 [01:32<00:40,  4.29it/s]"
          ]
        },
        {
          "output_type": "stream",
          "name": "stdout",
          "text": [
            "[394] downloaded -> images/image394.png (source: 220.jpg)\n"
          ]
        },
        {
          "output_type": "stream",
          "name": "stderr",
          "text": [
            "\rDownloading images:  56%|█████▋    | 222/393 [01:32<00:39,  4.38it/s]"
          ]
        },
        {
          "output_type": "stream",
          "name": "stdout",
          "text": [
            "[395] downloaded -> images/image395.png (source: 221.jpg)\n"
          ]
        },
        {
          "output_type": "stream",
          "name": "stderr",
          "text": [
            "Downloading images:  57%|█████▋    | 224/393 [01:33<00:34,  4.91it/s]"
          ]
        },
        {
          "output_type": "stream",
          "name": "stdout",
          "text": [
            "[396] downloaded -> images/image396.png (source: 222.jpg)\n",
            "[397] downloaded -> images/image397.png (source: 223.jpg)\n"
          ]
        },
        {
          "output_type": "stream",
          "name": "stderr",
          "text": [
            "\rDownloading images:  57%|█████▋    | 225/393 [01:33<00:33,  5.06it/s]"
          ]
        },
        {
          "output_type": "stream",
          "name": "stdout",
          "text": [
            "[398] downloaded -> images/image398.png (source: 224.jpg)\n"
          ]
        },
        {
          "output_type": "stream",
          "name": "stderr",
          "text": [
            "Downloading images:  58%|█████▊    | 227/393 [01:33<00:33,  4.93it/s]"
          ]
        },
        {
          "output_type": "stream",
          "name": "stdout",
          "text": [
            "[399] downloaded -> images/image399.png (source: 225.jpg)\n",
            "[400] downloaded -> images/image400.png (source: 226.jpg)\n"
          ]
        },
        {
          "output_type": "stream",
          "name": "stderr",
          "text": [
            "\rDownloading images:  58%|█████▊    | 228/393 [01:33<00:34,  4.74it/s]"
          ]
        },
        {
          "output_type": "stream",
          "name": "stdout",
          "text": [
            "[401] downloaded -> images/image401.png (source: 227.jpg)\n"
          ]
        },
        {
          "output_type": "stream",
          "name": "stderr",
          "text": [
            "\rDownloading images:  58%|█████▊    | 229/393 [01:34<00:34,  4.75it/s]"
          ]
        },
        {
          "output_type": "stream",
          "name": "stdout",
          "text": [
            "[402] downloaded -> images/image402.png (source: 228.jpg)\n"
          ]
        },
        {
          "output_type": "stream",
          "name": "stderr",
          "text": [
            "\rDownloading images:  59%|█████▊    | 230/393 [01:34<00:38,  4.20it/s]"
          ]
        },
        {
          "output_type": "stream",
          "name": "stdout",
          "text": [
            "[403] downloaded -> images/image403.png (source: 229.jpg)\n"
          ]
        },
        {
          "output_type": "stream",
          "name": "stderr",
          "text": [
            "\rDownloading images:  59%|█████▉    | 231/393 [01:34<00:40,  3.99it/s]"
          ]
        },
        {
          "output_type": "stream",
          "name": "stdout",
          "text": [
            "[404] downloaded -> images/image404.png (source: 230.jpg)\n"
          ]
        },
        {
          "output_type": "stream",
          "name": "stderr",
          "text": [
            "\rDownloading images:  59%|█████▉    | 232/393 [01:35<00:54,  2.93it/s]"
          ]
        },
        {
          "output_type": "stream",
          "name": "stdout",
          "text": [
            "[405] downloaded -> images/image405.png (source: 231.jpg)\n"
          ]
        },
        {
          "output_type": "stream",
          "name": "stderr",
          "text": [
            "\rDownloading images:  59%|█████▉    | 233/393 [01:35<00:53,  2.99it/s]"
          ]
        },
        {
          "output_type": "stream",
          "name": "stdout",
          "text": [
            "[406] downloaded -> images/image406.png (source: 232.jpg)\n"
          ]
        },
        {
          "output_type": "stream",
          "name": "stderr",
          "text": [
            "\rDownloading images:  60%|█████▉    | 234/393 [01:35<00:49,  3.23it/s]"
          ]
        },
        {
          "output_type": "stream",
          "name": "stdout",
          "text": [
            "[407] downloaded -> images/image407.png (source: 233.jpg)\n"
          ]
        },
        {
          "output_type": "stream",
          "name": "stderr",
          "text": [
            "\rDownloading images:  60%|█████▉    | 235/393 [01:36<00:47,  3.36it/s]"
          ]
        },
        {
          "output_type": "stream",
          "name": "stdout",
          "text": [
            "[408] downloaded -> images/image408.png (source: 234.jpg)\n"
          ]
        },
        {
          "output_type": "stream",
          "name": "stderr",
          "text": [
            "\rDownloading images:  60%|██████    | 236/393 [01:36<00:43,  3.64it/s]"
          ]
        },
        {
          "output_type": "stream",
          "name": "stdout",
          "text": [
            "[409] downloaded -> images/image409.png (source: 235.jpg)\n"
          ]
        },
        {
          "output_type": "stream",
          "name": "stderr",
          "text": [
            "\rDownloading images:  60%|██████    | 237/393 [01:36<00:46,  3.36it/s]"
          ]
        },
        {
          "output_type": "stream",
          "name": "stdout",
          "text": [
            "[410] downloaded -> images/image410.png (source: 236.jpg)\n"
          ]
        },
        {
          "output_type": "stream",
          "name": "stderr",
          "text": [
            "\rDownloading images:  61%|██████    | 238/393 [01:36<00:43,  3.59it/s]"
          ]
        },
        {
          "output_type": "stream",
          "name": "stdout",
          "text": [
            "[411] downloaded -> images/image411.png (source: 237.jpg)\n"
          ]
        },
        {
          "output_type": "stream",
          "name": "stderr",
          "text": [
            "\rDownloading images:  61%|██████    | 239/393 [01:37<00:40,  3.85it/s]"
          ]
        },
        {
          "output_type": "stream",
          "name": "stdout",
          "text": [
            "[412] downloaded -> images/image412.png (source: 238.jpg)\n"
          ]
        },
        {
          "output_type": "stream",
          "name": "stderr",
          "text": [
            "\rDownloading images:  61%|██████    | 240/393 [01:37<00:37,  4.03it/s]"
          ]
        },
        {
          "output_type": "stream",
          "name": "stdout",
          "text": [
            "[413] downloaded -> images/image413.png (source: 239.jpg)\n"
          ]
        },
        {
          "output_type": "stream",
          "name": "stderr",
          "text": [
            "\rDownloading images:  61%|██████▏   | 241/393 [01:37<00:41,  3.64it/s]"
          ]
        },
        {
          "output_type": "stream",
          "name": "stdout",
          "text": [
            "[414] downloaded -> images/image414.png (source: 240.jpg)\n"
          ]
        },
        {
          "output_type": "stream",
          "name": "stderr",
          "text": [
            "Downloading images:  62%|██████▏   | 243/393 [01:38<00:44,  3.39it/s]"
          ]
        },
        {
          "output_type": "stream",
          "name": "stdout",
          "text": [
            "[415] downloaded -> images/image415.png (source: 241.jpg)\n",
            "[416] downloaded -> images/image416.png (source: 242.jpg)\n"
          ]
        },
        {
          "output_type": "stream",
          "name": "stderr",
          "text": [
            "\rDownloading images:  62%|██████▏   | 244/393 [01:38<00:43,  3.45it/s]"
          ]
        },
        {
          "output_type": "stream",
          "name": "stdout",
          "text": [
            "[417] downloaded -> images/image417.png (source: 243.jpg)\n"
          ]
        },
        {
          "output_type": "stream",
          "name": "stderr",
          "text": [
            "\rDownloading images:  62%|██████▏   | 245/393 [01:38<00:40,  3.63it/s]"
          ]
        },
        {
          "output_type": "stream",
          "name": "stdout",
          "text": [
            "[418] downloaded -> images/image418.png (source: 244.jpg)\n"
          ]
        },
        {
          "output_type": "stream",
          "name": "stderr",
          "text": [
            "\rDownloading images:  63%|██████▎   | 246/393 [01:41<02:23,  1.03it/s]"
          ]
        },
        {
          "output_type": "stream",
          "name": "stdout",
          "text": [
            "[419] downloaded -> images/image419.png (source: 245.jpg)\n"
          ]
        },
        {
          "output_type": "stream",
          "name": "stderr",
          "text": [
            "\rDownloading images:  63%|██████▎   | 247/393 [01:42<02:33,  1.05s/it]"
          ]
        },
        {
          "output_type": "stream",
          "name": "stdout",
          "text": [
            "[420] downloaded -> images/image420.png (source: 246.jpg)\n"
          ]
        },
        {
          "output_type": "stream",
          "name": "stderr",
          "text": [
            "\rDownloading images:  63%|██████▎   | 248/393 [01:43<02:04,  1.17it/s]"
          ]
        },
        {
          "output_type": "stream",
          "name": "stdout",
          "text": [
            "[421] downloaded -> images/image421.png (source: 247.jpg)\n"
          ]
        },
        {
          "output_type": "stream",
          "name": "stderr",
          "text": [
            "\rDownloading images:  63%|██████▎   | 249/393 [01:43<01:37,  1.47it/s]"
          ]
        },
        {
          "output_type": "stream",
          "name": "stdout",
          "text": [
            "[422] downloaded -> images/image422.png (source: 248.jpg)\n"
          ]
        },
        {
          "output_type": "stream",
          "name": "stderr",
          "text": [
            "\rDownloading images:  64%|██████▎   | 250/393 [01:43<01:21,  1.76it/s]"
          ]
        },
        {
          "output_type": "stream",
          "name": "stdout",
          "text": [
            "[423] downloaded -> images/image423.png (source: 249.jpg)\n"
          ]
        },
        {
          "output_type": "stream",
          "name": "stderr",
          "text": [
            "\rDownloading images:  64%|██████▍   | 251/393 [01:43<01:06,  2.12it/s]"
          ]
        },
        {
          "output_type": "stream",
          "name": "stdout",
          "text": [
            "[424] downloaded -> images/image424.png (source: 250.jpg)\n"
          ]
        },
        {
          "output_type": "stream",
          "name": "stderr",
          "text": [
            "\rDownloading images:  64%|██████▍   | 252/393 [01:44<01:01,  2.30it/s]"
          ]
        },
        {
          "output_type": "stream",
          "name": "stdout",
          "text": [
            "[425] downloaded -> images/image425.png (source: 251.jpg)\n"
          ]
        },
        {
          "output_type": "stream",
          "name": "stderr",
          "text": [
            "\rDownloading images:  64%|██████▍   | 253/393 [01:44<00:51,  2.72it/s]"
          ]
        },
        {
          "output_type": "stream",
          "name": "stdout",
          "text": [
            "[426] downloaded -> images/image426.png (source: 252.jpg)\n"
          ]
        },
        {
          "output_type": "stream",
          "name": "stderr",
          "text": [
            "\rDownloading images:  65%|██████▍   | 254/393 [01:45<01:05,  2.12it/s]"
          ]
        },
        {
          "output_type": "stream",
          "name": "stdout",
          "text": [
            "[427] downloaded -> images/image427.png (source: 253.jpg)\n"
          ]
        },
        {
          "output_type": "stream",
          "name": "stderr",
          "text": [
            "\rDownloading images:  65%|██████▍   | 255/393 [01:46<01:33,  1.48it/s]"
          ]
        },
        {
          "output_type": "stream",
          "name": "stdout",
          "text": [
            "[428] downloaded -> images/image428.png (source: 254.jpg)\n"
          ]
        },
        {
          "output_type": "stream",
          "name": "stderr",
          "text": [
            "\rDownloading images:  65%|██████▌   | 256/393 [01:46<01:21,  1.67it/s]"
          ]
        },
        {
          "output_type": "stream",
          "name": "stdout",
          "text": [
            "[429] downloaded -> images/image429.png (source: 255.jpg)\n"
          ]
        },
        {
          "output_type": "stream",
          "name": "stderr",
          "text": [
            "\rDownloading images:  65%|██████▌   | 257/393 [01:47<01:33,  1.45it/s]"
          ]
        },
        {
          "output_type": "stream",
          "name": "stdout",
          "text": [
            "[430] downloaded -> images/image430.png (source: 256.jpg)\n"
          ]
        },
        {
          "output_type": "stream",
          "name": "stderr",
          "text": [
            "\rDownloading images:  66%|██████▌   | 258/393 [01:47<01:13,  1.83it/s]"
          ]
        },
        {
          "output_type": "stream",
          "name": "stdout",
          "text": [
            "[431] downloaded -> images/image431.png (source: 257.jpg)\n"
          ]
        },
        {
          "output_type": "stream",
          "name": "stderr",
          "text": [
            "\rDownloading images:  66%|██████▌   | 259/393 [01:48<01:10,  1.91it/s]"
          ]
        },
        {
          "output_type": "stream",
          "name": "stdout",
          "text": [
            "[432] downloaded -> images/image432.png (source: 258.jpg)\n"
          ]
        },
        {
          "output_type": "stream",
          "name": "stderr",
          "text": [
            "\rDownloading images:  66%|██████▌   | 260/393 [01:48<01:04,  2.07it/s]"
          ]
        },
        {
          "output_type": "stream",
          "name": "stdout",
          "text": [
            "[433] downloaded -> images/image433.png (source: 259.jpg)\n"
          ]
        },
        {
          "output_type": "stream",
          "name": "stderr",
          "text": [
            "\rDownloading images:  66%|██████▋   | 261/393 [01:49<00:56,  2.34it/s]"
          ]
        },
        {
          "output_type": "stream",
          "name": "stdout",
          "text": [
            "[434] downloaded -> images/image434.png (source: 260.jpg)\n"
          ]
        },
        {
          "output_type": "stream",
          "name": "stderr",
          "text": [
            "Downloading images:  67%|██████▋   | 263/393 [01:49<00:46,  2.82it/s]"
          ]
        },
        {
          "output_type": "stream",
          "name": "stdout",
          "text": [
            "[435] downloaded -> images/image435.png (source: 261.jpg)\n",
            "[436] downloaded -> images/image436.png (source: 262.jpg)\n"
          ]
        },
        {
          "output_type": "stream",
          "name": "stderr",
          "text": [
            "\rDownloading images:  67%|██████▋   | 264/393 [01:49<00:40,  3.21it/s]"
          ]
        },
        {
          "output_type": "stream",
          "name": "stdout",
          "text": [
            "[437] downloaded -> images/image437.png (source: 263.jpg)\n"
          ]
        },
        {
          "output_type": "stream",
          "name": "stderr",
          "text": [
            "\rDownloading images:  67%|██████▋   | 265/393 [01:50<00:40,  3.18it/s]"
          ]
        },
        {
          "output_type": "stream",
          "name": "stdout",
          "text": [
            "[438] downloaded -> images/image438.png (source: 264.jpg)\n"
          ]
        },
        {
          "output_type": "stream",
          "name": "stderr",
          "text": [
            "\rDownloading images:  68%|██████▊   | 266/393 [01:50<00:37,  3.40it/s]"
          ]
        },
        {
          "output_type": "stream",
          "name": "stdout",
          "text": [
            "[439] downloaded -> images/image439.png (source: 265.jpg)\n"
          ]
        },
        {
          "output_type": "stream",
          "name": "stderr",
          "text": [
            "Downloading images:  68%|██████▊   | 268/393 [01:51<00:35,  3.53it/s]"
          ]
        },
        {
          "output_type": "stream",
          "name": "stdout",
          "text": [
            "[440] downloaded -> images/image440.png (source: 266.jpg)\n",
            "[441] downloaded -> images/image441.png (source: 267.jpg)\n"
          ]
        },
        {
          "output_type": "stream",
          "name": "stderr",
          "text": [
            "\rDownloading images:  68%|██████▊   | 269/393 [01:51<00:32,  3.83it/s]"
          ]
        },
        {
          "output_type": "stream",
          "name": "stdout",
          "text": [
            "[442] downloaded -> images/image442.png (source: 268.jpg)\n"
          ]
        },
        {
          "output_type": "stream",
          "name": "stderr",
          "text": [
            "\rDownloading images:  69%|██████▊   | 270/393 [01:51<00:34,  3.56it/s]"
          ]
        },
        {
          "output_type": "stream",
          "name": "stdout",
          "text": [
            "[443] downloaded -> images/image443.png (source: 269.jpg)\n"
          ]
        },
        {
          "output_type": "stream",
          "name": "stderr",
          "text": [
            "\rDownloading images:  69%|██████▉   | 271/393 [01:51<00:33,  3.61it/s]"
          ]
        },
        {
          "output_type": "stream",
          "name": "stdout",
          "text": [
            "[444] downloaded -> images/image444.png (source: 270.jpg)\n"
          ]
        },
        {
          "output_type": "stream",
          "name": "stderr",
          "text": [
            "\rDownloading images:  69%|██████▉   | 272/393 [01:52<00:36,  3.33it/s]"
          ]
        },
        {
          "output_type": "stream",
          "name": "stdout",
          "text": [
            "[445] downloaded -> images/image445.png (source: 271.jpg)\n"
          ]
        },
        {
          "output_type": "stream",
          "name": "stderr",
          "text": [
            "\rDownloading images:  69%|██████▉   | 273/393 [01:52<00:42,  2.80it/s]"
          ]
        },
        {
          "output_type": "stream",
          "name": "stdout",
          "text": [
            "[446] downloaded -> images/image446.png (source: 272.jpg)\n"
          ]
        },
        {
          "output_type": "stream",
          "name": "stderr",
          "text": [
            "\rDownloading images:  70%|██████▉   | 274/393 [01:52<00:38,  3.12it/s]"
          ]
        },
        {
          "output_type": "stream",
          "name": "stdout",
          "text": [
            "[447] downloaded -> images/image447.png (source: 273.jpg)\n"
          ]
        },
        {
          "output_type": "stream",
          "name": "stderr",
          "text": [
            "\rDownloading images:  70%|██████▉   | 275/393 [01:53<00:36,  3.27it/s]"
          ]
        },
        {
          "output_type": "stream",
          "name": "stdout",
          "text": [
            "[448] downloaded -> images/image448.png (source: 274.jpg)\n"
          ]
        },
        {
          "output_type": "stream",
          "name": "stderr",
          "text": [
            "\rDownloading images:  70%|███████   | 276/393 [01:56<02:27,  1.26s/it]"
          ]
        },
        {
          "output_type": "stream",
          "name": "stdout",
          "text": [
            "[449] downloaded -> images/image449.png (source: 275.jpg)\n"
          ]
        },
        {
          "output_type": "stream",
          "name": "stderr",
          "text": [
            "\rDownloading images:  70%|███████   | 277/393 [01:57<01:58,  1.02s/it]"
          ]
        },
        {
          "output_type": "stream",
          "name": "stdout",
          "text": [
            "[450] downloaded -> images/image450.png (source: 276.jpg)\n"
          ]
        },
        {
          "output_type": "stream",
          "name": "stderr",
          "text": [
            "\rDownloading images:  71%|███████   | 278/393 [01:57<01:33,  1.23it/s]"
          ]
        },
        {
          "output_type": "stream",
          "name": "stdout",
          "text": [
            "[451] downloaded -> images/image451.png (source: 277.jpg)\n"
          ]
        },
        {
          "output_type": "stream",
          "name": "stderr",
          "text": [
            "\rDownloading images:  71%|███████   | 279/393 [01:57<01:16,  1.49it/s]"
          ]
        },
        {
          "output_type": "stream",
          "name": "stdout",
          "text": [
            "[452] downloaded -> images/image452.png (source: 278.jpg)\n"
          ]
        },
        {
          "output_type": "stream",
          "name": "stderr",
          "text": [
            "\rDownloading images:  71%|███████   | 280/393 [01:58<01:02,  1.80it/s]"
          ]
        },
        {
          "output_type": "stream",
          "name": "stdout",
          "text": [
            "[453] downloaded -> images/image453.png (source: 279.jpg)\n"
          ]
        },
        {
          "output_type": "stream",
          "name": "stderr",
          "text": [
            "\rDownloading images:  72%|███████▏  | 281/393 [01:58<00:53,  2.10it/s]"
          ]
        },
        {
          "output_type": "stream",
          "name": "stdout",
          "text": [
            "[454] downloaded -> images/image454.png (source: 280.jpg)\n"
          ]
        },
        {
          "output_type": "stream",
          "name": "stderr",
          "text": [
            "\rDownloading images:  72%|███████▏  | 282/393 [01:58<00:44,  2.51it/s]"
          ]
        },
        {
          "output_type": "stream",
          "name": "stdout",
          "text": [
            "[455] downloaded -> images/image455.png (source: 281.jpg)\n"
          ]
        },
        {
          "output_type": "stream",
          "name": "stderr",
          "text": [
            "\rDownloading images:  72%|███████▏  | 283/393 [01:59<00:52,  2.11it/s]"
          ]
        },
        {
          "output_type": "stream",
          "name": "stdout",
          "text": [
            "[456] downloaded -> images/image456.png (source: 282.jpg)\n"
          ]
        },
        {
          "output_type": "stream",
          "name": "stderr",
          "text": [
            "\rDownloading images:  72%|███████▏  | 284/393 [01:59<00:43,  2.49it/s]"
          ]
        },
        {
          "output_type": "stream",
          "name": "stdout",
          "text": [
            "[457] downloaded -> images/image457.png (source: 283.jpg)\n"
          ]
        },
        {
          "output_type": "stream",
          "name": "stderr",
          "text": [
            "\rDownloading images:  73%|███████▎  | 285/393 [01:59<00:39,  2.76it/s]"
          ]
        },
        {
          "output_type": "stream",
          "name": "stdout",
          "text": [
            "[458] downloaded -> images/image458.png (source: 284.jpg)\n"
          ]
        },
        {
          "output_type": "stream",
          "name": "stderr",
          "text": [
            "\rDownloading images:  73%|███████▎  | 286/393 [02:00<00:35,  3.04it/s]"
          ]
        },
        {
          "output_type": "stream",
          "name": "stdout",
          "text": [
            "[459] downloaded -> images/image459.png (source: 285.jpg)\n"
          ]
        },
        {
          "output_type": "stream",
          "name": "stderr",
          "text": [
            "\rDownloading images:  73%|███████▎  | 287/393 [02:00<00:36,  2.88it/s]"
          ]
        },
        {
          "output_type": "stream",
          "name": "stdout",
          "text": [
            "[460] downloaded -> images/image460.png (source: 286.jpg)\n"
          ]
        },
        {
          "output_type": "stream",
          "name": "stderr",
          "text": [
            "\rDownloading images:  73%|███████▎  | 288/393 [02:00<00:32,  3.20it/s]"
          ]
        },
        {
          "output_type": "stream",
          "name": "stdout",
          "text": [
            "[461] downloaded -> images/image461.png (source: 287.jpg)\n"
          ]
        },
        {
          "output_type": "stream",
          "name": "stderr",
          "text": [
            "\rDownloading images:  74%|███████▎  | 289/393 [02:00<00:30,  3.37it/s]"
          ]
        },
        {
          "output_type": "stream",
          "name": "stdout",
          "text": [
            "[462] downloaded -> images/image462.png (source: 288.jpg)\n"
          ]
        },
        {
          "output_type": "stream",
          "name": "stderr",
          "text": [
            "\rDownloading images:  74%|███████▍  | 290/393 [02:01<00:28,  3.64it/s]"
          ]
        },
        {
          "output_type": "stream",
          "name": "stdout",
          "text": [
            "[463] downloaded -> images/image463.png (source: 289.jpg)\n"
          ]
        },
        {
          "output_type": "stream",
          "name": "stderr",
          "text": [
            "\rDownloading images:  74%|███████▍  | 291/393 [02:02<00:49,  2.06it/s]"
          ]
        },
        {
          "output_type": "stream",
          "name": "stdout",
          "text": [
            "[464] downloaded -> images/image464.png (source: 290.jpg)\n"
          ]
        },
        {
          "output_type": "stream",
          "name": "stderr",
          "text": [
            "\rDownloading images:  74%|███████▍  | 292/393 [02:02<00:58,  1.72it/s]"
          ]
        },
        {
          "output_type": "stream",
          "name": "stdout",
          "text": [
            "[465] downloaded -> images/image465.png (source: 291.jpg)\n"
          ]
        },
        {
          "output_type": "stream",
          "name": "stderr",
          "text": [
            "\rDownloading images:  75%|███████▍  | 293/393 [02:03<00:48,  2.05it/s]"
          ]
        },
        {
          "output_type": "stream",
          "name": "stdout",
          "text": [
            "[466] downloaded -> images/image466.png (source: 292.jpg)\n"
          ]
        },
        {
          "output_type": "stream",
          "name": "stderr",
          "text": [
            "\rDownloading images:  75%|███████▍  | 294/393 [02:03<00:44,  2.24it/s]"
          ]
        },
        {
          "output_type": "stream",
          "name": "stdout",
          "text": [
            "[467] downloaded -> images/image467.png (source: 293.jpg)\n"
          ]
        },
        {
          "output_type": "stream",
          "name": "stderr",
          "text": [
            "\rDownloading images:  75%|███████▌  | 295/393 [02:04<00:44,  2.20it/s]"
          ]
        },
        {
          "output_type": "stream",
          "name": "stdout",
          "text": [
            "[468] downloaded -> images/image468.png (source: 294.jpg)\n"
          ]
        },
        {
          "output_type": "stream",
          "name": "stderr",
          "text": [
            "\rDownloading images:  75%|███████▌  | 296/393 [02:04<00:39,  2.43it/s]"
          ]
        },
        {
          "output_type": "stream",
          "name": "stdout",
          "text": [
            "[469] downloaded -> images/image469.png (source: 295.jpg)\n"
          ]
        },
        {
          "output_type": "stream",
          "name": "stderr",
          "text": [
            "\rDownloading images:  76%|███████▌  | 297/393 [02:04<00:39,  2.41it/s]"
          ]
        },
        {
          "output_type": "stream",
          "name": "stdout",
          "text": [
            "[470] downloaded -> images/image470.png (source: 296.jpg)\n"
          ]
        },
        {
          "output_type": "stream",
          "name": "stderr",
          "text": [
            "\rDownloading images:  76%|███████▌  | 298/393 [02:05<00:35,  2.64it/s]"
          ]
        },
        {
          "output_type": "stream",
          "name": "stdout",
          "text": [
            "[471] downloaded -> images/image471.png (source: 297.jpg)\n"
          ]
        },
        {
          "output_type": "stream",
          "name": "stderr",
          "text": [
            "\rDownloading images:  76%|███████▌  | 299/393 [02:05<00:38,  2.44it/s]"
          ]
        },
        {
          "output_type": "stream",
          "name": "stdout",
          "text": [
            "[472] downloaded -> images/image472.png (source: 298.jpg)\n"
          ]
        },
        {
          "output_type": "stream",
          "name": "stderr",
          "text": [
            "\rDownloading images:  76%|███████▋  | 300/393 [02:05<00:32,  2.88it/s]"
          ]
        },
        {
          "output_type": "stream",
          "name": "stdout",
          "text": [
            "[473] downloaded -> images/image473.png (source: 299.jpg)\n"
          ]
        },
        {
          "output_type": "stream",
          "name": "stderr",
          "text": [
            "\rDownloading images:  77%|███████▋  | 301/393 [02:06<00:29,  3.07it/s]"
          ]
        },
        {
          "output_type": "stream",
          "name": "stdout",
          "text": [
            "[474] downloaded -> images/image474.png (source: 300.jpg)\n"
          ]
        },
        {
          "output_type": "stream",
          "name": "stderr",
          "text": [
            "Downloading images:  77%|███████▋  | 303/393 [02:06<00:25,  3.52it/s]"
          ]
        },
        {
          "output_type": "stream",
          "name": "stdout",
          "text": [
            "[475] downloaded -> images/image475.png (source: 301.jpg)\n",
            "[476] downloaded -> images/image476.png (source: 302.jpg)\n"
          ]
        },
        {
          "output_type": "stream",
          "name": "stderr",
          "text": [
            "\rDownloading images:  77%|███████▋  | 304/393 [02:06<00:22,  3.87it/s]"
          ]
        },
        {
          "output_type": "stream",
          "name": "stdout",
          "text": [
            "[477] downloaded -> images/image477.png (source: 303.jpg)\n"
          ]
        },
        {
          "output_type": "stream",
          "name": "stderr",
          "text": [
            "\rDownloading images:  78%|███████▊  | 305/393 [02:07<00:23,  3.67it/s]"
          ]
        },
        {
          "output_type": "stream",
          "name": "stdout",
          "text": [
            "[478] downloaded -> images/image478.png (source: 304.jpg)\n",
            "[479] downloaded -> images/image479.png (source: 305.jpg)\n"
          ]
        },
        {
          "output_type": "stream",
          "name": "stderr",
          "text": [
            "Downloading images:  78%|███████▊  | 307/393 [02:07<00:20,  4.26it/s]"
          ]
        },
        {
          "output_type": "stream",
          "name": "stdout",
          "text": [
            "[480] downloaded -> images/image480.png (source: 306.jpg)\n"
          ]
        },
        {
          "output_type": "stream",
          "name": "stderr",
          "text": [
            "\rDownloading images:  78%|███████▊  | 308/393 [02:07<00:19,  4.34it/s]"
          ]
        },
        {
          "output_type": "stream",
          "name": "stdout",
          "text": [
            "[481] downloaded -> images/image481.png (source: 307.jpg)\n"
          ]
        },
        {
          "output_type": "stream",
          "name": "stderr",
          "text": [
            "\rDownloading images:  79%|███████▊  | 309/393 [02:07<00:19,  4.31it/s]"
          ]
        },
        {
          "output_type": "stream",
          "name": "stdout",
          "text": [
            "[482] downloaded -> images/image482.png (source: 308.jpg)\n"
          ]
        },
        {
          "output_type": "stream",
          "name": "stderr",
          "text": [
            "\rDownloading images:  79%|███████▉  | 310/393 [02:08<00:19,  4.21it/s]"
          ]
        },
        {
          "output_type": "stream",
          "name": "stdout",
          "text": [
            "[483] downloaded -> images/image483.png (source: 309.jpg)\n"
          ]
        },
        {
          "output_type": "stream",
          "name": "stderr",
          "text": [
            "\rDownloading images:  79%|███████▉  | 311/393 [02:08<00:19,  4.29it/s]"
          ]
        },
        {
          "output_type": "stream",
          "name": "stdout",
          "text": [
            "[484] downloaded -> images/image484.png (source: 310.jpg)\n"
          ]
        },
        {
          "output_type": "stream",
          "name": "stderr",
          "text": [
            "Downloading images:  80%|███████▉  | 313/393 [02:08<00:18,  4.27it/s]"
          ]
        },
        {
          "output_type": "stream",
          "name": "stdout",
          "text": [
            "[485] downloaded -> images/image485.png (source: 311.jpg)\n",
            "[486] downloaded -> images/image486.png (source: 312.jpg)\n"
          ]
        },
        {
          "output_type": "stream",
          "name": "stderr",
          "text": [
            "\rDownloading images:  80%|███████▉  | 314/393 [02:09<00:18,  4.35it/s]"
          ]
        },
        {
          "output_type": "stream",
          "name": "stdout",
          "text": [
            "[487] downloaded -> images/image487.png (source: 313.jpg)\n"
          ]
        },
        {
          "output_type": "stream",
          "name": "stderr",
          "text": [
            "Downloading images:  80%|████████  | 316/393 [02:09<00:17,  4.51it/s]"
          ]
        },
        {
          "output_type": "stream",
          "name": "stdout",
          "text": [
            "[488] downloaded -> images/image488.png (source: 314.jpg)\n",
            "[489] downloaded -> images/image489.png (source: 315.jpg)\n"
          ]
        },
        {
          "output_type": "stream",
          "name": "stderr",
          "text": [
            "\rDownloading images:  81%|████████  | 317/393 [02:09<00:17,  4.31it/s]"
          ]
        },
        {
          "output_type": "stream",
          "name": "stdout",
          "text": [
            "[490] downloaded -> images/image490.png (source: 316.jpg)\n"
          ]
        },
        {
          "output_type": "stream",
          "name": "stderr",
          "text": [
            "\rDownloading images:  81%|████████  | 318/393 [02:09<00:17,  4.28it/s]"
          ]
        },
        {
          "output_type": "stream",
          "name": "stdout",
          "text": [
            "[491] downloaded -> images/image491.png (source: 317.jpg)\n"
          ]
        },
        {
          "output_type": "stream",
          "name": "stderr",
          "text": [
            "Downloading images:  81%|████████▏ | 320/393 [02:10<00:17,  4.13it/s]"
          ]
        },
        {
          "output_type": "stream",
          "name": "stdout",
          "text": [
            "[492] downloaded -> images/image492.png (source: 318.jpg)\n",
            "[493] downloaded -> images/image493.png (source: 319.jpg)\n"
          ]
        },
        {
          "output_type": "stream",
          "name": "stderr",
          "text": [
            "Downloading images:  82%|████████▏ | 322/393 [02:10<00:15,  4.67it/s]"
          ]
        },
        {
          "output_type": "stream",
          "name": "stdout",
          "text": [
            "[494] downloaded -> images/image494.png (source: 320.jpg)\n",
            "[495] downloaded -> images/image495.png (source: 321.jpg)\n"
          ]
        },
        {
          "output_type": "stream",
          "name": "stderr",
          "text": [
            "\rDownloading images:  82%|████████▏ | 323/393 [02:11<00:18,  3.89it/s]"
          ]
        },
        {
          "output_type": "stream",
          "name": "stdout",
          "text": [
            "[496] downloaded -> images/image496.png (source: 322.jpg)\n"
          ]
        },
        {
          "output_type": "stream",
          "name": "stderr",
          "text": [
            "\rDownloading images:  82%|████████▏ | 324/393 [02:11<00:16,  4.13it/s]"
          ]
        },
        {
          "output_type": "stream",
          "name": "stdout",
          "text": [
            "[497] downloaded -> images/image497.png (source: 323.jpg)\n"
          ]
        },
        {
          "output_type": "stream",
          "name": "stderr",
          "text": [
            "\rDownloading images:  83%|████████▎ | 325/393 [02:11<00:18,  3.69it/s]"
          ]
        },
        {
          "output_type": "stream",
          "name": "stdout",
          "text": [
            "[498] downloaded -> images/image498.png (source: 324.jpg)\n"
          ]
        },
        {
          "output_type": "stream",
          "name": "stderr",
          "text": [
            "\rDownloading images:  83%|████████▎ | 326/393 [02:12<00:17,  3.74it/s]"
          ]
        },
        {
          "output_type": "stream",
          "name": "stdout",
          "text": [
            "[499] downloaded -> images/image499.png (source: 325.jpg)\n"
          ]
        },
        {
          "output_type": "stream",
          "name": "stderr",
          "text": [
            "\rDownloading images:  83%|████████▎ | 327/393 [02:12<00:21,  3.09it/s]"
          ]
        },
        {
          "output_type": "stream",
          "name": "stdout",
          "text": [
            "[500] downloaded -> images/image500.png (source: 326.jpg)\n"
          ]
        },
        {
          "output_type": "stream",
          "name": "stderr",
          "text": [
            "\rDownloading images:  83%|████████▎ | 328/393 [02:12<00:20,  3.13it/s]"
          ]
        },
        {
          "output_type": "stream",
          "name": "stdout",
          "text": [
            "[501] downloaded -> images/image501.png (source: 327.jpg)\n"
          ]
        },
        {
          "output_type": "stream",
          "name": "stderr",
          "text": [
            "\rDownloading images:  84%|████████▎ | 329/393 [02:13<00:18,  3.47it/s]"
          ]
        },
        {
          "output_type": "stream",
          "name": "stdout",
          "text": [
            "[502] downloaded -> images/image502.png (source: 328.jpg)\n"
          ]
        },
        {
          "output_type": "stream",
          "name": "stderr",
          "text": [
            "\rDownloading images:  84%|████████▍ | 330/393 [02:13<00:16,  3.78it/s]"
          ]
        },
        {
          "output_type": "stream",
          "name": "stdout",
          "text": [
            "[503] downloaded -> images/image503.png (source: 329.jpg)\n"
          ]
        },
        {
          "output_type": "stream",
          "name": "stderr",
          "text": [
            "\rDownloading images:  84%|████████▍ | 331/393 [02:13<00:16,  3.70it/s]"
          ]
        },
        {
          "output_type": "stream",
          "name": "stdout",
          "text": [
            "[504] downloaded -> images/image504.png (source: 330.jpg)\n"
          ]
        },
        {
          "output_type": "stream",
          "name": "stderr",
          "text": [
            "\rDownloading images:  84%|████████▍ | 332/393 [02:13<00:15,  3.90it/s]"
          ]
        },
        {
          "output_type": "stream",
          "name": "stdout",
          "text": [
            "[505] downloaded -> images/image505.png (source: 331.jpg)\n"
          ]
        },
        {
          "output_type": "stream",
          "name": "stderr",
          "text": [
            "\rDownloading images:  85%|████████▍ | 333/393 [02:14<00:21,  2.84it/s]"
          ]
        },
        {
          "output_type": "stream",
          "name": "stdout",
          "text": [
            "[506] downloaded -> images/image506.png (source: 332.jpg)\n"
          ]
        },
        {
          "output_type": "stream",
          "name": "stderr",
          "text": [
            "\rDownloading images:  85%|████████▍ | 334/393 [02:14<00:19,  3.05it/s]"
          ]
        },
        {
          "output_type": "stream",
          "name": "stdout",
          "text": [
            "[507] downloaded -> images/image507.png (source: 333.jpg)\n"
          ]
        },
        {
          "output_type": "stream",
          "name": "stderr",
          "text": [
            "Downloading images:  85%|████████▌ | 336/393 [02:15<00:15,  3.70it/s]"
          ]
        },
        {
          "output_type": "stream",
          "name": "stdout",
          "text": [
            "[508] downloaded -> images/image508.png (source: 334.jpg)\n",
            "[509] downloaded -> images/image509.png (source: 335.jpg)\n"
          ]
        },
        {
          "output_type": "stream",
          "name": "stderr",
          "text": [
            "Downloading images:  86%|████████▌ | 338/393 [02:15<00:13,  4.09it/s]"
          ]
        },
        {
          "output_type": "stream",
          "name": "stdout",
          "text": [
            "[510] downloaded -> images/image510.png (source: 336.jpg)\n",
            "[511] downloaded -> images/image511.png (source: 337.jpg)\n"
          ]
        },
        {
          "output_type": "stream",
          "name": "stderr",
          "text": [
            "Downloading images:  87%|████████▋ | 340/393 [02:15<00:11,  4.68it/s]"
          ]
        },
        {
          "output_type": "stream",
          "name": "stdout",
          "text": [
            "[512] downloaded -> images/image512.png (source: 338.jpg)\n",
            "[513] downloaded -> images/image513.png (source: 339.jpg)\n"
          ]
        },
        {
          "output_type": "stream",
          "name": "stderr",
          "text": [
            "\rDownloading images:  87%|████████▋ | 341/393 [02:16<00:12,  4.24it/s]"
          ]
        },
        {
          "output_type": "stream",
          "name": "stdout",
          "text": [
            "[514] downloaded -> images/image514.png (source: 340.jpg)\n"
          ]
        },
        {
          "output_type": "stream",
          "name": "stderr",
          "text": [
            "\rDownloading images:  87%|████████▋ | 342/393 [02:16<00:18,  2.75it/s]"
          ]
        },
        {
          "output_type": "stream",
          "name": "stdout",
          "text": [
            "[515] downloaded -> images/image515.png (source: 341.jpg)\n"
          ]
        },
        {
          "output_type": "stream",
          "name": "stderr",
          "text": [
            "\rDownloading images:  87%|████████▋ | 343/393 [02:17<00:20,  2.40it/s]"
          ]
        },
        {
          "output_type": "stream",
          "name": "stdout",
          "text": [
            "[516] downloaded -> images/image516.png (source: 342.jpg)\n"
          ]
        },
        {
          "output_type": "stream",
          "name": "stderr",
          "text": [
            "\rDownloading images:  88%|████████▊ | 344/393 [02:17<00:19,  2.46it/s]"
          ]
        },
        {
          "output_type": "stream",
          "name": "stdout",
          "text": [
            "[517] downloaded -> images/image517.png (source: 343.jpg)\n"
          ]
        },
        {
          "output_type": "stream",
          "name": "stderr",
          "text": [
            "\rDownloading images:  88%|████████▊ | 345/393 [02:17<00:16,  2.86it/s]"
          ]
        },
        {
          "output_type": "stream",
          "name": "stdout",
          "text": [
            "[518] downloaded -> images/image518.png (source: 344.jpg)\n"
          ]
        },
        {
          "output_type": "stream",
          "name": "stderr",
          "text": [
            "\rDownloading images:  88%|████████▊ | 346/393 [02:18<00:15,  3.03it/s]"
          ]
        },
        {
          "output_type": "stream",
          "name": "stdout",
          "text": [
            "[519] downloaded -> images/image519.png (source: 345.jpg)\n"
          ]
        },
        {
          "output_type": "stream",
          "name": "stderr",
          "text": [
            "\rDownloading images:  88%|████████▊ | 347/393 [02:18<00:14,  3.28it/s]"
          ]
        },
        {
          "output_type": "stream",
          "name": "stdout",
          "text": [
            "[520] downloaded -> images/image520.png (source: 346.jpg)\n"
          ]
        },
        {
          "output_type": "stream",
          "name": "stderr",
          "text": [
            "\rDownloading images:  89%|████████▊ | 348/393 [02:18<00:13,  3.45it/s]"
          ]
        },
        {
          "output_type": "stream",
          "name": "stdout",
          "text": [
            "[521] downloaded -> images/image521.png (source: 347.jpg)\n"
          ]
        },
        {
          "output_type": "stream",
          "name": "stderr",
          "text": [
            "Downloading images:  89%|████████▉ | 350/393 [02:19<00:10,  3.95it/s]"
          ]
        },
        {
          "output_type": "stream",
          "name": "stdout",
          "text": [
            "[522] downloaded -> images/image522.png (source: 348.jpg)\n",
            "[523] downloaded -> images/image523.png (source: 349.jpg)\n"
          ]
        },
        {
          "output_type": "stream",
          "name": "stderr",
          "text": [
            "\rDownloading images:  89%|████████▉ | 351/393 [02:19<00:12,  3.40it/s]"
          ]
        },
        {
          "output_type": "stream",
          "name": "stdout",
          "text": [
            "[524] downloaded -> images/image524.png (source: 350.jpg)\n"
          ]
        },
        {
          "output_type": "stream",
          "name": "stderr",
          "text": [
            "\rDownloading images:  90%|████████▉ | 352/393 [02:19<00:12,  3.35it/s]"
          ]
        },
        {
          "output_type": "stream",
          "name": "stdout",
          "text": [
            "[525] downloaded -> images/image525.png (source: 351.jpg)\n"
          ]
        },
        {
          "output_type": "stream",
          "name": "stderr",
          "text": [
            "\rDownloading images:  90%|████████▉ | 353/393 [02:20<00:13,  2.97it/s]"
          ]
        },
        {
          "output_type": "stream",
          "name": "stdout",
          "text": [
            "[526] downloaded -> images/image526.png (source: 352.jpg)\n"
          ]
        },
        {
          "output_type": "stream",
          "name": "stderr",
          "text": [
            "\rDownloading images:  90%|█████████ | 354/393 [02:20<00:13,  2.87it/s]"
          ]
        },
        {
          "output_type": "stream",
          "name": "stdout",
          "text": [
            "[527] downloaded -> images/image527.png (source: 353.jpg)\n"
          ]
        },
        {
          "output_type": "stream",
          "name": "stderr",
          "text": [
            "\rDownloading images:  90%|█████████ | 355/393 [02:20<00:11,  3.17it/s]"
          ]
        },
        {
          "output_type": "stream",
          "name": "stdout",
          "text": [
            "[528] downloaded -> images/image528.png (source: 354.jpg)\n"
          ]
        },
        {
          "output_type": "stream",
          "name": "stderr",
          "text": [
            "\rDownloading images:  91%|█████████ | 356/393 [02:21<00:11,  3.29it/s]"
          ]
        },
        {
          "output_type": "stream",
          "name": "stdout",
          "text": [
            "[529] downloaded -> images/image529.png (source: 355.jpg)\n"
          ]
        },
        {
          "output_type": "stream",
          "name": "stderr",
          "text": [
            "\rDownloading images:  91%|█████████ | 357/393 [02:21<00:14,  2.42it/s]"
          ]
        },
        {
          "output_type": "stream",
          "name": "stdout",
          "text": [
            "[530] downloaded -> images/image530.png (source: 356.jpg)\n"
          ]
        },
        {
          "output_type": "stream",
          "name": "stderr",
          "text": [
            "\rDownloading images:  91%|█████████ | 358/393 [02:22<00:12,  2.75it/s]"
          ]
        },
        {
          "output_type": "stream",
          "name": "stdout",
          "text": [
            "[531] downloaded -> images/image531.png (source: 357.jpg)\n"
          ]
        },
        {
          "output_type": "stream",
          "name": "stderr",
          "text": [
            "Downloading images:  92%|█████████▏| 360/393 [02:22<00:10,  3.21it/s]"
          ]
        },
        {
          "output_type": "stream",
          "name": "stdout",
          "text": [
            "[532] downloaded -> images/image532.png (source: 358.jpg)\n",
            "[533] downloaded -> images/image533.png (source: 359.jpg)\n"
          ]
        },
        {
          "output_type": "stream",
          "name": "stderr",
          "text": [
            "\rDownloading images:  92%|█████████▏| 361/393 [02:22<00:09,  3.38it/s]"
          ]
        },
        {
          "output_type": "stream",
          "name": "stdout",
          "text": [
            "[534] downloaded -> images/image534.png (source: 360.jpg)\n"
          ]
        },
        {
          "output_type": "stream",
          "name": "stderr",
          "text": [
            "\rDownloading images:  92%|█████████▏| 362/393 [02:23<00:08,  3.71it/s]"
          ]
        },
        {
          "output_type": "stream",
          "name": "stdout",
          "text": [
            "[535] downloaded -> images/image535.png (source: 361.jpg)\n"
          ]
        },
        {
          "output_type": "stream",
          "name": "stderr",
          "text": [
            "Downloading images:  93%|█████████▎| 364/393 [02:23<00:06,  4.44it/s]"
          ]
        },
        {
          "output_type": "stream",
          "name": "stdout",
          "text": [
            "[536] downloaded -> images/image536.png (source: 362.jpg)\n",
            "[537] downloaded -> images/image537.png (source: 363.jpg)\n"
          ]
        },
        {
          "output_type": "stream",
          "name": "stderr",
          "text": [
            "\rDownloading images:  93%|█████████▎| 365/393 [02:23<00:06,  4.23it/s]"
          ]
        },
        {
          "output_type": "stream",
          "name": "stdout",
          "text": [
            "[538] downloaded -> images/image538.png (source: 364.jpg)\n"
          ]
        },
        {
          "output_type": "stream",
          "name": "stderr",
          "text": [
            "\rDownloading images:  93%|█████████▎| 366/393 [02:24<00:06,  4.34it/s]"
          ]
        },
        {
          "output_type": "stream",
          "name": "stdout",
          "text": [
            "[539] downloaded -> images/image539.png (source: 365.jpg)\n"
          ]
        },
        {
          "output_type": "stream",
          "name": "stderr",
          "text": [
            "Downloading images:  94%|█████████▎| 368/393 [02:24<00:05,  4.51it/s]"
          ]
        },
        {
          "output_type": "stream",
          "name": "stdout",
          "text": [
            "[540] downloaded -> images/image540.png (source: 366.jpg)\n",
            "[541] downloaded -> images/image541.png (source: 367.jpg)\n"
          ]
        },
        {
          "output_type": "stream",
          "name": "stderr",
          "text": [
            "\rDownloading images:  94%|█████████▍| 369/393 [02:24<00:05,  4.55it/s]"
          ]
        },
        {
          "output_type": "stream",
          "name": "stdout",
          "text": [
            "[542] downloaded -> images/image542.png (source: 368.jpg)\n"
          ]
        },
        {
          "output_type": "stream",
          "name": "stderr",
          "text": [
            "Downloading images:  94%|█████████▍| 371/393 [02:25<00:04,  4.77it/s]"
          ]
        },
        {
          "output_type": "stream",
          "name": "stdout",
          "text": [
            "[543] downloaded -> images/image543.png (source: 369.jpg)\n",
            "[544] downloaded -> images/image544.png (source: 370.jpg)\n"
          ]
        },
        {
          "output_type": "stream",
          "name": "stderr",
          "text": [
            "\rDownloading images:  95%|█████████▍| 372/393 [02:25<00:04,  5.03it/s]"
          ]
        },
        {
          "output_type": "stream",
          "name": "stdout",
          "text": [
            "[545] downloaded -> images/image545.png (source: 371.jpg)\n"
          ]
        },
        {
          "output_type": "stream",
          "name": "stderr",
          "text": [
            "Downloading images:  95%|█████████▌| 374/393 [02:25<00:03,  5.06it/s]"
          ]
        },
        {
          "output_type": "stream",
          "name": "stdout",
          "text": [
            "[546] downloaded -> images/image546.png (source: 372.jpg)\n",
            "[547] downloaded -> images/image547.png (source: 373.jpg)\n"
          ]
        },
        {
          "output_type": "stream",
          "name": "stderr",
          "text": [
            "\rDownloading images:  95%|█████████▌| 375/393 [02:25<00:03,  5.23it/s]"
          ]
        },
        {
          "output_type": "stream",
          "name": "stdout",
          "text": [
            "[548] downloaded -> images/image548.png (source: 374.jpg)\n"
          ]
        },
        {
          "output_type": "stream",
          "name": "stderr",
          "text": [
            "Downloading images:  96%|█████████▌| 377/393 [02:26<00:03,  4.88it/s]"
          ]
        },
        {
          "output_type": "stream",
          "name": "stdout",
          "text": [
            "[549] downloaded -> images/image549.png (source: 375.jpg)\n",
            "[550] downloaded -> images/image550.png (source: 376.jpg)\n"
          ]
        },
        {
          "output_type": "stream",
          "name": "stderr",
          "text": [
            "Downloading images:  96%|█████████▋| 379/393 [02:26<00:02,  4.94it/s]"
          ]
        },
        {
          "output_type": "stream",
          "name": "stdout",
          "text": [
            "[551] downloaded -> images/image551.png (source: 377.jpg)\n",
            "[552] downloaded -> images/image552.png (source: 378.jpg)\n"
          ]
        },
        {
          "output_type": "stream",
          "name": "stderr",
          "text": [
            "\rDownloading images:  97%|█████████▋| 380/393 [02:26<00:02,  5.01it/s]"
          ]
        },
        {
          "output_type": "stream",
          "name": "stdout",
          "text": [
            "[553] downloaded -> images/image553.png (source: 379.jpg)\n"
          ]
        },
        {
          "output_type": "stream",
          "name": "stderr",
          "text": [
            "\rDownloading images:  97%|█████████▋| 381/393 [02:27<00:02,  4.55it/s]"
          ]
        },
        {
          "output_type": "stream",
          "name": "stdout",
          "text": [
            "[554] downloaded -> images/image554.png (source: 380.jpg)\n"
          ]
        },
        {
          "output_type": "stream",
          "name": "stderr",
          "text": [
            "\rDownloading images:  97%|█████████▋| 382/393 [02:27<00:02,  4.38it/s]"
          ]
        },
        {
          "output_type": "stream",
          "name": "stdout",
          "text": [
            "[555] downloaded -> images/image555.png (source: 381.jpg)\n"
          ]
        },
        {
          "output_type": "stream",
          "name": "stderr",
          "text": [
            "\rDownloading images:  97%|█████████▋| 383/393 [02:27<00:02,  4.38it/s]"
          ]
        },
        {
          "output_type": "stream",
          "name": "stdout",
          "text": [
            "[556] downloaded -> images/image556.png (source: 382.jpg)\n"
          ]
        },
        {
          "output_type": "stream",
          "name": "stderr",
          "text": [
            "\rDownloading images:  98%|█████████▊| 384/393 [02:27<00:02,  4.46it/s]"
          ]
        },
        {
          "output_type": "stream",
          "name": "stdout",
          "text": [
            "[557] downloaded -> images/image557.png (source: 383.jpg)\n"
          ]
        },
        {
          "output_type": "stream",
          "name": "stderr",
          "text": [
            "\rDownloading images:  98%|█████████▊| 385/393 [02:28<00:01,  4.35it/s]"
          ]
        },
        {
          "output_type": "stream",
          "name": "stdout",
          "text": [
            "[558] downloaded -> images/image558.png (source: 384.jpg)\n"
          ]
        },
        {
          "output_type": "stream",
          "name": "stderr",
          "text": [
            "\rDownloading images:  98%|█████████▊| 386/393 [02:28<00:01,  4.15it/s]"
          ]
        },
        {
          "output_type": "stream",
          "name": "stdout",
          "text": [
            "[559] downloaded -> images/image559.png (source: 385.jpg)\n"
          ]
        },
        {
          "output_type": "stream",
          "name": "stderr",
          "text": [
            "\rDownloading images:  98%|█████████▊| 387/393 [02:28<00:01,  4.29it/s]"
          ]
        },
        {
          "output_type": "stream",
          "name": "stdout",
          "text": [
            "[560] downloaded -> images/image560.png (source: 386.jpg)\n"
          ]
        },
        {
          "output_type": "stream",
          "name": "stderr",
          "text": [
            "\rDownloading images:  99%|█████████▊| 388/393 [02:28<00:01,  3.81it/s]"
          ]
        },
        {
          "output_type": "stream",
          "name": "stdout",
          "text": [
            "[561] downloaded -> images/image561.png (source: 387.jpg)\n"
          ]
        },
        {
          "output_type": "stream",
          "name": "stderr",
          "text": [
            "\rDownloading images:  99%|█████████▉| 389/393 [02:29<00:01,  3.15it/s]"
          ]
        },
        {
          "output_type": "stream",
          "name": "stdout",
          "text": [
            "[562] downloaded -> images/image562.png (source: 388.jpg)\n"
          ]
        },
        {
          "output_type": "stream",
          "name": "stderr",
          "text": [
            "\rDownloading images:  99%|█████████▉| 390/393 [02:29<00:00,  3.47it/s]"
          ]
        },
        {
          "output_type": "stream",
          "name": "stdout",
          "text": [
            "[563] downloaded -> images/image563.png (source: 389.jpg)\n"
          ]
        },
        {
          "output_type": "stream",
          "name": "stderr",
          "text": [
            "\rDownloading images:  99%|█████████▉| 391/393 [02:29<00:00,  3.23it/s]"
          ]
        },
        {
          "output_type": "stream",
          "name": "stdout",
          "text": [
            "[564] downloaded -> images/image564.png (source: 390.jpg)\n"
          ]
        },
        {
          "output_type": "stream",
          "name": "stderr",
          "text": [
            "\rDownloading images: 100%|█████████▉| 392/393 [02:30<00:00,  3.18it/s]"
          ]
        },
        {
          "output_type": "stream",
          "name": "stdout",
          "text": [
            "[565] downloaded -> images/image565.png (source: 391.jpg)\n"
          ]
        },
        {
          "output_type": "stream",
          "name": "stderr",
          "text": [
            "Downloading images: 100%|██████████| 393/393 [02:30<00:00,  2.60it/s]"
          ]
        },
        {
          "output_type": "stream",
          "name": "stdout",
          "text": [
            "[566] downloaded -> images/image566.png (source: 392.jpg)\n",
            "\n",
            "Finished.\n",
            "ZIP file written to: /content/phys_unibench_images.zip\n",
            "Images downloaded: 393 / 393\n",
            "All images downloaded successfully (or there were no image fields).\n"
          ]
        },
        {
          "output_type": "stream",
          "name": "stderr",
          "text": [
            "\n"
          ]
        }
      ]
    },
    {
      "cell_type": "code",
      "source": [
        "\n",
        "import json\n",
        "from pathlib import Path\n",
        "\n",
        "# --- START CONFIG ---\n",
        "start_id = 567            # provided starting id\n",
        "input_filename = \"input.json\"   # default input file name (you can change)\n",
        "output_filename = \"output_phy.json\"\n",
        "# --- END CONFIG ---\n",
        "\n",
        "# Try to find the input file in the working directory; if not found, prompt Colab upload\n",
        "input_path = Path(input_filename)\n",
        "if not input_path.exists():\n",
        "    try:\n",
        "        from google.colab import files\n",
        "        print(f\"'{input_filename}' not found. Please upload your JSON file now (choose the original file).\")\n",
        "        uploaded = files.upload()  # user will upload a file\n",
        "        # pick the first uploaded filename\n",
        "        input_path = Path(next(iter(uploaded)))\n",
        "        print(f\"Uploaded: {input_path}\")\n",
        "    except Exception as e:\n",
        "        raise FileNotFoundError(f\"Could not locate '{input_filename}' and upload failed: {e}\")\n",
        "\n",
        "# Load JSON (supports a top-level list or a top-level dict)\n",
        "with open(input_path, \"r\", encoding=\"utf-8\") as f:\n",
        "    data = json.load(f)\n",
        "\n",
        "# Normalize to a list of objects\n",
        "if isinstance(data, list):\n",
        "    items = data\n",
        "elif isinstance(data, dict):\n",
        "    # try some common wrapper keys, else treat the dict as a single item\n",
        "    possible_lists = [\"items\", \"data\", \"questions\", \"rows\"]\n",
        "    found = False\n",
        "    for key in possible_lists:\n",
        "        if key in data and isinstance(data[key], list):\n",
        "            items = data[key]\n",
        "            found = True\n",
        "            break\n",
        "    if not found:\n",
        "        # treat as single object (wrap in list)\n",
        "        items = [data]\n",
        "else:\n",
        "    raise ValueError(\"Unsupported JSON structure: top-level must be list or dict\")\n",
        "\n",
        "# Build output: only keep objects with subject == 'phy' (case-insensitive)\n",
        "out = []\n",
        "cur_id = int(start_id)\n",
        "for obj in items:\n",
        "    subj = str(obj.get(\"subject\", \"\")).strip().lower()\n",
        "    if subj == \"phy\":\n",
        "        new_obj = {\n",
        "            \"id\": cur_id,\n",
        "            \"image\": None,\n",
        "            \"text\": obj.get(\"question\"),\n",
        "            \"type\": obj.get(\"type\"),\n",
        "            \"correct_answer\": obj.get(\"gold\")\n",
        "        }\n",
        "        out.append(new_obj)\n",
        "        cur_id += 1\n",
        "\n",
        "# Save output JSON (pretty-printed, ensure_ascii=False to preserve unicode)\n",
        "with open(output_filename, \"w\", encoding=\"utf-8\") as f:\n",
        "    json.dump(out, f, ensure_ascii=False, indent=2)\n",
        "\n",
        "print(f\"Saved {len(out)} filtered items to '{output_filename}' (ids {start_id}..{cur_id-1})\")\n",
        "\n",
        "# In Colab, trigger download of the result file\n",
        "try:\n",
        "    from google.colab import files\n",
        "    files.download(output_filename)\n",
        "except Exception:\n",
        "    pass\n"
      ],
      "metadata": {
        "id": "yunQUxV7fgcI",
        "colab": {
          "base_uri": "https://localhost:8080/",
          "height": 125
        },
        "outputId": "bf5bdd26-ac05-4fd2-8023-1df6cc491a2b"
      },
      "execution_count": null,
      "outputs": [
        {
          "output_type": "stream",
          "name": "stdout",
          "text": [
            "'input.json' not found. Please upload your JSON file now (choose the original file).\n"
          ]
        },
        {
          "output_type": "display_data",
          "data": {
            "text/plain": [
              "<IPython.core.display.HTML object>"
            ],
            "text/html": [
              "\n",
              "     <input type=\"file\" id=\"files-fb56bc9d-43a8-42a7-8b04-d41b50efa6fd\" name=\"files[]\" multiple disabled\n",
              "        style=\"border:none\" />\n",
              "     <output id=\"result-fb56bc9d-43a8-42a7-8b04-d41b50efa6fd\">\n",
              "      Upload widget is only available when the cell has been executed in the\n",
              "      current browser session. Please rerun this cell to enable.\n",
              "      </output>\n",
              "      <script>// Copyright 2017 Google LLC\n",
              "//\n",
              "// Licensed under the Apache License, Version 2.0 (the \"License\");\n",
              "// you may not use this file except in compliance with the License.\n",
              "// You may obtain a copy of the License at\n",
              "//\n",
              "//      http://www.apache.org/licenses/LICENSE-2.0\n",
              "//\n",
              "// Unless required by applicable law or agreed to in writing, software\n",
              "// distributed under the License is distributed on an \"AS IS\" BASIS,\n",
              "// WITHOUT WARRANTIES OR CONDITIONS OF ANY KIND, either express or implied.\n",
              "// See the License for the specific language governing permissions and\n",
              "// limitations under the License.\n",
              "\n",
              "/**\n",
              " * @fileoverview Helpers for google.colab Python module.\n",
              " */\n",
              "(function(scope) {\n",
              "function span(text, styleAttributes = {}) {\n",
              "  const element = document.createElement('span');\n",
              "  element.textContent = text;\n",
              "  for (const key of Object.keys(styleAttributes)) {\n",
              "    element.style[key] = styleAttributes[key];\n",
              "  }\n",
              "  return element;\n",
              "}\n",
              "\n",
              "// Max number of bytes which will be uploaded at a time.\n",
              "const MAX_PAYLOAD_SIZE = 100 * 1024;\n",
              "\n",
              "function _uploadFiles(inputId, outputId) {\n",
              "  const steps = uploadFilesStep(inputId, outputId);\n",
              "  const outputElement = document.getElementById(outputId);\n",
              "  // Cache steps on the outputElement to make it available for the next call\n",
              "  // to uploadFilesContinue from Python.\n",
              "  outputElement.steps = steps;\n",
              "\n",
              "  return _uploadFilesContinue(outputId);\n",
              "}\n",
              "\n",
              "// This is roughly an async generator (not supported in the browser yet),\n",
              "// where there are multiple asynchronous steps and the Python side is going\n",
              "// to poll for completion of each step.\n",
              "// This uses a Promise to block the python side on completion of each step,\n",
              "// then passes the result of the previous step as the input to the next step.\n",
              "function _uploadFilesContinue(outputId) {\n",
              "  const outputElement = document.getElementById(outputId);\n",
              "  const steps = outputElement.steps;\n",
              "\n",
              "  const next = steps.next(outputElement.lastPromiseValue);\n",
              "  return Promise.resolve(next.value.promise).then((value) => {\n",
              "    // Cache the last promise value to make it available to the next\n",
              "    // step of the generator.\n",
              "    outputElement.lastPromiseValue = value;\n",
              "    return next.value.response;\n",
              "  });\n",
              "}\n",
              "\n",
              "/**\n",
              " * Generator function which is called between each async step of the upload\n",
              " * process.\n",
              " * @param {string} inputId Element ID of the input file picker element.\n",
              " * @param {string} outputId Element ID of the output display.\n",
              " * @return {!Iterable<!Object>} Iterable of next steps.\n",
              " */\n",
              "function* uploadFilesStep(inputId, outputId) {\n",
              "  const inputElement = document.getElementById(inputId);\n",
              "  inputElement.disabled = false;\n",
              "\n",
              "  const outputElement = document.getElementById(outputId);\n",
              "  outputElement.innerHTML = '';\n",
              "\n",
              "  const pickedPromise = new Promise((resolve) => {\n",
              "    inputElement.addEventListener('change', (e) => {\n",
              "      resolve(e.target.files);\n",
              "    });\n",
              "  });\n",
              "\n",
              "  const cancel = document.createElement('button');\n",
              "  inputElement.parentElement.appendChild(cancel);\n",
              "  cancel.textContent = 'Cancel upload';\n",
              "  const cancelPromise = new Promise((resolve) => {\n",
              "    cancel.onclick = () => {\n",
              "      resolve(null);\n",
              "    };\n",
              "  });\n",
              "\n",
              "  // Wait for the user to pick the files.\n",
              "  const files = yield {\n",
              "    promise: Promise.race([pickedPromise, cancelPromise]),\n",
              "    response: {\n",
              "      action: 'starting',\n",
              "    }\n",
              "  };\n",
              "\n",
              "  cancel.remove();\n",
              "\n",
              "  // Disable the input element since further picks are not allowed.\n",
              "  inputElement.disabled = true;\n",
              "\n",
              "  if (!files) {\n",
              "    return {\n",
              "      response: {\n",
              "        action: 'complete',\n",
              "      }\n",
              "    };\n",
              "  }\n",
              "\n",
              "  for (const file of files) {\n",
              "    const li = document.createElement('li');\n",
              "    li.append(span(file.name, {fontWeight: 'bold'}));\n",
              "    li.append(span(\n",
              "        `(${file.type || 'n/a'}) - ${file.size} bytes, ` +\n",
              "        `last modified: ${\n",
              "            file.lastModifiedDate ? file.lastModifiedDate.toLocaleDateString() :\n",
              "                                    'n/a'} - `));\n",
              "    const percent = span('0% done');\n",
              "    li.appendChild(percent);\n",
              "\n",
              "    outputElement.appendChild(li);\n",
              "\n",
              "    const fileDataPromise = new Promise((resolve) => {\n",
              "      const reader = new FileReader();\n",
              "      reader.onload = (e) => {\n",
              "        resolve(e.target.result);\n",
              "      };\n",
              "      reader.readAsArrayBuffer(file);\n",
              "    });\n",
              "    // Wait for the data to be ready.\n",
              "    let fileData = yield {\n",
              "      promise: fileDataPromise,\n",
              "      response: {\n",
              "        action: 'continue',\n",
              "      }\n",
              "    };\n",
              "\n",
              "    // Use a chunked sending to avoid message size limits. See b/62115660.\n",
              "    let position = 0;\n",
              "    do {\n",
              "      const length = Math.min(fileData.byteLength - position, MAX_PAYLOAD_SIZE);\n",
              "      const chunk = new Uint8Array(fileData, position, length);\n",
              "      position += length;\n",
              "\n",
              "      const base64 = btoa(String.fromCharCode.apply(null, chunk));\n",
              "      yield {\n",
              "        response: {\n",
              "          action: 'append',\n",
              "          file: file.name,\n",
              "          data: base64,\n",
              "        },\n",
              "      };\n",
              "\n",
              "      let percentDone = fileData.byteLength === 0 ?\n",
              "          100 :\n",
              "          Math.round((position / fileData.byteLength) * 100);\n",
              "      percent.textContent = `${percentDone}% done`;\n",
              "\n",
              "    } while (position < fileData.byteLength);\n",
              "  }\n",
              "\n",
              "  // All done.\n",
              "  yield {\n",
              "    response: {\n",
              "      action: 'complete',\n",
              "    }\n",
              "  };\n",
              "}\n",
              "\n",
              "scope.google = scope.google || {};\n",
              "scope.google.colab = scope.google.colab || {};\n",
              "scope.google.colab._files = {\n",
              "  _uploadFiles,\n",
              "  _uploadFilesContinue,\n",
              "};\n",
              "})(self);\n",
              "</script> "
            ]
          },
          "metadata": {}
        },
        {
          "output_type": "stream",
          "name": "stdout",
          "text": [
            "Saving dataset.json to dataset (2).json\n",
            "Uploaded: dataset (2).json\n",
            "Saved 123 filtered items to 'output_phy.json' (ids 567..689)\n"
          ]
        },
        {
          "output_type": "display_data",
          "data": {
            "text/plain": [
              "<IPython.core.display.Javascript object>"
            ],
            "application/javascript": [
              "\n",
              "    async function download(id, filename, size) {\n",
              "      if (!google.colab.kernel.accessAllowed) {\n",
              "        return;\n",
              "      }\n",
              "      const div = document.createElement('div');\n",
              "      const label = document.createElement('label');\n",
              "      label.textContent = `Downloading \"${filename}\": `;\n",
              "      div.appendChild(label);\n",
              "      const progress = document.createElement('progress');\n",
              "      progress.max = size;\n",
              "      div.appendChild(progress);\n",
              "      document.body.appendChild(div);\n",
              "\n",
              "      const buffers = [];\n",
              "      let downloaded = 0;\n",
              "\n",
              "      const channel = await google.colab.kernel.comms.open(id);\n",
              "      // Send a message to notify the kernel that we're ready.\n",
              "      channel.send({})\n",
              "\n",
              "      for await (const message of channel.messages) {\n",
              "        // Send a message to notify the kernel that we're ready.\n",
              "        channel.send({})\n",
              "        if (message.buffers) {\n",
              "          for (const buffer of message.buffers) {\n",
              "            buffers.push(buffer);\n",
              "            downloaded += buffer.byteLength;\n",
              "            progress.value = downloaded;\n",
              "          }\n",
              "        }\n",
              "      }\n",
              "      const blob = new Blob(buffers, {type: 'application/binary'});\n",
              "      const a = document.createElement('a');\n",
              "      a.href = window.URL.createObjectURL(blob);\n",
              "      a.download = filename;\n",
              "      div.appendChild(a);\n",
              "      a.click();\n",
              "      div.remove();\n",
              "    }\n",
              "  "
            ]
          },
          "metadata": {}
        },
        {
          "output_type": "display_data",
          "data": {
            "text/plain": [
              "<IPython.core.display.Javascript object>"
            ],
            "application/javascript": [
              "download(\"download_ec411d5c-6b61-493a-a04b-ffb3a8be89be\", \"output_phy.json\", 93974)"
            ]
          },
          "metadata": {}
        }
      ]
    },
    {
      "cell_type": "code",
      "source": [
        "\n",
        "import json\n",
        "import os\n",
        "import sys\n",
        "import subprocess\n",
        "import traceback\n",
        "\n",
        "def ensure_package(pkg):\n",
        "    try:\n",
        "        __import__(pkg)\n",
        "    except Exception:\n",
        "        print(f\"Package '{pkg}' not found. Installing...\")\n",
        "        subprocess.check_call([sys.executable, \"-m\", \"pip\", \"install\", pkg])\n",
        "        print(f\"Installed '{pkg}'.\")\n",
        "\n",
        "def try_load_dataset():\n",
        "    from datasets import load_dataset\n",
        "    attempts = []\n",
        "    # Try multiple common approaches to load the split\n",
        "    try:\n",
        "        print(\"Attempt: load_dataset('Cloudriver/PhyX', split='test_mini')\")\n",
        "        ds = load_dataset(\"Cloudriver/PhyX\", split=\"test_mini\")\n",
        "        return ds\n",
        "    except Exception as e:\n",
        "        attempts.append((\"split=test_mini\", e))\n",
        "    try:\n",
        "        print(\"Attempt: load_dataset('Cloudriver/PhyX', 'default', split='test_mini')\")\n",
        "        ds = load_dataset(\"Cloudriver/PhyX\", \"default\", split=\"test_mini\")\n",
        "        return ds\n",
        "    except Exception as e:\n",
        "        attempts.append((\"config default + split\", e))\n",
        "    try:\n",
        "        print(\"Attempt: load_dataset('Cloudriver/PhyX') and select ['test_mini']\")\n",
        "        ds_all = load_dataset(\"Cloudriver/PhyX\")\n",
        "        if \"test_mini\" in ds_all:\n",
        "            return ds_all[\"test_mini\"]\n",
        "        else:\n",
        "            raise RuntimeError(f\"'test_mini' not found in dataset splits: {list(ds_all.keys())}\")\n",
        "    except Exception as e:\n",
        "        attempts.append((\"load full dataset\", e))\n",
        "\n",
        "    # If all attempts failed, raise a combined error with traces\n",
        "    msg_lines = [\"Failed to load dataset. Attempts:\"]\n",
        "    for name, err in attempts:\n",
        "        msg_lines.append(f\"--- {name} error: {repr(err)}\")\n",
        "    raise RuntimeError(\"\\n\".join(msg_lines))\n",
        "\n",
        "def build_json_records(dataset, start_id=690):\n",
        "    out = []\n",
        "    cur = start_id\n",
        "    # convert to list (some datasets are iterable and len() won't work)\n",
        "    try:\n",
        "        data_list = list(dataset)\n",
        "    except Exception:\n",
        "        # fallback: iterate\n",
        "        data_list = []\n",
        "        for i, row in enumerate(dataset):\n",
        "            data_list.append(row)\n",
        "    for item in data_list:\n",
        "        # item may be a dict-like; use .get if available\n",
        "        if hasattr(item, \"get\"):\n",
        "            q = item.get(\"question\") or \"\"\n",
        "            qd = item.get(\"question_description\") or \"\"\n",
        "            options = item.get(\"options\") or []\n",
        "            answer = item.get(\"answer\", None)\n",
        "        else:\n",
        "            # attempt attribute access\n",
        "            q = getattr(item, \"question\", \"\") or \"\"\n",
        "            qd = getattr(item, \"question_description\", \"\") or \"\"\n",
        "            options = getattr(item, \"options\", []) or []\n",
        "            answer = getattr(item, \"answer\", None)\n",
        "\n",
        "        if q and qd:\n",
        "            text = q.strip() + \"\\n\\n\" + qd.strip()\n",
        "        else:\n",
        "            text = (q + qd).strip()\n",
        "\n",
        "        # normalize answer if it's list/tuple\n",
        "        if isinstance(answer, (list, tuple)):\n",
        "            answer_val = answer[0] if answer else None\n",
        "        else:\n",
        "            answer_val = answer\n",
        "\n",
        "        record = {\n",
        "            \"id\": cur,\n",
        "            \"image\": f\"images/image{cur}.png\",\n",
        "            \"text\": text,\n",
        "            \"options\": options,\n",
        "            \"type\": \"MCQs with One Correct Answer\",\n",
        "            \"correct_answer\": answer_val,\n",
        "        }\n",
        "        out.append(record)\n",
        "        cur += 1\n",
        "    return out\n",
        "\n",
        "def main(output_path=\"phyx_test_mini_custom.json\", start_id=690):\n",
        "    try:\n",
        "        ensure_package(\"datasets\")\n",
        "        ensure_package(\"huggingface-hub\")\n",
        "        # import after ensure\n",
        "        from datasets import __version__ as dver\n",
        "        print(f\"datasets version: {dver}\")\n",
        "    except Exception as e:\n",
        "        print(\"Failed to ensure datasets/huggingface-hub packages:\", e)\n",
        "        traceback.print_exc()\n",
        "        return\n",
        "\n",
        "    try:\n",
        "        print(\"Loading dataset Cloudriver/PhyX (test_mini)...\")\n",
        "        ds = try_load_dataset()\n",
        "    except Exception as e:\n",
        "        print(\"ERROR while loading dataset:\")\n",
        "        traceback.print_exc()\n",
        "        # write an empty file and return to indicate failure but produce output\n",
        "        abs_path = os.path.abspath(output_path)\n",
        "        print(f\"Writing empty JSON [] to {abs_path} to avoid silent failure.\")\n",
        "        with open(output_path, \"w\", encoding=\"utf-8\") as f:\n",
        "            json.dump([], f, ensure_ascii=False, indent=2)\n",
        "        return\n",
        "\n",
        "    # convert to list and print some metadata\n",
        "    try:\n",
        "        ds_list = list(ds)\n",
        "        n = len(ds_list)\n",
        "        print(f\"Successfully loaded dataset split. Number of examples: {n}\")\n",
        "    except Exception as e:\n",
        "        print(\"Could not convert dataset to list; attempting to iterate.\")\n",
        "        traceback.print_exc()\n",
        "        ds_list = []\n",
        "        for i, r in enumerate(ds):\n",
        "            ds_list.append(r)\n",
        "        n = len(ds_list)\n",
        "        print(f\"Number of examples after iteration: {n}\")\n",
        "\n",
        "    print(\"Building JSON records...\")\n",
        "    records = build_json_records(ds_list, start_id=start_id)\n",
        "\n",
        "    # write file\n",
        "    abs_path = os.path.abspath(output_path)\n",
        "    with open(output_path, \"w\", encoding=\"utf-8\") as f:\n",
        "        json.dump(records, f, ensure_ascii=False, indent=2)\n",
        "\n",
        "    print(f\"Wrote {len(records)} records to {abs_path}\")\n",
        "    if records:\n",
        "        print(\"Preview of first record:\")\n",
        "        print(json.dumps(records[0], ensure_ascii=False, indent=2))\n",
        "    else:\n",
        "        print(\"No records produced. Check dataset loading above.\")\n",
        "\n",
        "if __name__ == \"__main__\":\n",
        "    main()\n"
      ],
      "metadata": {
        "id": "zt3FBvRjt6zB",
        "colab": {
          "base_uri": "https://localhost:8080/"
        },
        "outputId": "1e65e26a-c09d-465e-a97b-988d7cae524d"
      },
      "execution_count": null,
      "outputs": [
        {
          "output_type": "stream",
          "name": "stdout",
          "text": [
            "Package 'huggingface-hub' not found. Installing...\n",
            "Installed 'huggingface-hub'.\n",
            "datasets version: 4.0.0\n",
            "Loading dataset Cloudriver/PhyX (test_mini)...\n",
            "Attempt: load_dataset('Cloudriver/PhyX', split='test_mini')\n",
            "Successfully loaded dataset split. Number of examples: 1000\n",
            "Building JSON records...\n",
            "Wrote 1000 records to /content/phyx_test_mini_custom.json\n",
            "Preview of first record:\n",
            "{\n",
            "  \"id\": 690,\n",
            "  \"image\": \"images/image690.png\",\n",
            "  \"text\": \"Determine the angles\\\\( \\\\theta' \\\\).\\n\\nFigure shows a refracted light beam in linseed oil making an angle of \\\\( \\\\phi = 20.0^{\\\\circ} \\\\) with the normal line \\\\( NN' \\\\). The index of refraction of linseed oil is 1.48.\",\n",
            "  \"options\": [\n",
            "    \"A: \\\\( 28.5^{\\\\circ} \\\\)\",\n",
            "    \"B: \\\\(  30.4^{\\\\circ} \\\\)\",\n",
            "    \"C: \\\\( 22.3^{\\\\circ} \\\\)\",\n",
            "    \"D: \\\\( 31.1^{\\\\circ} \\\\)\"\n",
            "  ],\n",
            "  \"type\": \"MCQs with One Correct Answer\",\n",
            "  \"correct_answer\": \"C\"\n",
            "}\n"
          ]
        }
      ]
    },
    {
      "cell_type": "code",
      "source": [
        "\n",
        "\n",
        "import io\n",
        "import json\n",
        "import os\n",
        "import sys\n",
        "import subprocess\n",
        "import zipfile\n",
        "import traceback\n",
        "\n",
        "# ---------- helper to ensure packages ----------\n",
        "def ensure_package(pkg_name, import_name=None):\n",
        "    import_name = import_name or pkg_name\n",
        "    try:\n",
        "        __import__(import_name)\n",
        "    except Exception:\n",
        "        print(f\"Package '{pkg_name}' not found — installing...\")\n",
        "        subprocess.check_call([sys.executable, \"-m\", \"pip\", \"install\", pkg_name])\n",
        "        print(f\"Installed '{pkg_name}'.\")\n",
        "\n",
        "# ensure required packages\n",
        "for pkg in (\"datasets\", \"Pillow\", \"requests\", \"tqdm\"):\n",
        "    ensure_package(pkg)\n",
        "\n",
        "from datasets import load_dataset\n",
        "from PIL import Image\n",
        "import requests\n",
        "from tqdm import tqdm\n",
        "\n",
        "# ---------- configuration ----------\n",
        "START_ID = 690\n",
        "OUTPUT_ZIP = \"phyx_images_and_data.zip\"\n",
        "OUTPUT_JSON_NAME = \"phyx_test_mini_custom.json\"\n",
        "IMAGES_DIR_IN_ZIP = \"images\"  # images stored under images/image{ID}.png\n",
        "PLACEHOLDER_SIZE = (1, 1)  # 1x1 PNG placeholder for missing images\n",
        "REQUESTS_TIMEOUT = 15  # seconds\n",
        "\n",
        "# ---------- utility functions ----------\n",
        "def load_phyx_test_mini():\n",
        "    \"\"\"Try multiple ways to load the test_mini split.\"\"\"\n",
        "    attempts = []\n",
        "    try:\n",
        "        print(\"Attempting: load_dataset('Cloudriver/PhyX', split='test_mini') ...\")\n",
        "        ds = load_dataset(\"Cloudriver/PhyX\", split=\"test_mini\")\n",
        "        return ds\n",
        "    except Exception as e:\n",
        "        attempts.append((\"split=test_mini\", e))\n",
        "    try:\n",
        "        print(\"Attempting: load_dataset('Cloudriver/PhyX', 'default', split='test_mini') ...\")\n",
        "        ds = load_dataset(\"Cloudriver/PhyX\", \"default\", split=\"test_mini\")\n",
        "        return ds\n",
        "    except Exception as e:\n",
        "        attempts.append((\"config default + split\", e))\n",
        "    try:\n",
        "        print(\"Attempting: load_dataset('Cloudriver/PhyX') then select ['test_mini'] ...\")\n",
        "        ds_all = load_dataset(\"Cloudriver/PhyX\")\n",
        "        if \"test_mini\" in ds_all:\n",
        "            return ds_all[\"test_mini\"]\n",
        "        else:\n",
        "            raise RuntimeError(f\"'test_mini' not found in splits: {list(ds_all.keys())}\")\n",
        "    except Exception as e:\n",
        "        attempts.append((\"load full dataset\", e))\n",
        "    # raise combined error\n",
        "    msg = \"Failed to load dataset. Attempts:\\n\"\n",
        "    for name, err in attempts:\n",
        "        msg += f\" - {name}: {repr(err)}\\n\"\n",
        "    raise RuntimeError(msg)\n",
        "\n",
        "def build_text(item):\n",
        "    q = item.get(\"question\") or \"\"\n",
        "    qd = item.get(\"question_description\") or \"\"\n",
        "    if q and qd:\n",
        "        return q.strip() + \"\\n\\n\" + qd.strip()\n",
        "    return (q + qd).strip()\n",
        "\n",
        "def normalize_answer(ans):\n",
        "    if isinstance(ans, (list, tuple)):\n",
        "        return ans[0] if ans else None\n",
        "    return ans\n",
        "\n",
        "def find_image_source(item):\n",
        "    \"\"\"\n",
        "    Try to find an image source inside the dataset example.\n",
        "    Returns a tuple (type, value) where type in {'url','local_path','pil','bytes','none'}.\n",
        "    \"\"\"\n",
        "    # direct 'image' field\n",
        "    image_field = item.get(\"image\")\n",
        "    if image_field is not None:\n",
        "        # If it's a PIL.Image\n",
        "        if isinstance(image_field, Image.Image):\n",
        "            return (\"pil\", image_field)\n",
        "        # If it's bytes\n",
        "        if isinstance(image_field, (bytes, bytearray)):\n",
        "            return (\"bytes\", bytes(image_field))\n",
        "        # If it's a string (likely a URL or local path)\n",
        "        if isinstance(image_field, str):\n",
        "            if image_field.startswith(\"http://\") or image_field.startswith(\"https://\"):\n",
        "                return (\"url\", image_field)\n",
        "            else:\n",
        "                return (\"local_path\", image_field)\n",
        "        # If it's a dict-like\n",
        "        if isinstance(image_field, dict):\n",
        "            # common keys: 'path', 'file', 'url', 'image', 'image_url'\n",
        "            for k in (\"url\", \"image_url\", \"src\", \"path\", \"file\", \"filename\"):\n",
        "                if k in image_field and image_field[k]:\n",
        "                    val = image_field[k]\n",
        "                    if isinstance(val, str):\n",
        "                        if val.startswith(\"http://\") or val.startswith(\"https://\"):\n",
        "                            return (\"url\", val)\n",
        "                        else:\n",
        "                            return (\"local_path\", val)\n",
        "            # maybe nested bytes or PIL\n",
        "            if \"bytes\" in image_field and image_field[\"bytes\"]:\n",
        "                return (\"bytes\", image_field[\"bytes\"])\n",
        "            # unknown dict case: try to stringify\n",
        "            return (\"unknown_dict\", image_field)\n",
        "\n",
        "    # try other common keys\n",
        "    for k in (\"image_url\", \"img_url\", \"img\", \"image_path\", \"image_filename\", \"url\"):\n",
        "        if k in item and item[k]:\n",
        "            val = item[k]\n",
        "            if isinstance(val, str):\n",
        "                if val.startswith(\"http://\") or val.startswith(\"https://\"):\n",
        "                    return (\"url\", val)\n",
        "                else:\n",
        "                    return (\"local_path\", val)\n",
        "            if isinstance(val, Image.Image):\n",
        "                return (\"pil\", val)\n",
        "            if isinstance(val, (bytes, bytearray)):\n",
        "                return (\"bytes\", bytes(val))\n",
        "\n",
        "    # search for any field name containing 'image' or 'img'\n",
        "    for key, val in item.items():\n",
        "        if key and (\"image\" in key.lower() or \"img\" in key.lower()):\n",
        "            if isinstance(val, str):\n",
        "                if val.startswith(\"http://\") or val.startswith(\"https://\"):\n",
        "                    return (\"url\", val)\n",
        "                else:\n",
        "                    return (\"local_path\", val)\n",
        "            if isinstance(val, Image.Image):\n",
        "                return (\"pil\", val)\n",
        "            if isinstance(val, (bytes, bytearray)):\n",
        "                return (\"bytes\", bytes(val))\n",
        "            if isinstance(val, dict):\n",
        "                # try same logic\n",
        "                for k2 in (\"url\", \"path\", \"image_url\"):\n",
        "                    if k2 in val and isinstance(val[k2], str):\n",
        "                        if val[k2].startswith(\"http\"):\n",
        "                            return (\"url\", val[k2])\n",
        "                        else:\n",
        "                            return (\"local_path\", val[k2])\n",
        "                if \"bytes\" in val:\n",
        "                    return (\"bytes\", val[\"bytes\"])\n",
        "    # no image found\n",
        "    return (\"none\", None)\n",
        "\n",
        "def get_image_bytes_from_source(src_type, src_value):\n",
        "    \"\"\"\n",
        "    Return raw PNG bytes (or bytes convertible to PNG) for writing into zip.\n",
        "    Ensures image bytes are PNG-formatted.\n",
        "    \"\"\"\n",
        "    # If PIL Image -> save to PNG bytes\n",
        "    if src_type == \"pil\":\n",
        "        bio = io.BytesIO()\n",
        "        src_value.save(bio, format=\"PNG\")\n",
        "        return bio.getvalue()\n",
        "    if src_type == \"bytes\":\n",
        "        # Try to load via PIL to ensure PNG format (and convert if necessary)\n",
        "        try:\n",
        "            bio_in = io.BytesIO(src_value)\n",
        "            img = Image.open(bio_in)\n",
        "            out = io.BytesIO()\n",
        "            img.save(out, format=\"PNG\")\n",
        "            return out.getvalue()\n",
        "        except Exception:\n",
        "            # bytes not image -> return as-is\n",
        "            return bytes(src_value)\n",
        "    if src_type == \"local_path\":\n",
        "        # read file from disk\n",
        "        path = src_value\n",
        "        if not os.path.isabs(path):\n",
        "            # sometimes dataset returns relative cache path — try as-is\n",
        "            path = os.path.expanduser(path)\n",
        "        try:\n",
        "            with open(path, \"rb\") as f:\n",
        "                content = f.read()\n",
        "            # normalize via PIL\n",
        "            try:\n",
        "                img = Image.open(io.BytesIO(content))\n",
        "                out = io.BytesIO()\n",
        "                img.save(out, format=\"PNG\")\n",
        "                return out.getvalue()\n",
        "            except Exception:\n",
        "                return content\n",
        "        except Exception as e:\n",
        "            raise RuntimeError(f\"Could not read local image path '{src_value}': {e}\")\n",
        "    if src_type == \"url\":\n",
        "        url = src_value\n",
        "        try:\n",
        "            resp = requests.get(url, stream=True, timeout=REQUESTS_TIMEOUT)\n",
        "            resp.raise_for_status()\n",
        "            content = resp.content\n",
        "            # normalize via PIL\n",
        "            try:\n",
        "                img = Image.open(io.BytesIO(content))\n",
        "                out = io.BytesIO()\n",
        "                img.save(out, format=\"PNG\")\n",
        "                return out.getvalue()\n",
        "            except Exception:\n",
        "                # if not a recognizable image, return raw bytes\n",
        "                return content\n",
        "        except Exception as e:\n",
        "            raise RuntimeError(f\"Failed to download image from {url}: {e}\")\n",
        "    if src_type == \"unknown_dict\":\n",
        "        # try to serialize or find nested url/path\n",
        "        if isinstance(src_value, dict):\n",
        "            for k in (\"url\", \"image_url\", \"path\"):\n",
        "                v = src_value.get(k)\n",
        "                if isinstance(v, str):\n",
        "                    if v.startswith(\"http\"):\n",
        "                        return get_image_bytes_from_source(\"url\", v)\n",
        "                    else:\n",
        "                        return get_image_bytes_from_source(\"local_path\", v)\n",
        "        raise RuntimeError(\"Unknown dict image format and no url/path found.\")\n",
        "    if src_type == \"none\":\n",
        "        raise RuntimeError(\"No image source available.\")\n",
        "    # fallback\n",
        "    raise RuntimeError(f\"Unhandled src_type: {src_type}\")\n",
        "\n",
        "def make_placeholder_png_bytes(size=(1,1)):\n",
        "    img = Image.new(\"RGBA\", size, (0,0,0,0))\n",
        "    bio = io.BytesIO()\n",
        "    img.save(bio, format=\"PNG\")\n",
        "    return bio.getvalue()\n",
        "\n",
        "# ---------- main logic ----------\n",
        "def main():\n",
        "    try:\n",
        "        ds = load_phyx_test_mini()\n",
        "    except Exception as e:\n",
        "        print(\"ERROR: could not load dataset:\", e)\n",
        "        traceback.print_exc()\n",
        "        sys.exit(1)\n",
        "\n",
        "    # convert to list (so we can iterate twice)\n",
        "    try:\n",
        "        examples = list(ds)\n",
        "    except Exception:\n",
        "        examples = [x for x in ds]\n",
        "\n",
        "    n = len(examples)\n",
        "    print(f\"Loaded dataset split with {n} examples.\")\n",
        "\n",
        "    records = []\n",
        "    current_id = START_ID\n",
        "\n",
        "    # create an in-memory zip (but we will write to disk at the end)\n",
        "    with zipfile.ZipFile(OUTPUT_ZIP, mode=\"w\", compression=zipfile.ZIP_DEFLATED) as zf:\n",
        "        # iterate with progress\n",
        "        for idx, item in enumerate(tqdm(examples, desc=\"Processing examples\", unit=\"ex\")):\n",
        "            try:\n",
        "                # Build json record\n",
        "                text = build_text(item)\n",
        "                options = item.get(\"options\") or []\n",
        "                answer_val = normalize_answer(item.get(\"answer\"))\n",
        "\n",
        "                record = {\n",
        "                    \"id\": current_id,\n",
        "                    \"image\": f\"{IMAGES_DIR_IN_ZIP}/image{current_id}.png\",\n",
        "                    \"text\": text,\n",
        "                    \"options\": options,\n",
        "                    \"type\": \"MCQs with One Correct Answer\",\n",
        "                    \"correct_answer\": answer_val\n",
        "                }\n",
        "                records.append(record)\n",
        "\n",
        "                # Determine image source\n",
        "                src_type, src_value = find_image_source(item)\n",
        "\n",
        "                try:\n",
        "                    img_bytes = get_image_bytes_from_source(src_type, src_value)\n",
        "                except Exception as e_img:\n",
        "                    # log and fallback to placeholder\n",
        "                    print(f\"Warning: could not get image for example index {idx} (id={current_id}): {e_img}\")\n",
        "                    img_bytes = make_placeholder_png_bytes(PLACEHOLDER_SIZE)\n",
        "\n",
        "                # Write image bytes into zip at desired path\n",
        "                img_path_in_zip = f\"{IMAGES_DIR_IN_ZIP}/image{current_id}.png\"\n",
        "                zf.writestr(img_path_in_zip, img_bytes)\n",
        "\n",
        "            except Exception as e:\n",
        "                print(f\"ERROR processing example index {idx}: {e}\")\n",
        "                traceback.print_exc()\n",
        "                # still add a placeholder record so indexing remains consistent\n",
        "                record = {\n",
        "                    \"id\": current_id,\n",
        "                    \"image\": f\"{IMAGES_DIR_IN_ZIP}/image{current_id}.png\",\n",
        "                    \"text\": \"\",\n",
        "                    \"options\": [],\n",
        "                    \"type\": \"MCQs with One Correct Answer\",\n",
        "                    \"correct_answer\": None\n",
        "                }\n",
        "                records.append(record)\n",
        "                zf.writestr(f\"{IMAGES_DIR_IN_ZIP}/image{current_id}.png\", make_placeholder_png_bytes(PLACEHOLDER_SIZE))\n",
        "\n",
        "            current_id += 1\n",
        "\n",
        "        # After images are written, write the JSON file into the zip\n",
        "        json_bytes = json.dumps(records, ensure_ascii=False, indent=2).encode(\"utf-8\")\n",
        "        zf.writestr(OUTPUT_JSON_NAME, json_bytes)\n",
        "\n",
        "    # done\n",
        "    abs_zip = os.path.abspath(OUTPUT_ZIP)\n",
        "    print(f\"Finished. Created ZIP: {abs_zip}\")\n",
        "    print(f\" - {len(records)} records written (IDs {START_ID}..{current_id-1})\")\n",
        "    print(f\" - JSON file inside ZIP: {OUTPUT_JSON_NAME}\")\n",
        "    print(f\" - Images inside ZIP at: {IMAGES_DIR_IN_ZIP}/image{{ID}}.png\")\n",
        "\n",
        "if __name__ == \"__main__\":\n",
        "    main()\n"
      ],
      "metadata": {
        "colab": {
          "base_uri": "https://localhost:8080/"
        },
        "id": "g1TEr6S7PuF1",
        "outputId": "4625ced9-35dc-4e9a-f476-7269fade850c"
      },
      "execution_count": null,
      "outputs": [
        {
          "output_type": "stream",
          "name": "stdout",
          "text": [
            "Package 'Pillow' not found — installing...\n",
            "Installed 'Pillow'.\n",
            "Attempting: load_dataset('Cloudriver/PhyX', split='test_mini') ...\n",
            "Loaded dataset split with 1000 examples.\n"
          ]
        },
        {
          "output_type": "stream",
          "name": "stderr",
          "text": [
            "Processing examples: 100%|██████████| 1000/1000 [00:28<00:00, 35.28ex/s]"
          ]
        },
        {
          "output_type": "stream",
          "name": "stdout",
          "text": [
            "Finished. Created ZIP: /content/phyx_images_and_data.zip\n",
            " - 1000 records written (IDs 690..1689)\n",
            " - JSON file inside ZIP: phyx_test_mini_custom.json\n",
            " - Images inside ZIP at: images/image{ID}.png\n"
          ]
        },
        {
          "output_type": "stream",
          "name": "stderr",
          "text": [
            "\n"
          ]
        }
      ]
    },
    {
      "cell_type": "code",
      "source": [
        "\n",
        "import json\n",
        "import os\n",
        "import sys\n",
        "import subprocess\n",
        "import traceback\n",
        "\n",
        "def ensure_package(pkg):\n",
        "    try:\n",
        "        __import__(pkg)\n",
        "    except Exception:\n",
        "        print(f\"Package '{pkg}' not found. Installing...\")\n",
        "        subprocess.check_call([sys.executable, \"-m\", \"pip\", \"install\", pkg])\n",
        "        print(f\"Installed '{pkg}'.\")\n",
        "\n",
        "def try_load_dataset():\n",
        "    from datasets import load_dataset\n",
        "    attempts = []\n",
        "    # Try multiple common approaches to load the split\n",
        "    try:\n",
        "        print(\"Attempt: load_dataset('Cloudriver/PhyX', split='test')\")\n",
        "        ds = load_dataset(\"Cloudriver/PhyX\", split=\"test\")\n",
        "        return ds\n",
        "    except Exception as e:\n",
        "        attempts.append((\"split=test\", e))\n",
        "    try:\n",
        "        print(\"Attempt: load_dataset('Cloudriver/PhyX', 'default', split='test')\")\n",
        "        ds = load_dataset(\"Cloudriver/PhyX\", \"default\", split=\"test\")\n",
        "        return ds\n",
        "    except Exception as e:\n",
        "        attempts.append((\"config default + split\", e))\n",
        "    try:\n",
        "        print(\"Attempt: load_dataset('Cloudriver/PhyX') and select ['test']\")\n",
        "        ds_all = load_dataset(\"Cloudriver/PhyX\")\n",
        "        if \"test\" in ds_all:\n",
        "            return ds_all[\"test\"]\n",
        "        else:\n",
        "            raise RuntimeError(f\"'test' not found in dataset splits: {list(ds_all.keys())}\")\n",
        "    except Exception as e:\n",
        "        attempts.append((\"load full dataset\", e))\n",
        "\n",
        "    # If all attempts failed, raise a combined error with traces\n",
        "    msg_lines = [\"Failed to load dataset. Attempts:\"]\n",
        "    for name, err in attempts:\n",
        "        msg_lines.append(f\"--- {name} error: {repr(err)}\")\n",
        "    raise RuntimeError(\"\\n\".join(msg_lines))\n",
        "\n",
        "def build_json_records(dataset, start_id=1690):\n",
        "    out = []\n",
        "    cur = start_id\n",
        "    # convert to list (some datasets are iterable and len() won't work)\n",
        "    try:\n",
        "        data_list = list(dataset)\n",
        "    except Exception:\n",
        "        # fallback: iterate\n",
        "        data_list = []\n",
        "        for i, row in enumerate(dataset):\n",
        "            data_list.append(row)\n",
        "    for item in data_list:\n",
        "        # item may be a dict-like; use .get if available\n",
        "        if hasattr(item, \"get\"):\n",
        "            q = item.get(\"question\") or \"\"\n",
        "            qd = item.get(\"question_description\") or \"\"\n",
        "            options = item.get(\"options\") or []\n",
        "            answer = item.get(\"answer\", None)\n",
        "        else:\n",
        "            # attempt attribute access\n",
        "            q = getattr(item, \"question\", \"\") or \"\"\n",
        "            qd = getattr(item, \"question_description\", \"\") or \"\"\n",
        "            options = getattr(item, \"options\", []) or []\n",
        "            answer = getattr(item, \"answer\", None)\n",
        "\n",
        "        if q and qd:\n",
        "            text = q.strip() + \"\\n\\n\" + qd.strip()\n",
        "        else:\n",
        "            text = (q + qd).strip()\n",
        "\n",
        "        # normalize answer if it's list/tuple\n",
        "        if isinstance(answer, (list, tuple)):\n",
        "            answer_val = answer[0] if answer else None\n",
        "        else:\n",
        "            answer_val = answer\n",
        "\n",
        "        record = {\n",
        "            \"id\": cur,\n",
        "            \"image\": f\"images/image{cur}.png\",\n",
        "            \"text\": text,\n",
        "            \"options\": options,\n",
        "            \"type\": \"MCQs with One Correct Answer\",\n",
        "            \"correct_answer\": answer_val,\n",
        "        }\n",
        "        out.append(record)\n",
        "        cur += 1\n",
        "    return out\n",
        "\n",
        "def main(output_path=\"phyx_test_custom.json\", start_id=1690):\n",
        "    try:\n",
        "        ensure_package(\"datasets\")\n",
        "        ensure_package(\"huggingface-hub\")\n",
        "        # import after ensure\n",
        "        from datasets import __version__ as dver\n",
        "        print(f\"datasets version: {dver}\")\n",
        "    except Exception as e:\n",
        "        print(\"Failed to ensure datasets/huggingface-hub packages:\", e)\n",
        "        traceback.print_exc()\n",
        "        return\n",
        "\n",
        "    try:\n",
        "        print(\"Loading dataset Cloudriver/PhyX (test)...\")\n",
        "        ds = try_load_dataset()\n",
        "    except Exception as e:\n",
        "        print(\"ERROR while loading dataset:\")\n",
        "        traceback.print_exc()\n",
        "        # write an empty file and return to indicate failure but produce output\n",
        "        abs_path = os.path.abspath(output_path)\n",
        "        print(f\"Writing empty JSON [] to {abs_path} to avoid silent failure.\")\n",
        "        with open(output_path, \"w\", encoding=\"utf-8\") as f:\n",
        "            json.dump([], f, ensure_ascii=False, indent=2)\n",
        "        return\n",
        "\n",
        "    # convert to list and print some metadata\n",
        "    try:\n",
        "        ds_list = list(ds)\n",
        "        n = len(ds_list)\n",
        "        print(f\"Successfully loaded dataset split. Number of examples: {n}\")\n",
        "    except Exception as e:\n",
        "        print(\"Could not convert dataset to list; attempting to iterate.\")\n",
        "        traceback.print_exc()\n",
        "        ds_list = []\n",
        "        for i, r in enumerate(ds):\n",
        "            ds_list.append(r)\n",
        "        n = len(ds_list)\n",
        "        print(f\"Number of examples after iteration: {n}\")\n",
        "\n",
        "    print(\"Building JSON records...\")\n",
        "    records = build_json_records(ds_list, start_id=start_id)\n",
        "\n",
        "    # write file\n",
        "    abs_path = os.path.abspath(output_path)\n",
        "    with open(output_path, \"w\", encoding=\"utf-8\") as f:\n",
        "        json.dump(records, f, ensure_ascii=False, indent=2)\n",
        "\n",
        "    print(f\"Wrote {len(records)} records to {abs_path}\")\n",
        "    if records:\n",
        "        print(\"Preview of first record:\")\n",
        "        print(json.dumps(records[0], ensure_ascii=False, indent=2))\n",
        "    else:\n",
        "        print(\"No records produced. Check dataset loading above.\")\n",
        "\n",
        "if __name__ == \"__main__\":\n",
        "    main()\n"
      ],
      "metadata": {
        "colab": {
          "base_uri": "https://localhost:8080/"
        },
        "id": "sjcdz0W9RlKP",
        "outputId": "0a905dcd-5578-45db-dc20-e191bd8763f6"
      },
      "execution_count": null,
      "outputs": [
        {
          "output_type": "stream",
          "name": "stdout",
          "text": [
            "Package 'huggingface-hub' not found. Installing...\n",
            "Installed 'huggingface-hub'.\n",
            "datasets version: 4.0.0\n",
            "Loading dataset Cloudriver/PhyX (test)...\n",
            "Attempt: load_dataset('Cloudriver/PhyX', split='test')\n",
            "Successfully loaded dataset split. Number of examples: 3000\n",
            "Building JSON records...\n",
            "Wrote 3000 records to /content/phyx_test_custom.json\n",
            "Preview of first record:\n",
            "{\n",
            "  \"id\": 1690,\n",
            "  \"image\": \"images/image1690.png\",\n",
            "  \"text\": \"How large should these pulls be?\\n\\nA patient with a dislocated shoulder is put into a traction apparatus as shown in figure. The pulls $\\\\vec{A}$ and $\\\\vec{B}have equal magnitudes and must combine to produce an outward traction force of 12.8 N on the patient’s arm.\",\n",
            "  \"options\": [\n",
            "    \"A: 7.55N\",\n",
            "    \"B: 5.55N\",\n",
            "    \"C: 7.65N\",\n",
            "    \"D: 6.65N\"\n",
            "  ],\n",
            "  \"type\": \"MCQs with One Correct Answer\",\n",
            "  \"correct_answer\": \"A\"\n",
            "}\n"
          ]
        }
      ]
    },
    {
      "cell_type": "code",
      "source": [
        "\n",
        "\n",
        "import io\n",
        "import json\n",
        "import os\n",
        "import sys\n",
        "import subprocess\n",
        "import zipfile\n",
        "import traceback\n",
        "\n",
        "# ---------- helper to ensure packages ----------\n",
        "def ensure_package(pkg_name, import_name=None):\n",
        "    import_name = import_name or pkg_name\n",
        "    try:\n",
        "        __import__(import_name)\n",
        "    except Exception:\n",
        "        print(f\"Package '{pkg_name}' not found — installing...\")\n",
        "        subprocess.check_call([sys.executable, \"-m\", \"pip\", \"install\", pkg_name])\n",
        "        print(f\"Installed '{pkg_name}'.\")\n",
        "\n",
        "# ensure required packages\n",
        "for pkg in (\"datasets\", \"Pillow\", \"requests\", \"tqdm\"):\n",
        "    ensure_package(pkg)\n",
        "\n",
        "from datasets import load_dataset\n",
        "from PIL import Image\n",
        "import requests\n",
        "from tqdm import tqdm\n",
        "\n",
        "# ---------- configuration ----------\n",
        "START_ID = 1690\n",
        "OUTPUT_ZIP = \"phyx_images_and_data.zip\"\n",
        "OUTPUT_JSON_NAME = \"phyx_test_custom.json\"\n",
        "IMAGES_DIR_IN_ZIP = \"images\"  # images stored under images/image{ID}.png\n",
        "PLACEHOLDER_SIZE = (1, 1)  # 1x1 PNG placeholder for missing images\n",
        "REQUESTS_TIMEOUT = 15  # seconds\n",
        "\n",
        "# ---------- utility functions ----------\n",
        "def load_phyx_test():\n",
        "    \"\"\"Try multiple ways to load the test split.\"\"\"\n",
        "    attempts = []\n",
        "    try:\n",
        "        print(\"Attempting: load_dataset('Cloudriver/PhyX', split='test') ...\")\n",
        "        ds = load_dataset(\"Cloudriver/PhyX\", split=\"test\")\n",
        "        return ds\n",
        "    except Exception as e:\n",
        "        attempts.append((\"split=test\", e))\n",
        "    try:\n",
        "        print(\"Attempting: load_dataset('Cloudriver/PhyX', 'default', split='test') ...\")\n",
        "        ds = load_dataset(\"Cloudriver/PhyX\", \"default\", split=\"test\")\n",
        "        return ds\n",
        "    except Exception as e:\n",
        "        attempts.append((\"config default + split\", e))\n",
        "    try:\n",
        "        print(\"Attempting: load_dataset('Cloudriver/PhyX') then select ['test'] ...\")\n",
        "        ds_all = load_dataset(\"Cloudriver/PhyX\")\n",
        "        if \"test\" in ds_all:\n",
        "            return ds_all[\"test\"]\n",
        "        else:\n",
        "            raise RuntimeError(f\"'test' not found in splits: {list(ds_all.keys())}\")\n",
        "    except Exception as e:\n",
        "        attempts.append((\"load full dataset\", e))\n",
        "    # raise combined error\n",
        "    msg = \"Failed to load dataset. Attempts:\\n\"\n",
        "    for name, err in attempts:\n",
        "        msg += f\" - {name}: {repr(err)}\\n\"\n",
        "    raise RuntimeError(msg)\n",
        "\n",
        "def build_text(item):\n",
        "    q = item.get(\"question\") or \"\"\n",
        "    qd = item.get(\"question_description\") or \"\"\n",
        "    if q and qd:\n",
        "        return q.strip() + \"\\n\\n\" + qd.strip()\n",
        "    return (q + qd).strip()\n",
        "\n",
        "def normalize_answer(ans):\n",
        "    if isinstance(ans, (list, tuple)):\n",
        "        return ans[0] if ans else None\n",
        "    return ans\n",
        "\n",
        "def find_image_source(item):\n",
        "    \"\"\"\n",
        "    Try to find an image source inside the dataset example.\n",
        "    Returns a tuple (type, value) where type in {'url','local_path','pil','bytes','none'}.\n",
        "    \"\"\"\n",
        "    # direct 'image' field\n",
        "    image_field = item.get(\"image\")\n",
        "    if image_field is not None:\n",
        "        # If it's a PIL.Image\n",
        "        if isinstance(image_field, Image.Image):\n",
        "            return (\"pil\", image_field)\n",
        "        # If it's bytes\n",
        "        if isinstance(image_field, (bytes, bytearray)):\n",
        "            return (\"bytes\", bytes(image_field))\n",
        "        # If it's a string (likely a URL or local path)\n",
        "        if isinstance(image_field, str):\n",
        "            if image_field.startswith(\"http://\") or image_field.startswith(\"https://\"):\n",
        "                return (\"url\", image_field)\n",
        "            else:\n",
        "                return (\"local_path\", image_field)\n",
        "        # If it's a dict-like\n",
        "        if isinstance(image_field, dict):\n",
        "            # common keys: 'path', 'file', 'url', 'image', 'image_url'\n",
        "            for k in (\"url\", \"image_url\", \"src\", \"path\", \"file\", \"filename\"):\n",
        "                if k in image_field and image_field[k]:\n",
        "                    val = image_field[k]\n",
        "                    if isinstance(val, str):\n",
        "                        if val.startswith(\"http://\") or val.startswith(\"https://\"):\n",
        "                            return (\"url\", val)\n",
        "                        else:\n",
        "                            return (\"local_path\", val)\n",
        "            # maybe nested bytes or PIL\n",
        "            if \"bytes\" in image_field and image_field[\"bytes\"]:\n",
        "                return (\"bytes\", image_field[\"bytes\"])\n",
        "            # unknown dict case: try to stringify\n",
        "            return (\"unknown_dict\", image_field)\n",
        "\n",
        "    # try other common keys\n",
        "    for k in (\"image_url\", \"img_url\", \"img\", \"image_path\", \"image_filename\", \"url\"):\n",
        "        if k in item and item[k]:\n",
        "            val = item[k]\n",
        "            if isinstance(val, str):\n",
        "                if val.startswith(\"http://\") or val.startswith(\"https://\"):\n",
        "                    return (\"url\", val)\n",
        "                else:\n",
        "                    return (\"local_path\", val)\n",
        "            if isinstance(val, Image.Image):\n",
        "                return (\"pil\", val)\n",
        "            if isinstance(val, (bytes, bytearray)):\n",
        "                return (\"bytes\", bytes(val))\n",
        "\n",
        "    # search for any field name containing 'image' or 'img'\n",
        "    for key, val in item.items():\n",
        "        if key and (\"image\" in key.lower() or \"img\" in key.lower()):\n",
        "            if isinstance(val, str):\n",
        "                if val.startswith(\"http://\") or val.startswith(\"https://\"):\n",
        "                    return (\"url\", val)\n",
        "                else:\n",
        "                    return (\"local_path\", val)\n",
        "            if isinstance(val, Image.Image):\n",
        "                return (\"pil\", val)\n",
        "            if isinstance(val, (bytes, bytearray)):\n",
        "                return (\"bytes\", bytes(val))\n",
        "            if isinstance(val, dict):\n",
        "                # try same logic\n",
        "                for k2 in (\"url\", \"path\", \"image_url\"):\n",
        "                    if k2 in val and isinstance(val[k2], str):\n",
        "                        if val[k2].startswith(\"http\"):\n",
        "                            return (\"url\", val[k2])\n",
        "                        else:\n",
        "                            return (\"local_path\", val[k2])\n",
        "                if \"bytes\" in val:\n",
        "                    return (\"bytes\", val[\"bytes\"])\n",
        "    # no image found\n",
        "    return (\"none\", None)\n",
        "\n",
        "def get_image_bytes_from_source(src_type, src_value):\n",
        "    \"\"\"\n",
        "    Return raw PNG bytes (or bytes convertible to PNG) for writing into zip.\n",
        "    Ensures image bytes are PNG-formatted.\n",
        "    \"\"\"\n",
        "    # If PIL Image -> save to PNG bytes\n",
        "    if src_type == \"pil\":\n",
        "        bio = io.BytesIO()\n",
        "        src_value.save(bio, format=\"PNG\")\n",
        "        return bio.getvalue()\n",
        "    if src_type == \"bytes\":\n",
        "        # Try to load via PIL to ensure PNG format (and convert if necessary)\n",
        "        try:\n",
        "            bio_in = io.BytesIO(src_value)\n",
        "            img = Image.open(bio_in)\n",
        "            out = io.BytesIO()\n",
        "            img.save(out, format=\"PNG\")\n",
        "            return out.getvalue()\n",
        "        except Exception:\n",
        "            # bytes not image -> return as-is\n",
        "            return bytes(src_value)\n",
        "    if src_type == \"local_path\":\n",
        "        # read file from disk\n",
        "        path = src_value\n",
        "        if not os.path.isabs(path):\n",
        "            # sometimes dataset returns relative cache path — try as-is\n",
        "            path = os.path.expanduser(path)\n",
        "        try:\n",
        "            with open(path, \"rb\") as f:\n",
        "                content = f.read()\n",
        "            # normalize via PIL\n",
        "            try:\n",
        "                img = Image.open(io.BytesIO(content))\n",
        "                out = io.BytesIO()\n",
        "                img.save(out, format=\"PNG\")\n",
        "                return out.getvalue()\n",
        "            except Exception:\n",
        "                return content\n",
        "        except Exception as e:\n",
        "            raise RuntimeError(f\"Could not read local image path '{src_value}': {e}\")\n",
        "    if src_type == \"url\":\n",
        "        url = src_value\n",
        "        try:\n",
        "            resp = requests.get(url, stream=True, timeout=REQUESTS_TIMEOUT)\n",
        "            resp.raise_for_status()\n",
        "            content = resp.content\n",
        "            # normalize via PIL\n",
        "            try:\n",
        "                img = Image.open(io.BytesIO(content))\n",
        "                out = io.BytesIO()\n",
        "                img.save(out, format=\"PNG\")\n",
        "                return out.getvalue()\n",
        "            except Exception:\n",
        "                # if not a recognizable image, return raw bytes\n",
        "                return content\n",
        "        except Exception as e:\n",
        "            raise RuntimeError(f\"Failed to download image from {url}: {e}\")\n",
        "    if src_type == \"unknown_dict\":\n",
        "        # try to serialize or find nested url/path\n",
        "        if isinstance(src_value, dict):\n",
        "            for k in (\"url\", \"image_url\", \"path\"):\n",
        "                v = src_value.get(k)\n",
        "                if isinstance(v, str):\n",
        "                    if v.startswith(\"http\"):\n",
        "                        return get_image_bytes_from_source(\"url\", v)\n",
        "                    else:\n",
        "                        return get_image_bytes_from_source(\"local_path\", v)\n",
        "        raise RuntimeError(\"Unknown dict image format and no url/path found.\")\n",
        "    if src_type == \"none\":\n",
        "        raise RuntimeError(\"No image source available.\")\n",
        "    # fallback\n",
        "    raise RuntimeError(f\"Unhandled src_type: {src_type}\")\n",
        "\n",
        "def make_placeholder_png_bytes(size=(1,1)):\n",
        "    img = Image.new(\"RGBA\", size, (0,0,0,0))\n",
        "    bio = io.BytesIO()\n",
        "    img.save(bio, format=\"PNG\")\n",
        "    return bio.getvalue()\n",
        "\n",
        "# ---------- main logic ----------\n",
        "def main():\n",
        "    try:\n",
        "        ds = load_phyx_test()\n",
        "    except Exception as e:\n",
        "        print(\"ERROR: could not load dataset:\", e)\n",
        "        traceback.print_exc()\n",
        "        sys.exit(1)\n",
        "\n",
        "    # convert to list (so we can iterate twice)\n",
        "    try:\n",
        "        examples = list(ds)\n",
        "    except Exception:\n",
        "        examples = [x for x in ds]\n",
        "\n",
        "    n = len(examples)\n",
        "    print(f\"Loaded dataset split with {n} examples.\")\n",
        "\n",
        "    records = []\n",
        "    current_id = START_ID\n",
        "\n",
        "    # create an in-memory zip (but we will write to disk at the end)\n",
        "    with zipfile.ZipFile(OUTPUT_ZIP, mode=\"w\", compression=zipfile.ZIP_DEFLATED) as zf:\n",
        "        # iterate with progress\n",
        "        for idx, item in enumerate(tqdm(examples, desc=\"Processing examples\", unit=\"ex\")):\n",
        "            try:\n",
        "                # Build json record\n",
        "                text = build_text(item)\n",
        "                options = item.get(\"options\") or []\n",
        "                answer_val = normalize_answer(item.get(\"answer\"))\n",
        "\n",
        "                record = {\n",
        "                    \"id\": current_id,\n",
        "                    \"image\": f\"{IMAGES_DIR_IN_ZIP}/image{current_id}.png\",\n",
        "                    \"text\": text,\n",
        "                    \"options\": options,\n",
        "                    \"type\": \"MCQs with One Correct Answer\",\n",
        "                    \"correct_answer\": answer_val\n",
        "                }\n",
        "                records.append(record)\n",
        "\n",
        "                # Determine image source\n",
        "                src_type, src_value = find_image_source(item)\n",
        "\n",
        "                try:\n",
        "                    img_bytes = get_image_bytes_from_source(src_type, src_value)\n",
        "                except Exception as e_img:\n",
        "                    # log and fallback to placeholder\n",
        "                    print(f\"Warning: could not get image for example index {idx} (id={current_id}): {e_img}\")\n",
        "                    img_bytes = make_placeholder_png_bytes(PLACEHOLDER_SIZE)\n",
        "\n",
        "                # Write image bytes into zip at desired path\n",
        "                img_path_in_zip = f\"{IMAGES_DIR_IN_ZIP}/image{current_id}.png\"\n",
        "                zf.writestr(img_path_in_zip, img_bytes)\n",
        "\n",
        "            except Exception as e:\n",
        "                print(f\"ERROR processing example index {idx}: {e}\")\n",
        "                traceback.print_exc()\n",
        "                # still add a placeholder record so indexing remains consistent\n",
        "                record = {\n",
        "                    \"id\": current_id,\n",
        "                    \"image\": f\"{IMAGES_DIR_IN_ZIP}/image{current_id}.png\",\n",
        "                    \"text\": \"\",\n",
        "                    \"options\": [],\n",
        "                    \"type\": \"MCQs with One Correct Answer\",\n",
        "                    \"correct_answer\": None\n",
        "                }\n",
        "                records.append(record)\n",
        "                zf.writestr(f\"{IMAGES_DIR_IN_ZIP}/image{current_id}.png\", make_placeholder_png_bytes(PLACEHOLDER_SIZE))\n",
        "\n",
        "            current_id += 1\n",
        "\n",
        "        # After images are written, write the JSON file into the zip\n",
        "        json_bytes = json.dumps(records, ensure_ascii=False, indent=2).encode(\"utf-8\")\n",
        "        zf.writestr(OUTPUT_JSON_NAME, json_bytes)\n",
        "\n",
        "    # done\n",
        "    abs_zip = os.path.abspath(OUTPUT_ZIP)\n",
        "    print(f\"Finished. Created ZIP: {abs_zip}\")\n",
        "    print(f\" - {len(records)} records written (IDs {START_ID}..{current_id-1})\")\n",
        "    print(f\" - JSON file inside ZIP: {OUTPUT_JSON_NAME}\")\n",
        "    print(f\" - Images inside ZIP at: {IMAGES_DIR_IN_ZIP}/image{{ID}}.png\")\n",
        "\n",
        "if __name__ == \"__main__\":\n",
        "    main()\n"
      ],
      "metadata": {
        "colab": {
          "base_uri": "https://localhost:8080/"
        },
        "id": "wmziMjgvTIM3",
        "outputId": "e80a6a22-5f76-4c1d-e5a6-9620b24aef96"
      },
      "execution_count": null,
      "outputs": [
        {
          "output_type": "stream",
          "name": "stdout",
          "text": [
            "Package 'Pillow' not found — installing...\n",
            "Installed 'Pillow'.\n",
            "Attempting: load_dataset('Cloudriver/PhyX', split='test') ...\n",
            "Loaded dataset split with 3000 examples.\n"
          ]
        },
        {
          "output_type": "stream",
          "name": "stderr",
          "text": [
            "Processing examples: 100%|██████████| 3000/3000 [01:21<00:00, 36.88ex/s]\n"
          ]
        },
        {
          "output_type": "stream",
          "name": "stdout",
          "text": [
            "Finished. Created ZIP: /content/phyx_images_and_data.zip\n",
            " - 3000 records written (IDs 1690..4689)\n",
            " - JSON file inside ZIP: phyx_test_custom.json\n",
            " - Images inside ZIP at: images/image{ID}.png\n"
          ]
        }
      ]
    },
    {
      "cell_type": "code",
      "source": [],
      "metadata": {
        "id": "iEMb2ImjUPo8"
      },
      "execution_count": null,
      "outputs": []
    }
  ]
}